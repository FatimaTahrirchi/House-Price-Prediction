{
 "cells": [
  {
   "cell_type": "code",
   "execution_count": 1,
   "metadata": {},
   "outputs": [],
   "source": [
    "import xgboost as xgb\n",
    "import numpy as np\n",
    "import pandas as pd\n",
    "import matplotlib.pyplot as plt\n",
    "plt.style.use('ggplot')\n",
    "from sklearn import metrics\n",
    "from datetime import datetime\n",
    "import seaborn as sns\n",
    "from keras.models import Sequential\n",
    "from keras.layers import Dense\n",
    "from keras.utils import model_to_dot\n",
    "from keras.utils import plot_model\n",
    "from mlxtend.preprocessing import TransactionEncoder\n",
    "from sklearn.model_selection import train_test_split\n",
    "from sklearn.linear_model import LinearRegression\n",
    "from sklearn.metrics import mean_squared_error,r2_score\n",
    "from statistics import variance\n",
    "from sklearn.svm import SVR\n",
    "from sklearn.neighbors import KNeighborsRegressor\n",
    "from sklearn.ensemble import RandomForestRegressor,RandomForestClassifier,ExtraTreesClassifier\n",
    "from tensorflow.keras.models import Sequential\n",
    "from tensorflow.keras.layers import Dense, Dropout\n",
    "from tensorflow.keras.callbacks import EarlyStopping, LambdaCallback\n",
    "from sklearn.linear_model import LogisticRegression\n",
    "from sklearn.metrics import accuracy_score, classification_report\n",
    "from sklearn.model_selection import KFold, cross_val_score,GridSearchCV\n",
    "from sklearn.feature_selection import RFE\n",
    "from xgboost import cv\n",
    "from sklearn.metrics import make_scorer\n",
    "from sklearn.utils.fixes import loguniform"
   ]
  },
  {
   "cell_type": "code",
   "execution_count": 2,
   "metadata": {},
   "outputs": [],
   "source": [
    "House_dataset=pd.read_csv(\"House_dataset.csv\")"
   ]
  },
  {
   "cell_type": "markdown",
   "metadata": {},
   "source": [
    "## Creating Training and Test Sets House dataset"
   ]
  },
  {
   "cell_type": "code",
   "execution_count": 3,
   "metadata": {},
   "outputs": [],
   "source": [
    "X=House_dataset.drop(['List Price', 'Sold Price', 'Days on Market','Sale to List %','price class', 'log price'],axis=1)\n",
    "Y=House_dataset[['Sold Price','log price',\"price class\"]]"
   ]
  },
  {
   "cell_type": "code",
   "execution_count": 4,
   "metadata": {},
   "outputs": [],
   "source": [
    "from sklearn.preprocessing import StandardScaler\n",
    "def X_norm(df):\n",
    "    ndf=pd.DataFrame()\n",
    "    for col in df.columns:\n",
    "        #norm btw 0 and 1\n",
    "        ndf[col]=df[col]/max(df[col])\n",
    "    #Z_score for 'Taxes' and 'Maint. Fees'\n",
    "    std_scaler = StandardScaler()\n",
    "    ndf[['Taxes']] = std_scaler.fit_transform(ndf[['Taxes']].values.tolist())\n",
    "    return ndf\n",
    "\n",
    "nX=X_norm(X)\n",
    "nY=Y.copy(deep=True)\n",
    "_MAX_Y=max(Y['Sold Price'])\n",
    "nY['Sold Price']=Y['Sold Price']/_MAX_Y"
   ]
  },
  {
   "cell_type": "code",
   "execution_count": 5,
   "metadata": {},
   "outputs": [],
   "source": [
    "X_train, X_test, Y_train, Y_test = train_test_split(nX, nY, test_size=0.15,stratify=nY[[\"price class\"]])"
   ]
  },
  {
   "cell_type": "code",
   "execution_count": 6,
   "metadata": {},
   "outputs": [],
   "source": [
    "def error_summary(y_true, y_pred):\n",
    "    MAPE=np.average(np.abs(y_true - y_pred) / y_true, axis=0)*100\n",
    "    RMSE=np.sqrt(mean_squared_error(y_true, y_pred))\n",
    "    R2=r2_score(y_true, y_pred)\n",
    "    APE=np.abs(y_true - y_pred) / y_true\n",
    "    acc=sum(APE<0.2)/len(APE)\n",
    "    dict_error={'Value':[R2,_MAX_Y*RMSE,MAPE,acc]}\n",
    "    index_error=['R2','RMSE','MAPE',\"ACC(APE<20%)\"]\n",
    "    df = pd.DataFrame(dict_error,index=index_error)\n",
    "    return round(df,2).T\n",
    "\n",
    "def APE_hist(title,y_true, y_pred):\n",
    "    APE=(np.abs(y_true - y_pred) / y_true)\n",
    "    plt.hist(100*APE,bins=range(100),density=True,cumulative=True)\n",
    "    plt.title(title)\n",
    "    plt.xlabel('APE')\n",
    "    plt.ylabel('cumulative distribution')\n",
    "    \n",
    "def GS_score(y, y_pred):\n",
    "    ES=error_summary(y,y_pred)\n",
    "    return ES[\"ACC(APE<20%)\"].values\n",
    "\n",
    "def Log_GS_score(y, y_pred):\n",
    "    ES=error_summary(np.exp(y),np.exp(y_pred))\n",
    "    return ES[\"ACC(APE<20%)\"].values\n",
    "\n",
    "    "
   ]
  },
  {
   "cell_type": "markdown",
   "metadata": {},
   "source": [
    "#Grid Search for RandomForest with parameters 'n_estimators': range(300,1001,100),\n",
    "'max_depth' : range(5,31,5) and 'bootstrap': [True, False]"
   ]
  },
  {
   "cell_type": "code",
   "execution_count": 9,
   "metadata": {},
   "outputs": [
    {
     "name": "stdout",
     "output_type": "stream",
     "text": [
      "Best ACC(APE<20%): 0.852\n",
      "\n",
      "Optimal Model:\n",
      "RandomForestRegressor(max_depth=25, n_estimators=800)\n",
      "\n",
      "{'bootstrap': True, 'max_depth': 25, 'n_estimators': 800}\n"
     ]
    }
   ],
   "source": [
    "param_grid = { \n",
    "    'n_estimators': range(300,1001,100),\n",
    "    'max_depth' : range(5,31,5),\n",
    "    'bootstrap': [True, False]\n",
    "    \n",
    "}\n",
    "ACC = make_scorer(GS_score)\n",
    "rfr=RandomForestRegressor()\n",
    "rf_tune =GridSearchCV(estimator=rfr, param_grid=param_grid,\n",
    "                             cv = 5,\n",
    "                             scoring=ACC,\n",
    "                             n_jobs = -1)\n",
    "rf_opt = rf_tune.fit(X_train, Y_train['Sold Price'])\n",
    "print(\"Best ACC(APE<20%): \" + str(rf_opt.best_score_) + \"\\n\")\n",
    "print(\"Optimal Model:\\n\" + str(rf_opt.best_estimator_) + \"\\n\")\n",
    "print(rf_opt.best_params_)"
   ]
  },
  {
   "cell_type": "code",
   "execution_count": null,
   "metadata": {},
   "outputs": [],
   "source": [
    "#Used best result of grid search from random forest\n",
    "#in smaller range with grid search"
   ]
  },
  {
   "cell_type": "code",
   "execution_count": 12,
   "metadata": {},
   "outputs": [
    {
     "name": "stdout",
     "output_type": "stream",
     "text": [
      "Best ACC(APE<20%): 0.852\n",
      "\n",
      "Optimal Model:\n",
      "RandomForestRegressor(max_depth=20, n_estimators=800)\n",
      "\n",
      "{'max_depth': 20, 'n_estimators': 800}\n"
     ]
    }
   ],
   "source": [
    "param_grid = { \n",
    "    'n_estimators': range(750,851,10),\n",
    "    'max_depth' : range(20,31)  \n",
    "}\n",
    "ACC = make_scorer(GS_score)\n",
    "rfr=RandomForestRegressor(bootstrap=True)\n",
    "rf_tune =GridSearchCV(estimator=rfr, param_grid=param_grid,\n",
    "                             cv = 5,\n",
    "                             scoring=ACC,\n",
    "                             n_jobs = -1)\n",
    "\n",
    "rf_opt = rf_tune.fit(X_train, Y_train['Sold Price'])\n",
    "print(\"Best ACC(APE<20%): \" + str(rf_opt.best_score_) + \"\\n\")\n",
    "print(\"Optimal Model:\\n\" + str(rf_opt.best_estimator_) + \"\\n\")\n",
    "print(rf_opt.best_params_)"
   ]
  },
  {
   "cell_type": "code",
   "execution_count": null,
   "metadata": {},
   "outputs": [],
   "source": [
    "# used the 'max_depth': 20, 'n_estimators': 800 as the best param to predict \n",
    "# house prices and display the evaluation methods"
   ]
  },
  {
   "cell_type": "code",
   "execution_count": null,
   "metadata": {},
   "outputs": [],
   "source": [
    "#87% of samples predicted by ACC(APE<20%)"
   ]
  },
  {
   "cell_type": "code",
   "execution_count": 13,
   "metadata": {},
   "outputs": [
    {
     "name": "stdout",
     "output_type": "stream",
     "text": [
      "         R2       RMSE  MAPE  ACC(APE<20%)\n",
      "Value  0.87  183343.56  10.8          0.87\n"
     ]
    },
    {
     "data": {
      "image/png": "[encoded data removed]",
      "text/plain": [
       "<Figure size 432x288 with 1 Axes>"
      ]
     },
     "metadata": {},
     "output_type": "display_data"
    }
   ],
   "source": [
    "grid_predictions = rf_opt.predict(X_test)\n",
    "print(error_summary(Y_test['Sold Price'],grid_predictions))\n",
    "APE_hist(\"RandomForest SP gridSearch\",Y_test['Sold Price'],grid_predictions)"
   ]
  },
  {
   "cell_type": "code",
   "execution_count": null,
   "metadata": {},
   "outputs": [],
   "source": [
    "#Grid Search for RandomForest with parameters \n",
    "#'n_estimators': range(700,1501,100), 'max_depth' : range(15,41) \n",
    "#and 'bootstrap': [True, False]"
   ]
  },
  {
   "cell_type": "code",
   "execution_count": 14,
   "metadata": {},
   "outputs": [
    {
     "name": "stdout",
     "output_type": "stream",
     "text": [
      "Best ACC(APE<20%): 0.858\n",
      "\n",
      "Optimal Model:\n",
      "RandomForestRegressor(max_depth=20, n_estimators=1100)\n",
      "\n",
      "{'bootstrap': True, 'max_depth': 20, 'n_estimators': 1100}\n"
     ]
    }
   ],
   "source": [
    "param_grid = { \n",
    "    'n_estimators': range(700,1501,100),\n",
    "    'max_depth' : range(15,41,5),\n",
    "    'bootstrap': [True, False]\n",
    "    \n",
    "}\n",
    "ACC = make_scorer(Log_GS_score)\n",
    "rfr=RandomForestRegressor()\n",
    "rf_tune =GridSearchCV(estimator=rfr, param_grid=param_grid,\n",
    "                             cv = 5,\n",
    "                             scoring=ACC,\n",
    "                             n_jobs = -1)\n",
    "rf_opt = rf_tune.fit(X_train, Y_train['log price'])\n",
    "print(\"Best ACC(APE<20%): \" + str(rf_opt.best_score_) + \"\\n\")\n",
    "print(\"Optimal Model:\\n\" + str(rf_opt.best_estimator_) + \"\\n\")\n",
    "print(rf_opt.best_params_)"
   ]
  },
  {
   "cell_type": "code",
   "execution_count": null,
   "metadata": {},
   "outputs": [],
   "source": [
    "#Used the best result of grid search from random forest\n",
    "#in smaller range with grid search"
   ]
  },
  {
   "cell_type": "code",
   "execution_count": 15,
   "metadata": {},
   "outputs": [
    {
     "name": "stdout",
     "output_type": "stream",
     "text": [
      "Best ACC(APE<20%): 0.858\n",
      "\n",
      "Optimal Model:\n",
      "RandomForestRegressor(max_depth=17, n_estimators=1060)\n",
      "\n",
      "{'max_depth': 17, 'n_estimators': 1060}\n"
     ]
    }
   ],
   "source": [
    "param_grid = { \n",
    "    'n_estimators': range(1050,1151,10),\n",
    "    'max_depth' : range(16,24),\n",
    "    \n",
    "}\n",
    "ACC = make_scorer(Log_GS_score)\n",
    "rfr=RandomForestRegressor()\n",
    "rf_tune =GridSearchCV(estimator=rfr, param_grid=param_grid,\n",
    "                             cv = 5,\n",
    "                             scoring=ACC,\n",
    "                             n_jobs = -1)\n",
    "\n",
    "rf_opt = rf_tune.fit(X_train, Y_train['log price'])\n",
    "print(\"Best ACC(APE<20%): \" + str(rf_opt.best_score_) + \"\\n\")\n",
    "print(\"Optimal Model:\\n\" + str(rf_opt.best_estimator_) + \"\\n\")\n",
    "print(rf_opt.best_params_)"
   ]
  },
  {
   "cell_type": "code",
   "execution_count": 16,
   "metadata": {},
   "outputs": [
    {
     "name": "stdout",
     "output_type": "stream",
     "text": [
      "         R2       RMSE   MAPE  ACC(APE<20%)\n",
      "Value  0.86  186504.39  10.65          0.87\n"
     ]
    },
    {
     "data": {
      "image/png": "[encoded data removed]",
      "text/plain": [
       "<Figure size 432x288 with 1 Axes>"
      ]
     },
     "metadata": {},
     "output_type": "display_data"
    }
   ],
   "source": [
    "grid_predictions = np.exp(rf_opt.predict(X_test))/_MAX_Y\n",
    "print(error_summary(Y_test['Sold Price'],grid_predictions))\n",
    "APE_hist(\"RandomForest LogPrice gridSearch\",Y_test['Sold Price'],grid_predictions)"
   ]
  },
  {
   "cell_type": "code",
   "execution_count": null,
   "metadata": {},
   "outputs": [],
   "source": [
    "## K_Fold for the sold price {'max_depth': 20, 'n_estimators': 800}"
   ]
  },
  {
   "cell_type": "code",
   "execution_count": 17,
   "metadata": {},
   "outputs": [
    {
     "name": "stdout",
     "output_type": "stream",
     "text": [
      "R2=0.866(0.022)\n",
      "RMSE=183268(14341)\n",
      "MAPE=10.966(0.53)\n",
      "ACC(APE<20%)=0.86(0.022)\n"
     ]
    }
   ],
   "source": [
    "Kf_R2=[]\n",
    "Kf_RMSE=[]\n",
    "Kf_MAPE=[]\n",
    "Kf_ACC=[]\n",
    "folds = KFold(n_splits = 50, shuffle = True, random_state = 100)\n",
    "for train_index, test_index in folds.split(nX, nY):\n",
    "    rfr=RandomForestRegressor(n_estimators=800,\n",
    "                              max_depth=20,\n",
    "                              bootstrap=True).fit(nX.iloc[train_index],\n",
    "                                                  nY.iloc[train_index]['Sold Price'])\n",
    "                                \n",
    "    y_pred=rfr.predict(nX.iloc[test_index])\n",
    "    ES=error_summary(nY.iloc[test_index]['Sold Price'],y_pred)\n",
    "    \n",
    "    Kf_R2.append(ES['R2'].values)\n",
    "    Kf_RMSE.append(ES['RMSE'].values)\n",
    "    Kf_MAPE.append(ES['MAPE'].values)\n",
    "    Kf_ACC.append(ES[\"ACC(APE<20%)\"].values)\n",
    "    \n",
    "print(f\"R2={round(np.mean(Kf_R2),3)}({round(np.std(Kf_R2),3)})\") \n",
    "print(f\"RMSE={round(np.mean(Kf_RMSE))}({round(np.std(Kf_RMSE))})\") \n",
    "print(f\"MAPE={round(np.mean(Kf_MAPE),3)}({round(np.std(Kf_MAPE),3)})\")\n",
    "print(f\"ACC(APE<20%)={round(np.mean( Kf_ACC),3)}({round(np.std( Kf_ACC),3)})\") "
   ]
  },
  {
   "cell_type": "code",
   "execution_count": null,
   "metadata": {},
   "outputs": [],
   "source": [
    "## K-Fold for Log Price 'bootstrap': True, {'max_depth': 17, 'n_estimators': 1060}"
   ]
  },
  {
   "cell_type": "code",
   "execution_count": 18,
   "metadata": {},
   "outputs": [
    {
     "name": "stdout",
     "output_type": "stream",
     "text": [
      "R2=0.863(0.022)\n",
      "RMSE=185301(15460)\n",
      "MAPE=10.782(0.498)\n",
      "ACC(APE<20%)=0.865(0.021)\n"
     ]
    }
   ],
   "source": [
    "Kf_R2=[]\n",
    "Kf_RMSE=[]\n",
    "Kf_MAPE=[]\n",
    "Kf_ACC=[]\n",
    "folds = KFold(n_splits = 50, shuffle = True, random_state = 100)\n",
    "for train_index, test_index in folds.split(nX, nY):\n",
    "    rfr=RandomForestRegressor(n_estimators=1060,\n",
    "                              max_depth=17,\n",
    "                              bootstrap=True).fit(nX.iloc[train_index],\n",
    "                                                  nY.iloc[train_index]['log price'])\n",
    "                                \n",
    "    y_pred=np.exp(rfr.predict(nX.iloc[test_index]))/_MAX_Y\n",
    "    ES=error_summary(nY.iloc[test_index]['Sold Price'],y_pred)\n",
    "    \n",
    "    Kf_R2.append(ES['R2'].values)\n",
    "    Kf_RMSE.append(ES['RMSE'].values)\n",
    "    Kf_MAPE.append(ES['MAPE'].values)\n",
    "    Kf_ACC.append(ES[\"ACC(APE<20%)\"].values)\n",
    "    \n",
    "print(f\"R2={round(np.mean(Kf_R2),3)}({round(np.std(Kf_R2),3)})\") \n",
    "print(f\"RMSE={round(np.mean(Kf_RMSE))}({round(np.std(Kf_RMSE))})\") \n",
    "print(f\"MAPE={round(np.mean(Kf_MAPE),3)}({round(np.std(Kf_MAPE),3)})\")\n",
    "print(f\"ACC(APE<20%)={round(np.mean( Kf_ACC),3)}({round(np.std( Kf_ACC),3)})\") "
   ]
  },
  {
   "cell_type": "markdown",
   "metadata": {},
   "source": [
    "## XGBoost"
   ]
  },
  {
   "cell_type": "code",
   "execution_count": 19,
   "metadata": {},
   "outputs": [
    {
     "name": "stdout",
     "output_type": "stream",
     "text": [
      "Best ACC(APE<20%):0.868\n",
      "\n",
      "{'max_depth': 5, 'n_estimators': 70}\n"
     ]
    }
   ],
   "source": [
    "parameters = {'n_estimators': range(20,200,25), 'max_depth':range(5,51,5)}\n",
    "XGB_base =xgb.XGBRegressor()\n",
    "ACC = make_scorer(GS_score)\n",
    "XGB_tuned = GridSearchCV(XGB_base, parameters,\n",
    "                         cv = 5,\n",
    "                         scoring=ACC,\n",
    "                         n_jobs = -1)\n",
    "\n",
    "XGB_opt =XGB_tuned.fit(X_train, Y_train['Sold Price'])\n",
    "print(\"Best ACC(APE<20%):\" + str(XGB_opt.best_score_) + \"\\n\")\n",
    "#print(\"Optimal Model:\\n\" + str(XGB_opt.best_estimator_) + \"\\n\")\n",
    "print(XGB_opt.best_params_)"
   ]
  },
  {
   "cell_type": "code",
   "execution_count": 20,
   "metadata": {},
   "outputs": [
    {
     "name": "stdout",
     "output_type": "stream",
     "text": [
      "Best ACC(APE<20%):0.8699999999999999\n",
      "\n",
      "{'max_depth': 5, 'n_estimators': 77}\n"
     ]
    }
   ],
   "source": [
    "parameters = {'n_estimators': range(65,80,2), 'max_depth':range(3,20)}\n",
    "XGB_base =xgb.XGBRegressor()\n",
    "ACC = make_scorer(GS_score)\n",
    "XGB_tuned = GridSearchCV(XGB_base, parameters,\n",
    "                         cv = 5,\n",
    "                         scoring=ACC,\n",
    "                         n_jobs = -1)\n",
    "\n",
    "XGB_opt =XGB_tuned.fit(X_train, Y_train['Sold Price'])\n",
    "print(\"Best ACC(APE<20%):\" + str(XGB_opt.best_score_) + \"\\n\")\n",
    "#print(\"Optimal Model:\\n\" + str(XGB_opt.best_estimator_) + \"\\n\")\n",
    "print(XGB_opt.best_params_)"
   ]
  },
  {
   "cell_type": "code",
   "execution_count": 21,
   "metadata": {},
   "outputs": [
    {
     "name": "stdout",
     "output_type": "stream",
     "text": [
      "         R2       RMSE   MAPE  ACC(APE<20%)\n",
      "Value  0.88  174138.91  10.45          0.88\n"
     ]
    },
    {
     "data": {
      "image/png": "[encoded data removed]",
      "text/plain": [
       "<Figure size 432x288 with 1 Axes>"
      ]
     },
     "metadata": {},
     "output_type": "display_data"
    }
   ],
   "source": [
    "grid_predictions = XGB_opt.predict(X_test)\n",
    "print(error_summary(Y_test['Sold Price'],grid_predictions))\n",
    "APE_hist(\"XGBoost SoldPrice gridSearch\",Y_test['Sold Price'],grid_predictions)"
   ]
  },
  {
   "cell_type": "code",
   "execution_count": 22,
   "metadata": {},
   "outputs": [
    {
     "name": "stdout",
     "output_type": "stream",
     "text": [
      "Best ACC(APE<20%):0.8779999999999999\n",
      "\n",
      "{'max_depth': 5, 'n_estimators': 120}\n"
     ]
    }
   ],
   "source": [
    "parameters = {'n_estimators': range(20,200,25), 'max_depth':range(5,51,5)}\n",
    "XGB_base =xgb.XGBRegressor()\n",
    "ACC = make_scorer(Log_GS_score)\n",
    "XGB_tuned = GridSearchCV(XGB_base, parameters,\n",
    "                         cv = 5,\n",
    "                         scoring=ACC,\n",
    "                         n_jobs = -1)\n",
    "\n",
    "XGB_opt =XGB_tuned.fit(X_train, Y_train['log price'])\n",
    "print(\"Best ACC(APE<20%):\" + str(XGB_opt.best_score_) + \"\\n\")\n",
    "#print(\"Optimal Model:\\n\" + str(XGB_opt.best_estimator_) + \"\\n\")\n",
    "print(XGB_opt.best_params_)"
   ]
  },
  {
   "cell_type": "code",
   "execution_count": 23,
   "metadata": {},
   "outputs": [
    {
     "name": "stdout",
     "output_type": "stream",
     "text": [
      "Best ACC(APE<20%):0.8779999999999999\n",
      "\n",
      "{'max_depth': 4, 'n_estimators': 115}\n"
     ]
    }
   ],
   "source": [
    "parameters = {'n_estimators': range(115,125), 'max_depth':range(3,21)}\n",
    "XGB_base =xgb.XGBRegressor()\n",
    "ACC = make_scorer(Log_GS_score)\n",
    "XGB_tuned = GridSearchCV(XGB_base, parameters,\n",
    "                         cv = 5,\n",
    "                         scoring=ACC,\n",
    "                         n_jobs = -1)\n",
    "\n",
    "XGB_opt =XGB_tuned.fit(X_train, Y_train['log price'])\n",
    "print(\"Best ACC(APE<20%):\" + str(XGB_opt.best_score_) + \"\\n\")\n",
    "#print(\"Optimal Model:\\n\" + str(XGB_opt.best_estimator_) + \"\\n\")\n",
    "print(XGB_opt.best_params_)"
   ]
  },
  {
   "cell_type": "code",
   "execution_count": 24,
   "metadata": {},
   "outputs": [
    {
     "name": "stdout",
     "output_type": "stream",
     "text": [
      "         R2       RMSE   MAPE  ACC(APE<20%)\n",
      "Value  0.88  173514.69  10.04          0.87\n"
     ]
    },
    {
     "data": {
      "image/png": "[encoded data removed]",
      "text/plain": [
       "<Figure size 432x288 with 1 Axes>"
      ]
     },
     "metadata": {},
     "output_type": "display_data"
    }
   ],
   "source": [
    "grid_predictions = np.exp(XGB_opt.predict(X_test))/_MAX_Y\n",
    "print(error_summary(Y_test['Sold Price'],grid_predictions))\n",
    "APE_hist(\"XGBoost LogPrice gridSearch\",Y_test['Sold Price'],grid_predictions)"
   ]
  },
  {
   "cell_type": "code",
   "execution_count": null,
   "metadata": {},
   "outputs": [],
   "source": [
    "#k-fold for sold price(XGBoost)"
   ]
  },
  {
   "cell_type": "code",
   "execution_count": 25,
   "metadata": {},
   "outputs": [
    {
     "name": "stdout",
     "output_type": "stream",
     "text": [
      "R2=0.881(0.018)\n",
      "RMSE=172180(12992)\n",
      "MAPE=10.406(0.519)\n",
      "ACC(APE<20%)=0.875(0.018)\n"
     ]
    }
   ],
   "source": [
    "Kf_R2=[]\n",
    "Kf_RMSE=[]\n",
    "Kf_MAPE=[]\n",
    "Kf_ACC=[]\n",
    "folds = KFold(n_splits = 50, shuffle = True, random_state = 100)\n",
    "for train_index, test_index in folds.split(nX, nY):\n",
    "    XGBoost=xgb.XGBRegressor(n_estimators=77,\n",
    "                             max_depth=5).fit(nX.iloc[train_index],\n",
    "                                               nY.iloc[train_index]['Sold Price'])\n",
    "    \n",
    "    y_pred=XGBoost.predict(nX.iloc[test_index])\n",
    "    ES=error_summary(nY.iloc[test_index]['Sold Price'],y_pred)\n",
    "    Kf_R2.append(ES['R2'].values)\n",
    "    Kf_RMSE.append(ES['RMSE'].values)\n",
    "    Kf_MAPE.append(ES['MAPE'].values)\n",
    "    Kf_ACC.append(ES[\"ACC(APE<20%)\"].values)\n",
    "    \n",
    "print(f\"R2={round(np.mean(Kf_R2),3)}({round(np.std(Kf_R2),3)})\") \n",
    "print(f\"RMSE={round(np.mean(Kf_RMSE))}({round(np.std(Kf_RMSE))})\") \n",
    "print(f\"MAPE={round(np.mean(Kf_MAPE),3)}({round(np.std(Kf_MAPE),3)})\")\n",
    "print(f\"ACC(APE<20%)={round(np.mean( Kf_ACC),3)}({round(np.std( Kf_ACC),3)})\") "
   ]
  },
  {
   "cell_type": "code",
   "execution_count": null,
   "metadata": {},
   "outputs": [],
   "source": [
    "#k-fold for log price"
   ]
  },
  {
   "cell_type": "code",
   "execution_count": 27,
   "metadata": {},
   "outputs": [
    {
     "name": "stdout",
     "output_type": "stream",
     "text": [
      "R2=0.884(0.017)\n",
      "RMSE=171680(13373)\n",
      "MAPE=10.095(0.498)\n",
      "ACC(APE<20%)=0.881(0.018)\n"
     ]
    }
   ],
   "source": [
    "Kf_R2=[]\n",
    "Kf_RMSE=[]\n",
    "Kf_MAPE=[]\n",
    "Kf_ACC=[]\n",
    "folds = KFold(n_splits = 50, shuffle = True, random_state = 100)\n",
    "for train_index, test_index in folds.split(nX, nY):\n",
    "    XGBoost=xgb.XGBRegressor(n_estimators=115,\n",
    "                             max_depth=4).fit(nX.iloc[train_index],\n",
    "                                               nY.iloc[train_index]['log price'])\n",
    "    \n",
    "    y_pred=np.exp(XGBoost.predict(nX.iloc[test_index]))/_MAX_Y\n",
    "    ES=error_summary(nY.iloc[test_index]['Sold Price'],y_pred)  \n",
    "    Kf_R2.append(ES['R2'].values)\n",
    "    Kf_RMSE.append(ES['RMSE'].values)\n",
    "    Kf_MAPE.append(ES['MAPE'].values)\n",
    "    Kf_ACC.append(ES[\"ACC(APE<20%)\"].values)\n",
    "    \n",
    "print(f\"R2={round(np.mean(Kf_R2),3)}({round(np.std(Kf_R2),3)})\") \n",
    "print(f\"RMSE={round(np.mean(Kf_RMSE))}({round(np.std(Kf_RMSE))})\") \n",
    "print(f\"MAPE={round(np.mean(Kf_MAPE),3)}({round(np.std(Kf_MAPE),3)})\")\n",
    "print(f\"ACC(APE<20%)={round(np.mean( Kf_ACC),3)}({round(np.std( Kf_ACC),3)})\") "
   ]
  },
  {
   "cell_type": "code",
   "execution_count": null,
   "metadata": {},
   "outputs": [],
   "source": [
    "## implementation of SVR (SP) with gris dearch to find the best param\n",
    "# 'kernel':('linear','poly','rbf'), 'C':range(1,30)"
   ]
  },
  {
   "cell_type": "code",
   "execution_count": 31,
   "metadata": {},
   "outputs": [
    {
     "name": "stdout",
     "output_type": "stream",
     "text": [
      "Best ACC(APE<20%: 0.7539999999999999\n",
      "\n",
      "{'C': 1, 'kernel': 'rbf'}\n"
     ]
    }
   ],
   "source": [
    "parameters = {'kernel':('linear','poly','rbf'), 'C':range(1,30)}\n",
    "SVR_base = SVR(degree=2) #defult()\n",
    "ACC = make_scorer(GS_score)\n",
    "SVR_tuned = GridSearchCV(estimator=SVR_base, param_grid=parameters,\n",
    "                         cv = 5,scoring=ACC,n_jobs = -1)\n",
    "\n",
    "SVR_opt =SVR_tuned.fit(X_train, Y_train['Sold Price'])\n",
    "print(\"Best ACC(APE<20%: \" + str(SVR_opt.best_score_) + \"\\n\")\n",
    "#print(\"Optimal Model:\\n\" + str(SVR_opt.best_estimator_) + \"\\n\")\n",
    "print(SVR_opt.best_params_)"
   ]
  },
  {
   "cell_type": "code",
   "execution_count": 41,
   "metadata": {},
   "outputs": [
    {
     "name": "stdout",
     "output_type": "stream",
     "text": [
      "Best ACC(APE<20%: 0.7539999999999999\n",
      "\n",
      "{'C': 0.8}\n"
     ]
    }
   ],
   "source": [
    "parameters = {'C':[0.1*x for x in range(5,16)]}\n",
    "SVR_base = SVR(kernel='rbf') #defult()\n",
    "ACC = make_scorer(GS_score)\n",
    "SVR_tuned = GridSearchCV(estimator=SVR_base, param_grid=parameters,\n",
    "                         cv = 5,scoring=ACC,n_jobs = -1)\n",
    "\n",
    "SVR_opt =SVR_tuned.fit(X_train, Y_train['Sold Price'])\n",
    "print(\"Best ACC(APE<20%: \" + str(SVR_opt.best_score_) + \"\\n\")\n",
    "#print(\"Optimal Model:\\n\" + str(SVR_opt.best_estimator_) + \"\\n\")\n",
    "print(SVR_opt.best_params_)"
   ]
  },
  {
   "cell_type": "code",
   "execution_count": 42,
   "metadata": {},
   "outputs": [
    {
     "name": "stdout",
     "output_type": "stream",
     "text": [
      "         R2       RMSE   MAPE  ACC(APE<20%)\n",
      "Value  0.86  189569.33  13.89          0.77\n"
     ]
    },
    {
     "data": {
      "image/png": "[encoded data removed]",
      "text/plain": [
       "<Figure size 432x288 with 1 Axes>"
      ]
     },
     "metadata": {},
     "output_type": "display_data"
    }
   ],
   "source": [
    "grid_predictions = SVR_opt.predict(X_test)\n",
    "print(error_summary(Y_test['Sold Price'],grid_predictions))\n",
    "\n",
    "APE_hist(\"SVR SP gridSearch\",Y_test['Sold Price'],grid_predictions)"
   ]
  },
  {
   "cell_type": "code",
   "execution_count": null,
   "metadata": {},
   "outputs": [],
   "source": [
    "#SVR model with grid search to find the best param\n",
    "#parameters = {'kernel':('linear','poly','rbf'), 'C':range(1,30)}"
   ]
  },
  {
   "cell_type": "code",
   "execution_count": 33,
   "metadata": {},
   "outputs": [
    {
     "name": "stdout",
     "output_type": "stream",
     "text": [
      "Best ACC(APE<20%: 0.8640000000000001\n",
      "\n",
      "{'C': 2, 'kernel': 'rbf'}\n"
     ]
    }
   ],
   "source": [
    "parameters = {'kernel':('linear','poly','rbf'), 'C':range(1,30)}\n",
    "SVR_base = SVR(degree=2) #defult()\n",
    "ACC = make_scorer(Log_GS_score)\n",
    "SVR_tuned = GridSearchCV(estimator=SVR_base, param_grid=parameters,\n",
    "                         cv = 5,scoring=ACC,n_jobs = -1)\n",
    "                                \n",
    "SVR_opt =SVR_tuned.fit(X_train, Y_train['log price'])\n",
    "print(\"Best ACC(APE<20%: \" + str(SVR_opt.best_score_) + \"\\n\")\n",
    "#print(\"Optimal Model:\\n\" + str(SVR_opt.best_estimator_) + \"\\n\")\n",
    "print(SVR_opt.best_params_)"
   ]
  },
  {
   "cell_type": "code",
   "execution_count": 43,
   "metadata": {},
   "outputs": [
    {
     "name": "stdout",
     "output_type": "stream",
     "text": [
      "Best zero-one score: 0.8640000000000001\n",
      "\n",
      "{'C': 1.7000000000000002}\n"
     ]
    }
   ],
   "source": [
    "parameters = {'C':[0.1*x for x in range(15,26)]}\n",
    "SVR_base = SVR(kernel='rbf') #defult()\n",
    "ACC = make_scorer(Log_GS_score)\n",
    "SVR_tuned = GridSearchCV(estimator=SVR_base, param_grid=parameters,\n",
    "                         cv = 5,scoring=ACC,n_jobs = -1)\n",
    "                                \n",
    "SVR_opt =SVR_tuned.fit(X_train, Y_train['log price'])\n",
    "print(\"Best ACC(APE<20%: \" + str(SVR_opt.best_score_) + \"\\n\")\n",
    "#print(\"Optimal Model:\\n\" + str(SVR_opt.best_estimator_) + \"\\n\")\n",
    "print(SVR_opt.best_params_)"
   ]
  },
  {
   "cell_type": "code",
   "execution_count": 44,
   "metadata": {},
   "outputs": [
    {
     "name": "stdout",
     "output_type": "stream",
     "text": [
      "         R2      RMSE   MAPE  ACC(APE<20%)\n",
      "Value  0.88  175917.3  10.68          0.87\n"
     ]
    },
    {
     "data": {
      "image/png": "[encoded data removed]",
      "text/plain": [
       "<Figure size 432x288 with 1 Axes>"
      ]
     },
     "metadata": {},
     "output_type": "display_data"
    }
   ],
   "source": [
    "grid_predictions = np.exp(SVR_opt.predict(X_test))/_MAX_Y\n",
    "print(error_summary(Y_test['Sold Price'],grid_predictions))\n",
    "\n",
    "APE_hist(\"SVR LogPrice gridSearch\",Y_test['Sold Price'],grid_predictions)"
   ]
  },
  {
   "cell_type": "code",
   "execution_count": null,
   "metadata": {},
   "outputs": [],
   "source": [
    "#k-fold for svr (sold price)"
   ]
  },
  {
   "cell_type": "code",
   "execution_count": 45,
   "metadata": {},
   "outputs": [
    {
     "name": "stdout",
     "output_type": "stream",
     "text": [
      "R2=0.857(0.018)\n",
      "RMSE=189465(11230)\n",
      "MAPE=13.942(0.723)\n",
      "ACC(APE<20%)=0.763(0.03)\n"
     ]
    }
   ],
   "source": [
    "Kf_R2=[]\n",
    "Kf_RMSE=[]\n",
    "Kf_MAPE=[]\n",
    "Kf_ACC=[]\n",
    "folds = KFold(n_splits = 50, shuffle = True, random_state = 100)\n",
    "for train_index, test_index in folds.split(nX, nY):\n",
    "    SVRegressor=SVR(kernel='rbf', C=0.8).fit(nX.iloc[train_index],\n",
    "                                            nY.iloc[train_index]['Sold Price'])\n",
    "    \n",
    "    y_pred=SVRegressor.predict(nX.iloc[test_index])\n",
    "    ES=error_summary(nY.iloc[test_index]['Sold Price'],y_pred)\n",
    "    Kf_R2.append(ES['R2'].values)\n",
    "    Kf_RMSE.append(ES['RMSE'].values)\n",
    "    Kf_MAPE.append(ES['MAPE'].values)\n",
    "    Kf_ACC.append(ES[\"ACC(APE<20%)\"].values)\n",
    "    \n",
    "print(f\"R2={round(np.mean(Kf_R2),3)}({round(np.std(Kf_R2),3)})\") \n",
    "print(f\"RMSE={round(np.mean(Kf_RMSE))}({round(np.std(Kf_RMSE))})\") \n",
    "print(f\"MAPE={round(np.mean(Kf_MAPE),3)}({round(np.std(Kf_MAPE),3)})\")\n",
    "print(f\"ACC(APE<20%)={round(np.mean( Kf_ACC),3)}({round(np.std( Kf_ACC),3)})\") "
   ]
  },
  {
   "cell_type": "code",
   "execution_count": null,
   "metadata": {},
   "outputs": [],
   "source": [
    "#K-FOLD FOR SVR LOG PRICE"
   ]
  },
  {
   "cell_type": "code",
   "execution_count": 47,
   "metadata": {},
   "outputs": [
    {
     "name": "stdout",
     "output_type": "stream",
     "text": [
      "R2=0.878(0.018)\n",
      "RMSE=175388(12560)\n",
      "MAPE=10.652(0.534)\n",
      "ACC(APE<20%)=0.868(0.02)\n"
     ]
    }
   ],
   "source": [
    "Kf_R2=[]\n",
    "Kf_RMSE=[]\n",
    "Kf_MAPE=[]\n",
    "Kf_ACC=[]\n",
    "folds = KFold(n_splits = 50, shuffle = True, random_state = 100)\n",
    "for train_index, test_index in folds.split(nX, nY):\n",
    "    SVRegressor=SVR(kernel='rbf', C=1.7).fit(nX.iloc[train_index],\n",
    "                                            nY.iloc[train_index]['log price'])\n",
    "    \n",
    "    y_pred=np.exp(SVRegressor.predict(nX.iloc[test_index]))/_MAX_Y\n",
    "    ES=error_summary(nY.iloc[test_index]['Sold Price'],y_pred)\n",
    "    Kf_R2.append(ES['R2'].values)\n",
    "    Kf_RMSE.append(ES['RMSE'].values)\n",
    "    Kf_MAPE.append(ES['MAPE'].values)\n",
    "    Kf_ACC.append(ES[\"ACC(APE<20%)\"].values)\n",
    "    \n",
    "print(f\"R2={round(np.mean(Kf_R2),3)}({round(np.std(Kf_R2),3)})\") \n",
    "print(f\"RMSE={round(np.mean(Kf_RMSE))}({round(np.std(Kf_RMSE))})\") \n",
    "print(f\"MAPE={round(np.mean(Kf_MAPE),3)}({round(np.std(Kf_MAPE),3)})\")\n",
    "print(f\"ACC(APE<20%)={round(np.mean( Kf_ACC),3)}({round(np.std( Kf_ACC),3)})\") "
   ]
  },
  {
   "cell_type": "code",
   "execution_count": null,
   "metadata": {},
   "outputs": [],
   "source": []
  }
 ],
 "metadata": {
  "kernelspec": {
   "display_name": "Python 3",
   "language": "python",
   "name": "python3"
  },
  "language_info": {
   "codemirror_mode": {
    "name": "ipython",
    "version": 3
   },
   "file_extension": ".py",
   "mimetype": "text/x-python",
   "name": "python",
   "nbconvert_exporter": "python",
   "pygments_lexer": "ipython3",
   "version": "3.8.5"
  }
 },
 "nbformat": 4,
 "nbformat_minor": 4
}

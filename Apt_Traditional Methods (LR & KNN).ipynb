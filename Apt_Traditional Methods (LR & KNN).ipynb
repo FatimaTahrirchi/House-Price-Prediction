{
 "cells": [
  {
   "cell_type": "code",
   "execution_count": 1,
   "metadata": {},
   "outputs": [],
   "source": [
    "import xgboost as xgb\n",
    "import numpy as np\n",
    "import pandas as pd\n",
    "import matplotlib.pyplot as plt\n",
    "plt.style.use('ggplot')\n",
    "from sklearn import metrics\n",
    "from datetime import datetime\n",
    "import seaborn as sns\n",
    "from keras.models import Sequential\n",
    "from keras.layers import Dense\n",
    "from keras.utils import model_to_dot\n",
    "from keras.utils import plot_model\n",
    "from mlxtend.preprocessing import TransactionEncoder\n",
    "from sklearn.model_selection import train_test_split\n",
    "from sklearn.linear_model import LinearRegression\n",
    "from sklearn.metrics import mean_squared_error,r2_score\n",
    "from statistics import variance\n",
    "from sklearn.svm import SVR\n",
    "from sklearn.neighbors import KNeighborsRegressor\n",
    "from sklearn.ensemble import RandomForestRegressor,RandomForestClassifier,ExtraTreesClassifier\n",
    "from tensorflow.keras.models import Sequential\n",
    "from tensorflow.keras.layers import Dense, Dropout\n",
    "from tensorflow.keras.callbacks import EarlyStopping, LambdaCallback\n",
    "from sklearn.linear_model import LogisticRegression\n",
    "from sklearn.metrics import accuracy_score, classification_report\n",
    "from sklearn.model_selection import KFold, cross_val_score,GridSearchCV\n",
    "from sklearn.feature_selection import RFE\n",
    "from xgboost import cv\n",
    "from sklearn.metrics import make_scorer"
   ]
  },
  {
   "cell_type": "code",
   "execution_count": 2,
   "metadata": {},
   "outputs": [],
   "source": [
    "Apt_dataset=pd.read_csv(\"Apt_dataset.csv\")"
   ]
  },
  {
   "cell_type": "markdown",
   "metadata": {},
   "source": [
    "## Creating Training and Test Sets Apt dataset"
   ]
  },
  {
   "cell_type": "code",
   "execution_count": 3,
   "metadata": {},
   "outputs": [],
   "source": [
    "X=Apt_dataset.drop(['List Price', 'Sold Price', 'Days on Market','Sale to List %','price class', 'log price'],axis=1)\n",
    "Y=Apt_dataset[['Sold Price','log price',\"price class\"]]"
   ]
  },
  {
   "cell_type": "code",
   "execution_count": 4,
   "metadata": {},
   "outputs": [],
   "source": [
    "from sklearn.preprocessing import StandardScaler\n",
    "def X_norm(df):\n",
    "    ndf=pd.DataFrame()\n",
    "    for col in df.columns:\n",
    "        #norm btw 0 and 1\n",
    "        ndf[col]=df[col]/max(df[col])\n",
    "    #Z_score for 'Taxes' and 'Maint. Fees'\n",
    "    std_scaler = StandardScaler()\n",
    "    ndf[['Taxes','Maint. Fees']] = std_scaler.fit_transform(ndf[['Taxes','Maint. Fees']].values.tolist())\n",
    "    return ndf\n",
    "\n",
    "nX=X_norm(X)\n",
    "nY=Y.copy(deep=True)\n",
    "_MAX_Y=max(Y['Sold Price'])\n",
    "nY['Sold Price']=Y['Sold Price']/_MAX_Y"
   ]
  },
  {
   "cell_type": "code",
   "execution_count": 5,
   "metadata": {},
   "outputs": [],
   "source": [
    "X_train, X_test, Y_train, Y_test = train_test_split(nX, nY, test_size=0.15,stratify=nY[[\"price class\"]])"
   ]
  },
  {
   "cell_type": "code",
   "execution_count": 6,
   "metadata": {},
   "outputs": [],
   "source": [
    "def error_summary(y_true, y_pred):\n",
    "    MAPE=np.average(np.abs(y_true - y_pred) / y_true, axis=0)*100\n",
    "    RMSE=np.sqrt(mean_squared_error(y_true, y_pred))\n",
    "    R2=r2_score(y_true, y_pred)\n",
    "    APE=np.abs(y_true - y_pred) / y_true\n",
    "    acc=sum(APE<0.2)/len(APE)\n",
    "    dict_error={'Value':[R2,_MAX_Y*RMSE,MAPE,acc]}\n",
    "    index_error=['R2','RMSE','MAPE',\"ACC(APE<20%)\"]\n",
    "    df = pd.DataFrame(dict_error,index=index_error)\n",
    "    return round(df,2).T\n",
    "\n",
    "def APE_hist(title,y_true, y_pred):\n",
    "    APE=(np.abs(y_true - y_pred) / y_true)\n",
    "    plt.hist(100*APE,bins=range(100),density=True,cumulative=True)\n",
    "    plt.title(title)\n",
    "    plt.xlabel('APE')\n",
    "    plt.ylabel('cumulative distribution')\n",
    "    \n",
    "def GS_score(y, y_pred):\n",
    "    ES=error_summary(y,y_pred)\n",
    "    return ES[\"ACC(APE<20%)\"].values\n",
    "\n",
    "def Log_GS_score(y, y_pred):\n",
    "    ES=error_summary(np.exp(y),np.exp(y_pred))\n",
    "    return ES[\"ACC(APE<20%)\"].values"
   ]
  },
  {
   "cell_type": "markdown",
   "metadata": {},
   "source": [
    "## Linear Regression Model"
   ]
  },
  {
   "cell_type": "code",
   "execution_count": 7,
   "metadata": {},
   "outputs": [
    {
     "name": "stdout",
     "output_type": "stream",
     "text": [
      "         R2      RMSE   MAPE  ACC(APE<20%)\n",
      "Value  0.86  72961.54  10.86          0.87\n"
     ]
    },
    {
     "data": {
      "image/png": "[encoded data removed]",
      "text/plain": [
       "<Figure size 432x288 with 1 Axes>"
      ]
     },
     "metadata": {},
     "output_type": "display_data"
    }
   ],
   "source": [
    "LR= LinearRegression()\n",
    "LR.fit(X_train, Y_train['Sold Price'])\n",
    "y_pred=LR.predict(X_test)\n",
    "print(error_summary(Y_test['Sold Price'],y_pred))\n",
    "APE_hist(\"LinearRegression SP\",Y_test['Sold Price'], y_pred)"
   ]
  },
  {
   "cell_type": "markdown",
   "metadata": {},
   "source": [
    "Linear regression with log price"
   ]
  },
  {
   "cell_type": "code",
   "execution_count": 8,
   "metadata": {},
   "outputs": [
    {
     "name": "stdout",
     "output_type": "stream",
     "text": [
      "         R2      RMSE  MAPE  ACC(APE<20%)\n",
      "Value  0.79  90429.68  11.0          0.86\n"
     ]
    },
    {
     "data": {
      "image/png": "[encoded data removed]",
      "text/plain": [
       "<Figure size 432x288 with 1 Axes>"
      ]
     },
     "metadata": {},
     "output_type": "display_data"
    }
   ],
   "source": [
    "LR= LinearRegression()\n",
    "LR.fit(X_train, Y_train['log price'])\n",
    "y_pred=np.exp(LR.predict(X_test))/_MAX_Y\n",
    "print(error_summary(Y_test['Sold Price'],y_pred))\n",
    "APE_hist(\"LinearRegression logSP\",Y_test['Sold Price'], y_pred)"
   ]
  },
  {
   "cell_type": "code",
   "execution_count": 9,
   "metadata": {},
   "outputs": [],
   "source": [
    "## K-Fold"
   ]
  },
  {
   "cell_type": "code",
   "execution_count": 10,
   "metadata": {},
   "outputs": [
    {
     "name": "stdout",
     "output_type": "stream",
     "text": [
      "R2=0.871(0.02)\n",
      "RMSE=69778(5511)\n",
      "MAPE=10.505(0.532)\n",
      "ACC(APE<20%)=0.88(0.015)\n"
     ]
    }
   ],
   "source": [
    "Kf_R2=[]\n",
    "Kf_RMSE=[]\n",
    "Kf_MAPE=[]\n",
    "Kf_ACC=[]\n",
    "folds = KFold(n_splits = 50, shuffle = True, random_state = 100)\n",
    "for train_index, test_index in folds.split(nX, nY):\n",
    "    LR= LinearRegression().fit(nX.iloc[train_index], nY.iloc[train_index]['Sold Price'])\n",
    "    y_pred=LR.predict(nX.iloc[test_index])\n",
    "    ES=error_summary(nY.iloc[test_index]['Sold Price'],y_pred)\n",
    "    Kf_R2.append(ES['R2'].values)\n",
    "    Kf_RMSE.append(ES['RMSE'].values)\n",
    "    Kf_MAPE.append(ES['MAPE'].values)\n",
    "    Kf_ACC.append(ES[\"ACC(APE<20%)\"].values) \n",
    "print(f\"R2={round(np.mean(Kf_R2),3)}({round(np.std(Kf_R2),3)})\") \n",
    "print(f\"RMSE={round(np.mean(Kf_RMSE))}({round(np.std(Kf_RMSE))})\") \n",
    "print(f\"MAPE={round(np.mean(Kf_MAPE),3)}({round(np.std(Kf_MAPE),3)})\")\n",
    "print(f\"ACC(APE<20%)={round(np.mean( Kf_ACC),3)}({round(np.std( Kf_ACC),3)})\") "
   ]
  },
  {
   "cell_type": "code",
   "execution_count": 11,
   "metadata": {},
   "outputs": [],
   "source": [
    "#K-Fold with log price"
   ]
  },
  {
   "cell_type": "code",
   "execution_count": 12,
   "metadata": {},
   "outputs": [
    {
     "name": "stdout",
     "output_type": "stream",
     "text": [
      "R2=0.786(0.069)\n",
      "RMSE=89587(16960)\n",
      "MAPE=10.701(0.537)\n",
      "ACC(APE<20%)=0.871(0.016)\n"
     ]
    }
   ],
   "source": [
    "Kf_R2=[]\n",
    "Kf_RMSE=[]\n",
    "Kf_MAPE=[]\n",
    "Kf_ACC=[]\n",
    "folds = KFold(n_splits = 50, shuffle = True, random_state = 100)\n",
    "for train_index, test_index in folds.split(nX, nY):\n",
    "    LR= LinearRegression().fit(nX.iloc[train_index], nY.iloc[train_index]['log price'])\n",
    "    y_pred=np.exp(LR.predict(nX.iloc[test_index]))/_MAX_Y\n",
    "    ES=error_summary(nY.iloc[test_index]['Sold Price'],y_pred)\n",
    "    Kf_R2.append(ES['R2'].values)\n",
    "    Kf_RMSE.append(ES['RMSE'].values)\n",
    "    Kf_MAPE.append(ES['MAPE'].values)\n",
    "    Kf_ACC.append(ES[\"ACC(APE<20%)\"].values) \n",
    "print(f\"R2={round(np.mean(Kf_R2),3)}({round(np.std(Kf_R2),3)})\") \n",
    "print(f\"RMSE={round(np.mean(Kf_RMSE))}({round(np.std(Kf_RMSE))})\") \n",
    "print(f\"MAPE={round(np.mean(Kf_MAPE),3)}({round(np.std(Kf_MAPE),3)})\")\n",
    "print(f\"ACC(APE<20%)={round(np.mean( Kf_ACC),3)}({round(np.std( Kf_ACC),3)})\") "
   ]
  },
  {
   "cell_type": "markdown",
   "metadata": {},
   "source": [
    "## KNN Model"
   ]
  },
  {
   "cell_type": "markdown",
   "metadata": {},
   "source": [
    "#Grid Search"
   ]
  },
  {
   "cell_type": "code",
   "execution_count": 13,
   "metadata": {},
   "outputs": [
    {
     "name": "stdout",
     "output_type": "stream",
     "text": [
      "Best ACC(APE<20%): 0.792\n",
      "\n",
      "Optimal Model:\n",
      "KNeighborsRegressor(algorithm='brute', n_neighbors=13, p=1, weights='distance')\n",
      "\n",
      "{'n_neighbors': 13}\n"
     ]
    }
   ],
   "source": [
    "# Sold Prce\n",
    "\n",
    "ACC = make_scorer(GS_score)\n",
    "parameters = {'n_neighbors':range(6,19)}\n",
    "KNN_base = KNeighborsRegressor(weights='distance',algorithm='brute', p=1,metric='minkowski') \n",
    "KNN_tuned = GridSearchCV(KNN_base, parameters,cv = 5,scoring= ACC)\n",
    "KNN_opt=KNN_tuned.fit(X_train, Y_train['Sold Price'])\n",
    "print(\"Best ACC(APE<20%): \" + str(KNN_opt.best_score_) + \"\\n\")\n",
    "print(\"Optimal Model:\\n\" + str(KNN_opt.best_estimator_) + \"\\n\")\n",
    "print(KNN_opt.best_params_)"
   ]
  },
  {
   "cell_type": "code",
   "execution_count": 14,
   "metadata": {},
   "outputs": [
    {
     "name": "stdout",
     "output_type": "stream",
     "text": [
      "         R2      RMSE  MAPE  ACC(APE<20%)\n",
      "Value  0.81  86399.85  13.1           0.8\n"
     ]
    }
   ],
   "source": [
    "grid_predictions = KNN_opt.predict(X_test)\n",
    "print(error_summary(Y_test['Sold Price'],grid_predictions))"
   ]
  },
  {
   "cell_type": "code",
   "execution_count": 15,
   "metadata": {},
   "outputs": [
    {
     "data": {
      "image/png": "[encoded data removed]",
      "text/plain": [
       "<Figure size 432x288 with 1 Axes>"
      ]
     },
     "metadata": {},
     "output_type": "display_data"
    }
   ],
   "source": [
    "APE_hist(\"KNN SP gridSearch\",Y_test['Sold Price'],grid_predictions)"
   ]
  },
  {
   "cell_type": "code",
   "execution_count": 16,
   "metadata": {},
   "outputs": [],
   "source": [
    "# KNN model for log price"
   ]
  },
  {
   "cell_type": "code",
   "execution_count": 17,
   "metadata": {},
   "outputs": [
    {
     "name": "stdout",
     "output_type": "stream",
     "text": [
      "Best ACC(APE<20%): 0.796\n",
      "\n",
      "Optimal Model:\n",
      "KNeighborsRegressor(algorithm='brute', n_neighbors=14, p=1, weights='distance')\n",
      "\n",
      "{'n_neighbors': 14}\n"
     ]
    }
   ],
   "source": [
    "ACC = make_scorer(Log_GS_score)\n",
    "parameters = {'n_neighbors':range(6,19)}\n",
    "KNN_base = KNeighborsRegressor(weights='distance',algorithm='brute', p=1,metric='minkowski') \n",
    "KNN_tuned = GridSearchCV(KNN_base, parameters,cv = 5,scoring= ACC)\n",
    "KNN_opt=KNN_tuned.fit(X_train, Y_train['log price'])\n",
    "print(\"Best ACC(APE<20%): \" + str(KNN_opt.best_score_) + \"\\n\")\n",
    "print(\"Optimal Model:\\n\" + str(KNN_opt.best_estimator_) + \"\\n\")\n",
    "print(KNN_opt.best_params_)"
   ]
  },
  {
   "cell_type": "code",
   "execution_count": 18,
   "metadata": {},
   "outputs": [
    {
     "name": "stdout",
     "output_type": "stream",
     "text": [
      "         R2      RMSE   MAPE  ACC(APE<20%)\n",
      "Value  0.79  88945.54  12.87           0.8\n"
     ]
    }
   ],
   "source": [
    "grid_predictions = np.exp(KNN_opt.predict(X_test))/_MAX_Y\n",
    "print(error_summary(Y_test['Sold Price'],grid_predictions))"
   ]
  },
  {
   "cell_type": "code",
   "execution_count": 19,
   "metadata": {},
   "outputs": [
    {
     "data": {
      "image/png": "[encoded data removed]",
      "text/plain": [
       "<Figure size 432x288 with 1 Axes>"
      ]
     },
     "metadata": {},
     "output_type": "display_data"
    }
   ],
   "source": [
    "APE_hist(\"KNN LogPrice gridSearch\",Y_test['Sold Price'],grid_predictions)"
   ]
  },
  {
   "cell_type": "code",
   "execution_count": 20,
   "metadata": {},
   "outputs": [],
   "source": [
    "# K-Fold for sold price"
   ]
  },
  {
   "cell_type": "code",
   "execution_count": 29,
   "metadata": {},
   "outputs": [
    {
     "name": "stdout",
     "output_type": "stream",
     "text": [
      "R2=0.816(0.024)\n",
      "RMSE=83622(5730)\n",
      "MAPE=12.823(0.578)\n",
      "ACC(APE<20%)=0.804(0.02)\n"
     ]
    }
   ],
   "source": [
    "Kf_R2=[]\n",
    "Kf_RMSE=[]\n",
    "Kf_MAPE=[]\n",
    "Kf_ACC=[]\n",
    "folds = KFold(n_splits = 50, shuffle = True, random_state = 100)\n",
    "for train_index, test_index in folds.split(nX, nY):\n",
    "    KNN= KNeighborsRegressor(n_neighbors=13,weights='distance',algorithm='brute', p=1,\n",
    "                             metric='minkowski').fit(nX.iloc[train_index],\n",
    "                                                     nY.iloc[train_index]['Sold Price'])\n",
    "    y_pred=KNN.predict(nX.iloc[test_index])\n",
    "    ES=error_summary(nY.iloc[test_index]['Sold Price'],y_pred)\n",
    "    Kf_R2.append(ES['R2'].values)\n",
    "    Kf_RMSE.append(ES['RMSE'].values)\n",
    "    Kf_MAPE.append(ES['MAPE'].values)\n",
    "    Kf_ACC.append(ES[\"ACC(APE<20%)\"].values)\n",
    "    \n",
    "print(f\"R2={round(np.mean(Kf_R2),3)}({round(np.std(Kf_R2),3)})\") \n",
    "print(f\"RMSE={round(np.mean(Kf_RMSE))}({round(np.std(Kf_RMSE))})\") \n",
    "print(f\"MAPE={round(np.mean(Kf_MAPE),3)}({round(np.std(Kf_MAPE),3)})\")\n",
    "print(f\"ACC(APE<20%)={round(np.mean( Kf_ACC),3)}({round(np.std( Kf_ACC),3)})\")"
   ]
  },
  {
   "cell_type": "code",
   "execution_count": 30,
   "metadata": {},
   "outputs": [
    {
     "name": "stdout",
     "output_type": "stream",
     "text": [
      "R2=0.804(0.024)\n",
      "RMSE=86151(6187)\n",
      "MAPE=12.584(0.566)\n",
      "ACC(APE<20%)=0.808(0.018)\n"
     ]
    }
   ],
   "source": [
    "# K_Fold for log price\n",
    "Kf_R2=[]\n",
    "Kf_RMSE=[]\n",
    "Kf_MAPE=[]\n",
    "Kf_ACC=[]\n",
    "folds = KFold(n_splits = 50, shuffle = True, random_state = 100)\n",
    "for train_index, test_index in folds.split(nX, nY):\n",
    "    KNN= KNeighborsRegressor(n_neighbors=14,weights='distance',algorithm='brute',p=1,\n",
    "                             metric='minkowski').fit(nX.iloc[train_index],\n",
    "                                                     nY.iloc[train_index]['log price'])\n",
    "    \n",
    "    y_pred=np.exp(KNN.predict(nX.iloc[test_index]))/_MAX_Y\n",
    "    ES=error_summary(nY.iloc[test_index]['Sold Price'],y_pred)\n",
    "    Kf_R2.append(ES['R2'].values)\n",
    "    Kf_RMSE.append(ES['RMSE'].values)\n",
    "    Kf_MAPE.append(ES['MAPE'].values)\n",
    "    Kf_ACC.append(ES[\"ACC(APE<20%)\"].values)\n",
    "    \n",
    "print(f\"R2={round(np.mean(Kf_R2),3)}({round(np.std(Kf_R2),3)})\") \n",
    "print(f\"RMSE={round(np.mean(Kf_RMSE))}({round(np.std(Kf_RMSE))})\") \n",
    "print(f\"MAPE={round(np.mean(Kf_MAPE),3)}({round(np.std(Kf_MAPE),3)})\")\n",
    "print(f\"ACC(APE<20%)={round(np.mean( Kf_ACC),3)}({round(np.std( Kf_ACC),3)})\") "
   ]
  },
  {
   "cell_type": "code",
   "execution_count": 23,
   "metadata": {},
   "outputs": [],
   "source": [
    "# Lineae regression Coefficients"
   ]
  },
  {
   "cell_type": "code",
   "execution_count": 24,
   "metadata": {},
   "outputs": [
    {
     "data": {
      "text/html": [
       "<div>\n",
       "<style scoped>\n",
       "    .dataframe tbody tr th:only-of-type {\n",
       "        vertical-align: middle;\n",
       "    }\n",
       "\n",
       "    .dataframe tbody tr th {\n",
       "        vertical-align: top;\n",
       "    }\n",
       "\n",
       "    .dataframe thead th {\n",
       "        text-align: right;\n",
       "    }\n",
       "</style>\n",
       "<table border=\"1\" class=\"dataframe\">\n",
       "  <thead>\n",
       "    <tr style=\"text-align: right;\">\n",
       "      <th></th>\n",
       "      <th>Bedrooms AG</th>\n",
       "      <th>Bedrooms BG</th>\n",
       "      <th>Washrooms</th>\n",
       "      <th>Family Room</th>\n",
       "      <th>Square Feet</th>\n",
       "      <th>Taxes</th>\n",
       "      <th>Maint. Fees</th>\n",
       "      <th>AC Type</th>\n",
       "      <th>Heat Type</th>\n",
       "      <th>Heat included</th>\n",
       "      <th>...</th>\n",
       "      <th>E07</th>\n",
       "      <th>E08</th>\n",
       "      <th>C08</th>\n",
       "      <th>E10</th>\n",
       "      <th>E05</th>\n",
       "      <th>E01</th>\n",
       "      <th>W04</th>\n",
       "      <th>W10</th>\n",
       "      <th>C10</th>\n",
       "      <th>C01</th>\n",
       "    </tr>\n",
       "  </thead>\n",
       "  <tbody>\n",
       "    <tr>\n",
       "      <th>Coefficients</th>\n",
       "      <td>0.007371</td>\n",
       "      <td>-0.002058</td>\n",
       "      <td>0.027926</td>\n",
       "      <td>0.00579</td>\n",
       "      <td>0.293316</td>\n",
       "      <td>0.08483</td>\n",
       "      <td>0.000143</td>\n",
       "      <td>0.013079</td>\n",
       "      <td>-0.001354</td>\n",
       "      <td>-0.003303</td>\n",
       "      <td>...</td>\n",
       "      <td>4.743482e+08</td>\n",
       "      <td>4.743482e+08</td>\n",
       "      <td>4.743482e+08</td>\n",
       "      <td>4.743482e+08</td>\n",
       "      <td>4.743482e+08</td>\n",
       "      <td>4.743482e+08</td>\n",
       "      <td>4.743482e+08</td>\n",
       "      <td>4.743482e+08</td>\n",
       "      <td>4.743482e+08</td>\n",
       "      <td>4.743482e+08</td>\n",
       "    </tr>\n",
       "  </tbody>\n",
       "</table>\n",
       "<p>1 rows × 81 columns</p>\n",
       "</div>"
      ],
      "text/plain": [
       "              Bedrooms AG  Bedrooms BG  Washrooms  Family Room  Square Feet  \\\n",
       "Coefficients     0.007371    -0.002058   0.027926      0.00579     0.293316   \n",
       "\n",
       "                Taxes  Maint. Fees   AC Type  Heat Type  Heat included  ...  \\\n",
       "Coefficients  0.08483     0.000143  0.013079  -0.001354      -0.003303  ...   \n",
       "\n",
       "                       E07           E08           C08           E10  \\\n",
       "Coefficients  4.743482e+08  4.743482e+08  4.743482e+08  4.743482e+08   \n",
       "\n",
       "                       E05           E01           W04           W10  \\\n",
       "Coefficients  4.743482e+08  4.743482e+08  4.743482e+08  4.743482e+08   \n",
       "\n",
       "                       C10           C01  \n",
       "Coefficients  4.743482e+08  4.743482e+08  \n",
       "\n",
       "[1 rows x 81 columns]"
      ]
     },
     "execution_count": 24,
     "metadata": {},
     "output_type": "execute_result"
    }
   ],
   "source": [
    "LR = LinearRegression()\n",
    "LR.fit(X_train, Y_train['Sold Price'])\n",
    "dict_coef={'Coefficients':LR.coef_}\n",
    "index_coef=X_train.columns\n",
    "df = pd.DataFrame(dict_coef,index=index_coef)\n",
    "df.T"
   ]
  },
  {
   "cell_type": "markdown",
   "metadata": {},
   "source": [
    "## Hybrid Model"
   ]
  },
  {
   "cell_type": "code",
   "execution_count": 25,
   "metadata": {},
   "outputs": [
    {
     "name": "stdout",
     "output_type": "stream",
     "text": [
      "         R2      RMSE  MAPE  ACC(APE<20%)\n",
      "Value  0.86  74003.62  9.61           0.9\n"
     ]
    },
    {
     "data": {
      "image/png": "[encoded data removed]",
      "text/plain": [
       "<Figure size 432x288 with 1 Axes>"
      ]
     },
     "metadata": {},
     "output_type": "display_data"
    }
   ],
   "source": [
    "LR = LinearRegression()\n",
    "LR.fit(X_train, Y_train['Sold Price'])\n",
    "weights=np.abs(LR.coef_)/np.sum(np.abs(LR.coef_))\n",
    "KNN= KNeighborsRegressor(n_neighbors=8, weights='distance',\n",
    "                          algorithm='brute', metric='wminkowski',\n",
    "                          metric_params={'w': weights},p=1)\n",
    "KNN.fit(X_train, Y_train['Sold Price'])\n",
    "y_pred=KNN.predict(X_test)\n",
    "print(error_summary(Y_test['Sold Price'],y_pred))\n",
    "APE_hist(\"Hybrid KNR&LR SP\",Y_test['Sold Price'], y_pred)"
   ]
  },
  {
   "cell_type": "code",
   "execution_count": 26,
   "metadata": {},
   "outputs": [
    {
     "name": "stdout",
     "output_type": "stream",
     "text": [
      "         R2      RMSE  MAPE  ACC(APE<20%)\n",
      "Value  0.85  74642.78  9.48           0.9\n"
     ]
    },
    {
     "data": {
      "image/png": "[encoded data removed]",
      "text/plain": [
       "<Figure size 432x288 with 1 Axes>"
      ]
     },
     "metadata": {},
     "output_type": "display_data"
    }
   ],
   "source": [
    "LR = LinearRegression()\n",
    "LR.fit(X_train, Y_train['Sold Price'])\n",
    "weights=np.abs(LR.coef_)/np.sum(np.abs(LR.coef_))\n",
    "KNN= KNeighborsRegressor(n_neighbors=8, weights='distance',\n",
    "                          algorithm='brute', metric='wminkowski',\n",
    "                          metric_params={'w': weights},p=1)\n",
    "KNN.fit(X_train, Y_train['log price'])\n",
    "y_pred=np.exp(KNN.predict(X_test))/_MAX_Y\n",
    "print(error_summary(Y_test['Sold Price'],y_pred))\n",
    "APE_hist(\"Hybrid KNR&LR LogSP\",Y_test['Sold Price'], y_pred)"
   ]
  },
  {
   "cell_type": "code",
   "execution_count": 27,
   "metadata": {},
   "outputs": [
    {
     "name": "stdout",
     "output_type": "stream",
     "text": [
      "R2=0.873(0.023)\n",
      "RMSE=69281(6573)\n",
      "MAPE=9.06(0.483)\n",
      "ACC(APE<20%)=0.908(0.015)\n"
     ]
    }
   ],
   "source": [
    "#manually check for the best n_neighbors\n",
    "Kf_R2=[]\n",
    "Kf_RMSE=[]\n",
    "Kf_MAPE=[]\n",
    "Kf_ACC=[]\n",
    "folds = KFold(n_splits = 50, shuffle = True, random_state = 100)\n",
    "for train_index, test_index in folds.split(X, Y):\n",
    "    LR.fit(nX.iloc[train_index], nY.iloc[train_index]['Sold Price'])\n",
    "    weights=np.abs(LR.coef_)/np.sum(np.abs(LR.coef_))\n",
    "    KNN_LR=KNeighborsRegressor(n_neighbors=9, weights='distance', algorithm='brute',\n",
    "                               metric='wminkowski',metric_params={'w': weights},\n",
    "                               p=1).fit(nX.iloc[train_index], nY.iloc[train_index]['Sold Price'])\n",
    "    \n",
    "    y_pred=KNN_LR.predict(nX.iloc[test_index])\n",
    "    ES=error_summary(nY.iloc[test_index]['Sold Price'],y_pred)\n",
    "    Kf_R2.append(ES['R2'].values)\n",
    "    Kf_RMSE.append(ES['RMSE'].values)\n",
    "    Kf_MAPE.append(ES['MAPE'].values)\n",
    "    Kf_ACC.append(ES[\"ACC(APE<20%)\"].values)\n",
    "    \n",
    "print(f\"R2={round(np.mean(Kf_R2),3)}({round(np.std(Kf_R2),3)})\") \n",
    "print(f\"RMSE={round(np.mean(Kf_RMSE))}({round(np.std(Kf_RMSE))})\") \n",
    "print(f\"MAPE={round(np.mean(Kf_MAPE),3)}({round(np.std(Kf_MAPE),3)})\")\n",
    "print(f\"ACC(APE<20%)={round(np.mean( Kf_ACC),3)}({round(np.std( Kf_ACC),3)})\") "
   ]
  },
  {
   "cell_type": "code",
   "execution_count": 28,
   "metadata": {},
   "outputs": [
    {
     "name": "stdout",
     "output_type": "stream",
     "text": [
      "R2=0.871(0.023)\n",
      "RMSE=69903(6922)\n",
      "MAPE=8.936(0.465)\n",
      "ACC(APE<20%)=0.911(0.015)\n"
     ]
    }
   ],
   "source": [
    "#manually check for the best n_neighbors\n",
    "Kf_R2=[]\n",
    "Kf_RMSE=[]\n",
    "Kf_MAPE=[]\n",
    "Kf_ACC=[]\n",
    "folds = KFold(n_splits =50, shuffle = True, random_state = 100)\n",
    "for train_index, test_index in folds.split(X, Y):\n",
    "    LR.fit(nX.iloc[train_index], nY.iloc[train_index]['Sold Price'])\n",
    "    weights=np.abs(LR.coef_)/np.sum(np.abs(LR.coef_))\n",
    "    KNN_LR=KNeighborsRegressor(n_neighbors=9, weights='distance', algorithm='brute',\n",
    "                               metric='wminkowski',metric_params={'w': weights},\n",
    "                               p=1).fit(nX.iloc[train_index], nY.iloc[train_index]['log price'])\n",
    "    y_pred=np.exp(KNN_LR.predict(nX.iloc[test_index]))/_MAX_Y\n",
    "    ES=error_summary(nY.iloc[test_index]['Sold Price'],y_pred)\n",
    "    Kf_R2.append(ES['R2'].values)\n",
    "    Kf_RMSE.append(ES['RMSE'].values)\n",
    "    Kf_MAPE.append(ES['MAPE'].values)\n",
    "    Kf_ACC.append(ES[\"ACC(APE<20%)\"].values)\n",
    "    \n",
    "print(f\"R2={round(np.mean(Kf_R2),3)}({round(np.std(Kf_R2),3)})\") \n",
    "print(f\"RMSE={round(np.mean(Kf_RMSE))}({round(np.std(Kf_RMSE))})\") \n",
    "print(f\"MAPE={round(np.mean(Kf_MAPE),3)}({round(np.std(Kf_MAPE),3)})\")\n",
    "print(f\"ACC(APE<20%)={round(np.mean( Kf_ACC),3)}({round(np.std( Kf_ACC),3)})\") "
   ]
  },
  {
   "cell_type": "code",
   "execution_count": null,
   "metadata": {},
   "outputs": [],
   "source": [
    "#Appendix"
   ]
  },
  {
   "cell_type": "code",
   "execution_count": 7,
   "metadata": {},
   "outputs": [
    {
     "name": "stdout",
     "output_type": "stream",
     "text": [
      "         R2      RMSE  MAPE  ACC(APE<20%)\n",
      "Value  0.86  72641.73  9.06           0.9\n"
     ]
    },
    {
     "data": {
      "image/png": "[encoded data removed]",
      "text/plain": [
       "<Figure size 432x288 with 1 Axes>"
      ]
     },
     "metadata": {},
     "output_type": "display_data"
    }
   ],
   "source": [
    "LR = LinearRegression(fit_intercept=False)\n",
    "LR.fit(X_train, Y_train['Sold Price'])\n",
    "weights=np.abs(LR.coef_)/np.sum(np.abs(LR.coef_))\n",
    "KNN= KNeighborsRegressor(n_neighbors=9, weights='distance',\n",
    "                          algorithm='brute', metric='wminkowski',\n",
    "                          metric_params={'w': weights},p=1)\n",
    "KNN.fit(X_train, Y_train['Sold Price'])\n",
    "y_pred=KNN.predict(X_test)\n",
    "print(error_summary(Y_test['Sold Price'],y_pred))\n",
    "APE_hist(\"Hybrid KNR&LR SP\",Y_test['Sold Price'], y_pred)"
   ]
  },
  {
   "cell_type": "code",
   "execution_count": null,
   "metadata": {},
   "outputs": [],
   "source": []
  }
 ],
 "metadata": {
  "kernelspec": {
   "display_name": "Python 3",
   "language": "python",
   "name": "python3"
  },
  "language_info": {
   "codemirror_mode": {
    "name": "ipython",
    "version": 3
   },
   "file_extension": ".py",
   "mimetype": "text/x-python",
   "name": "python",
   "nbconvert_exporter": "python",
   "pygments_lexer": "ipython3",
   "version": "3.8.5"
  }
 },
 "nbformat": 4,
 "nbformat_minor": 4
}

{
 "cells": [
  {
   "cell_type": "code",
   "execution_count": 1,
   "metadata": {},
   "outputs": [],
   "source": [
    "import xgboost as xgb\n",
    "import numpy as np\n",
    "import pandas as pd\n",
    "import matplotlib.pyplot as plt\n",
    "plt.style.use('ggplot')\n",
    "from sklearn import metrics\n",
    "from datetime import datetime\n",
    "import seaborn as sns\n",
    "from keras.models import Sequential\n",
    "from keras.layers import Dense\n",
    "from keras.utils import model_to_dot\n",
    "from keras.utils import plot_model\n",
    "from mlxtend.preprocessing import TransactionEncoder\n",
    "from sklearn.model_selection import train_test_split\n",
    "from sklearn.linear_model import LinearRegression\n",
    "from sklearn.metrics import mean_squared_error,r2_score\n",
    "from statistics import variance\n",
    "from sklearn.svm import SVR\n",
    "from sklearn.neighbors import KNeighborsRegressor\n",
    "from sklearn.ensemble import RandomForestRegressor,RandomForestClassifier,ExtraTreesClassifier\n",
    "from tensorflow.keras.models import Sequential\n",
    "from tensorflow.keras.layers import Dense, Dropout\n",
    "from tensorflow.keras.callbacks import EarlyStopping, LambdaCallback\n",
    "from sklearn.linear_model import LogisticRegression\n",
    "from sklearn.metrics import accuracy_score, classification_report\n",
    "from sklearn.model_selection import KFold, cross_val_score,GridSearchCV\n",
    "from sklearn.feature_selection import RFE\n",
    "from xgboost import cv\n",
    "from sklearn.metrics import make_scorer\n",
    "from sklearn.utils.fixes import loguniform"
   ]
  },
  {
   "cell_type": "code",
   "execution_count": 2,
   "metadata": {},
   "outputs": [],
   "source": [
    "Apt_dataset=pd.read_csv(\"Apt_dataset.csv\")"
   ]
  },
  {
   "cell_type": "markdown",
   "metadata": {},
   "source": [
    "## Creating Training and Test Sets for the Apt dataset"
   ]
  },
  {
   "cell_type": "code",
   "execution_count": 3,
   "metadata": {},
   "outputs": [],
   "source": [
    "X=Apt_dataset.drop(['List Price', 'Sold Price', 'Days on Market','Sale to List %','price class', 'log price'],axis=1)\n",
    "Y=Apt_dataset[['Sold Price','log price',\"price class\"]]"
   ]
  },
  {
   "cell_type": "code",
   "execution_count": 4,
   "metadata": {},
   "outputs": [],
   "source": [
    "from sklearn.preprocessing import StandardScaler\n",
    "def X_norm(df):\n",
    "    ndf=pd.DataFrame()\n",
    "    for col in df.columns:\n",
    "        #norm btw 0 and 1\n",
    "        ndf[col]=df[col]/max(df[col])\n",
    "    #Z_score for 'Taxes' and 'Maint. Fees'\n",
    "    std_scaler = StandardScaler()\n",
    "    ndf[['Taxes','Maint. Fees']] = std_scaler.fit_transform(ndf[['Taxes','Maint. Fees']].values.tolist())\n",
    "    return ndf\n",
    "\n",
    "nX=X_norm(X)\n",
    "nY=Y.copy(deep=True)\n",
    "_MAX_Y=max(Y['Sold Price'])\n",
    "nY['Sold Price']=Y['Sold Price']/_MAX_Y"
   ]
  },
  {
   "cell_type": "code",
   "execution_count": 5,
   "metadata": {},
   "outputs": [],
   "source": [
    "X_train, X_test, Y_train, Y_test = train_test_split(nX, nY, test_size=0.15,stratify=nY[[\"price class\"]])"
   ]
  },
  {
   "cell_type": "code",
   "execution_count": 6,
   "metadata": {},
   "outputs": [],
   "source": [
    "def error_summary(y_true, y_pred):\n",
    "    MAPE=np.average(np.abs(y_true - y_pred) / y_true, axis=0)*100\n",
    "    RMSE=np.sqrt(mean_squared_error(y_true, y_pred))\n",
    "    R2=r2_score(y_true, y_pred)\n",
    "    APE=np.abs(y_true - y_pred) / y_true\n",
    "    acc=sum(APE<0.2)/len(APE)\n",
    "    dict_error={'Value':[R2,_MAX_Y*RMSE,MAPE,acc]}\n",
    "    index_error=['R2','RMSE','MAPE',\"ACC(APE<20%)\"]\n",
    "    df = pd.DataFrame(dict_error,index=index_error)\n",
    "    return round(df,2).T\n",
    "\n",
    "def APE_hist(title,y_true, y_pred):\n",
    "    APE=(np.abs(y_true - y_pred) / y_true)\n",
    "    plt.hist(100*APE,bins=range(100),density=True,cumulative=True)\n",
    "    plt.title(title)\n",
    "    plt.xlabel('APE')\n",
    "    plt.ylabel('cumulative distribution')\n",
    "    \n",
    "def GS_score(y, y_pred):\n",
    "    ES=error_summary(y,y_pred)\n",
    "    return ES[\"ACC(APE<20%)\"].values\n",
    "\n",
    "def Log_GS_score(y, y_pred):\n",
    "    ES=error_summary(np.exp(y),np.exp(y_pred))\n",
    "    return ES[\"ACC(APE<20%)\"].values  "
   ]
  },
  {
   "cell_type": "code",
   "execution_count": 7,
   "metadata": {},
   "outputs": [],
   "source": [
    "## RandomForest\n",
    "# Grid serach with sold Price to find the best parameters"
   ]
  },
  {
   "cell_type": "code",
   "execution_count": 8,
   "metadata": {},
   "outputs": [
    {
     "name": "stdout",
     "output_type": "stream",
     "text": [
      "Best ACC(APE<20%): 0.922\n",
      "\n",
      "Optimal Model:\n",
      "RandomForestRegressor(max_depth=15, n_estimators=400)\n",
      "\n",
      "{'bootstrap': True, 'max_depth': 15, 'n_estimators': 400}\n"
     ]
    }
   ],
   "source": [
    "param_grid = { \n",
    "    'n_estimators': range(300,1001,100),\n",
    "    'max_depth' : range(5,31,5),\n",
    "    'bootstrap': [True, False]\n",
    "    \n",
    "}\n",
    "ACC = make_scorer(GS_score)\n",
    "rfr=RandomForestRegressor()\n",
    "rf_tune =GridSearchCV(estimator=rfr, param_grid=param_grid,\n",
    "                             cv = 5,\n",
    "                             scoring=ACC,\n",
    "                             n_jobs = -1)\n",
    "rf_opt = rf_tune.fit(X_train, Y_train['Sold Price'])\n",
    "print(\"Best ACC(APE<20%): \" + str(rf_opt.best_score_) + \"\\n\")\n",
    "print(\"Optimal Model:\\n\" + str(rf_opt.best_estimator_) + \"\\n\")\n",
    "print(rf_opt.best_params_)"
   ]
  },
  {
   "cell_type": "code",
   "execution_count": null,
   "metadata": {},
   "outputs": [],
   "source": [
    "# pick the smallest range from above parameters"
   ]
  },
  {
   "cell_type": "code",
   "execution_count": 10,
   "metadata": {},
   "outputs": [
    {
     "name": "stdout",
     "output_type": "stream",
     "text": [
      "Best ACC(APE<20%): 0.922\n",
      "\n",
      "Optimal Model:\n",
      "RandomForestRegressor(max_depth=14, n_estimators=350)\n",
      "\n",
      "{'max_depth': 14, 'n_estimators': 350}\n"
     ]
    }
   ],
   "source": [
    "param_grid = { \n",
    "    'n_estimators': range(350,451,10),\n",
    "    'max_depth' : range(10,21)  \n",
    "}\n",
    "ACC = make_scorer(GS_score)\n",
    "rfr=RandomForestRegressor(bootstrap=True)\n",
    "rf_tune =GridSearchCV(estimator=rfr, param_grid=param_grid,\n",
    "                             cv = 5,\n",
    "                             scoring=ACC,\n",
    "                             n_jobs = -1)\n",
    "\n",
    "rf_opt = rf_tune.fit(X_train, Y_train['Sold Price'])\n",
    "print(\"Best ACC(APE<20%): \" + str(rf_opt.best_score_) + \"\\n\")\n",
    "print(\"Optimal Model:\\n\" + str(rf_opt.best_estimator_) + \"\\n\")\n",
    "print(rf_opt.best_params_)"
   ]
  },
  {
   "cell_type": "code",
   "execution_count": 16,
   "metadata": {},
   "outputs": [],
   "source": [
    "# test the best parameters and plot it"
   ]
  },
  {
   "cell_type": "code",
   "execution_count": 41,
   "metadata": {},
   "outputs": [],
   "source": [
    "rf_opt=RandomForestRegressor(bootstrap=True,max_depth=14,n_estimators=350).fit(X_train, Y_train['Sold Price'])"
   ]
  },
  {
   "cell_type": "code",
   "execution_count": 42,
   "metadata": {},
   "outputs": [
    {
     "name": "stdout",
     "output_type": "stream",
     "text": [
      "        R2      RMSE  MAPE  ACC(APE<20%)\n",
      "Value  0.9  63324.59  8.76          0.92\n"
     ]
    },
    {
     "data": {
      "image/png": "[encoded data removed]",
      "text/plain": [
       "<Figure size 432x288 with 1 Axes>"
      ]
     },
     "metadata": {},
     "output_type": "display_data"
    }
   ],
   "source": [
    "grid_predictions = rf_opt.predict(X_test)\n",
    "print(error_summary(Y_test['Sold Price'],grid_predictions))\n",
    "APE_hist(\"RandomForest SP gridSearch\",Y_test['Sold Price'],grid_predictions)"
   ]
  },
  {
   "cell_type": "code",
   "execution_count": null,
   "metadata": {},
   "outputs": [],
   "source": [
    "## Grid serach with Log price to find the best parameters"
   ]
  },
  {
   "cell_type": "markdown",
   "metadata": {},
   "source": [
    "## RandomForest"
   ]
  },
  {
   "cell_type": "code",
   "execution_count": 14,
   "metadata": {},
   "outputs": [
    {
     "name": "stdout",
     "output_type": "stream",
     "text": [
      "Best ACC(APE<20%): 0.924\n",
      "\n",
      "Optimal Model:\n",
      "RandomForestRegressor(max_depth=15, n_estimators=500)\n",
      "\n",
      "{'max_depth': 15, 'n_estimators': 500}\n"
     ]
    }
   ],
   "source": [
    "param_grid = { \n",
    "    'n_estimators': range(300,1501,100),\n",
    "    'max_depth' : range(5,41,5),    \n",
    "}\n",
    "ACC = make_scorer(Log_GS_score)\n",
    "rfr=RandomForestRegressor()\n",
    "rf_tune =GridSearchCV(estimator=rfr, param_grid=param_grid,\n",
    "                             cv = 5,\n",
    "                             scoring=ACC,\n",
    "                             n_jobs = -1)\n",
    "rf_opt = rf_tune.fit(X_train, Y_train['log price'])\n",
    "print(\"Best ACC(APE<20%): \" + str(rf_opt.best_score_) + \"\\n\")\n",
    "print(\"Optimal Model:\\n\" + str(rf_opt.best_estimator_) + \"\\n\")\n",
    "print(rf_opt.best_params_)"
   ]
  },
  {
   "cell_type": "markdown",
   "metadata": {},
   "source": [
    "Implement the GS algo with smallest range from above result"
   ]
  },
  {
   "cell_type": "code",
   "execution_count": 15,
   "metadata": {},
   "outputs": [
    {
     "name": "stdout",
     "output_type": "stream",
     "text": [
      "Best ACC(APE<20%): 0.9259999999999999\n",
      "\n",
      "Optimal Model:\n",
      "RandomForestRegressor(max_depth=20, n_estimators=490)\n",
      "\n",
      "{'max_depth': 20, 'n_estimators': 490}\n"
     ]
    }
   ],
   "source": [
    "param_grid = { \n",
    "    'n_estimators': range(450,551,10),\n",
    "    'max_depth' : range(10,21),\n",
    "    \n",
    "    \n",
    "}\n",
    "ACC = make_scorer(Log_GS_score)\n",
    "rfr=RandomForestRegressor()\n",
    "rf_tune =GridSearchCV(estimator=rfr, param_grid=param_grid,\n",
    "                             cv = 5,\n",
    "                             scoring=ACC,\n",
    "                             n_jobs = -1)\n",
    "rf_opt = rf_tune.fit(X_train, Y_train['log price'])\n",
    "print(\"Best ACC(APE<20%): \" + str(rf_opt.best_score_) + \"\\n\")\n",
    "print(\"Optimal Model:\\n\" + str(rf_opt.best_estimator_) + \"\\n\")\n",
    "print(rf_opt.best_params_)"
   ]
  },
  {
   "cell_type": "code",
   "execution_count": 18,
   "metadata": {},
   "outputs": [
    {
     "name": "stdout",
     "output_type": "stream",
     "text": [
      "        R2      RMSE  MAPE  ACC(APE<20%)\n",
      "Value  0.9  62182.97  8.34          0.94\n"
     ]
    },
    {
     "data": {
      "image/png": "[encoded data removed]",
      "text/plain": [
       "<Figure size 432x288 with 1 Axes>"
      ]
     },
     "metadata": {},
     "output_type": "display_data"
    }
   ],
   "source": [
    "grid_predictions = np.exp(rf_opt.predict(X_test))/_MAX_Y\n",
    "print(error_summary(Y_test['Sold Price'],grid_predictions))\n",
    "APE_hist(\"RandomForest LogPrice gridSearch\",Y_test['Sold Price'],grid_predictions)"
   ]
  },
  {
   "cell_type": "code",
   "execution_count": null,
   "metadata": {},
   "outputs": [],
   "source": [
    "## RandomForestRegressor-K_Fold for the sold price {max_depth': 14, 'n_estimators': 350}"
   ]
  },
  {
   "cell_type": "code",
   "execution_count": 19,
   "metadata": {},
   "outputs": [
    {
     "name": "stdout",
     "output_type": "stream",
     "text": [
      "R2=0.898(0.018)\n",
      "RMSE=62228(5137)\n",
      "MAPE=8.577(0.481)\n",
      "ACC(APE<20%)=0.924(0.012)\n"
     ]
    }
   ],
   "source": [
    "Kf_R2=[]\n",
    "Kf_RMSE=[]\n",
    "Kf_MAPE=[]\n",
    "Kf_ACC=[]\n",
    "folds = KFold(n_splits = 50, shuffle = True, random_state = 100)\n",
    "for train_index, test_index in folds.split(nX, nY):\n",
    "    rfr=RandomForestRegressor(n_estimators=350,\n",
    "                              max_depth=14,\n",
    "                              bootstrap=True).fit(nX.iloc[train_index],\n",
    "                                                  nY.iloc[train_index]['Sold Price'])\n",
    "                                \n",
    "    y_pred=rfr.predict(nX.iloc[test_index])\n",
    "    ES=error_summary(nY.iloc[test_index]['Sold Price'],y_pred)\n",
    "    \n",
    "    Kf_R2.append(ES['R2'].values)\n",
    "    Kf_RMSE.append(ES['RMSE'].values)\n",
    "    Kf_MAPE.append(ES['MAPE'].values)\n",
    "    Kf_ACC.append(ES[\"ACC(APE<20%)\"].values)\n",
    "    \n",
    "print(f\"R2={round(np.mean(Kf_R2),3)}({round(np.std(Kf_R2),3)})\") \n",
    "print(f\"RMSE={round(np.mean(Kf_RMSE))}({round(np.std(Kf_RMSE))})\") \n",
    "print(f\"MAPE={round(np.mean(Kf_MAPE),3)}({round(np.std(Kf_MAPE),3)})\")\n",
    "print(f\"ACC(APE<20%)={round(np.mean( Kf_ACC),3)}({round(np.std( Kf_ACC),3)})\") "
   ]
  },
  {
   "cell_type": "code",
   "execution_count": null,
   "metadata": {},
   "outputs": [],
   "source": [
    "## K-Fold for Log Price 'bootstrap': True, 'max_depth': 20, 'n_estimators': 490"
   ]
  },
  {
   "cell_type": "code",
   "execution_count": 20,
   "metadata": {},
   "outputs": [
    {
     "name": "stdout",
     "output_type": "stream",
     "text": [
      "R2=0.9(0.018)\n",
      "RMSE=61473(5347)\n",
      "MAPE=8.173(0.458)\n",
      "ACC(APE<20%)=0.93(0.012)\n"
     ]
    }
   ],
   "source": [
    "Kf_R2=[]\n",
    "Kf_RMSE=[]\n",
    "Kf_MAPE=[]\n",
    "Kf_ACC=[]\n",
    "folds = KFold(n_splits = 50, shuffle = True, random_state = 100)\n",
    "for train_index, test_index in folds.split(nX, nY):\n",
    "    rfr=RandomForestRegressor(n_estimators=490,\n",
    "                              max_depth=20,\n",
    "                              bootstrap=True).fit(nX.iloc[train_index],\n",
    "                                                  nY.iloc[train_index]['log price'])\n",
    "                                \n",
    "    y_pred=np.exp(rfr.predict(nX.iloc[test_index]))/_MAX_Y\n",
    "    ES=error_summary(nY.iloc[test_index]['Sold Price'],y_pred)\n",
    "    \n",
    "    Kf_R2.append(ES['R2'].values)\n",
    "    Kf_RMSE.append(ES['RMSE'].values)\n",
    "    Kf_MAPE.append(ES['MAPE'].values)\n",
    "    Kf_ACC.append(ES[\"ACC(APE<20%)\"].values)\n",
    "    \n",
    "print(f\"R2={round(np.mean(Kf_R2),3)}({round(np.std(Kf_R2),3)})\") \n",
    "print(f\"RMSE={round(np.mean(Kf_RMSE))}({round(np.std(Kf_RMSE))})\") \n",
    "print(f\"MAPE={round(np.mean(Kf_MAPE),3)}({round(np.std(Kf_MAPE),3)})\")\n",
    "print(f\"ACC(APE<20%)={round(np.mean( Kf_ACC),3)}({round(np.std( Kf_ACC),3)})\") "
   ]
  },
  {
   "cell_type": "markdown",
   "metadata": {},
   "source": [
    "## XGBoost"
   ]
  },
  {
   "cell_type": "code",
   "execution_count": 27,
   "metadata": {},
   "outputs": [
    {
     "name": "stdout",
     "output_type": "stream",
     "text": [
      "Best ACC(APE<20%):0.944\n",
      "\n",
      "{'max_depth': 5, 'n_estimators': 400}\n"
     ]
    }
   ],
   "source": [
    "parameters = {'n_estimators': range(100,700,50), 'max_depth':range(5,51,5)}\n",
    "XGB_base =xgb.XGBRegressor()\n",
    "ACC = make_scorer(GS_score)\n",
    "XGB_tuned = GridSearchCV(XGB_base, parameters,\n",
    "                         cv = 5,\n",
    "                         scoring=ACC,\n",
    "                         n_jobs = -1)\n",
    "\n",
    "XGB_opt =XGB_tuned.fit(X_train, Y_train['Sold Price'])\n",
    "print(\"Best ACC(APE<20%):\" + str(XGB_opt.best_score_) + \"\\n\")\n",
    "#print(\"Optimal Model:\\n\" + str(XGB_opt.best_estimator_) + \"\\n\")\n",
    "print(XGB_opt.best_params_)"
   ]
  },
  {
   "cell_type": "code",
   "execution_count": 28,
   "metadata": {},
   "outputs": [
    {
     "name": "stdout",
     "output_type": "stream",
     "text": [
      "Best ACC(APE<20%):0.944\n",
      "\n",
      "{'max_depth': 5, 'n_estimators': 400}\n"
     ]
    }
   ],
   "source": [
    "parameters = {'n_estimators': range(350,451,10), 'max_depth':range(3,10)}\n",
    "XGB_base =xgb.XGBRegressor()\n",
    "ACC = make_scorer(GS_score)\n",
    "XGB_tuned = GridSearchCV(XGB_base, parameters,\n",
    "                         cv = 5,\n",
    "                         scoring=ACC,\n",
    "                         n_jobs = -1)\n",
    "\n",
    "XGB_opt =XGB_tuned.fit(X_train, Y_train['Sold Price'])\n",
    "print(\"Best ACC(APE<20%):\" + str(XGB_opt.best_score_) + \"\\n\")\n",
    "#print(\"Optimal Model:\\n\" + str(XGB_opt.best_estimator_) + \"\\n\")\n",
    "print(XGB_opt.best_params_)"
   ]
  },
  {
   "cell_type": "code",
   "execution_count": 29,
   "metadata": {},
   "outputs": [
    {
     "name": "stdout",
     "output_type": "stream",
     "text": [
      "         R2     RMSE  MAPE  ACC(APE<20%)\n",
      "Value  0.92  56093.1  7.41          0.95\n"
     ]
    },
    {
     "data": {
      "image/png": "[encoded data removed]",
      "text/plain": [
       "<Figure size 432x288 with 1 Axes>"
      ]
     },
     "metadata": {},
     "output_type": "display_data"
    }
   ],
   "source": [
    "grid_predictions = XGB_opt.predict(X_test)\n",
    "print(error_summary(Y_test['Sold Price'],grid_predictions))\n",
    "APE_hist(\"XGBoost SoldPrice gridSearch\",Y_test['Sold Price'],grid_predictions)"
   ]
  },
  {
   "cell_type": "markdown",
   "metadata": {},
   "source": [
    "## XGBOOST"
   ]
  },
  {
   "cell_type": "code",
   "execution_count": 31,
   "metadata": {},
   "outputs": [
    {
     "name": "stdout",
     "output_type": "stream",
     "text": [
      "Best ACC(APE<20%):0.944\n",
      "\n",
      "{'max_depth': 3, 'n_estimators': 600}\n"
     ]
    }
   ],
   "source": [
    "parameters = {'n_estimators': range(100,701,50), 'max_depth':range(3,51,5)}\n",
    "XGB_base =xgb.XGBRegressor()\n",
    "ACC = make_scorer(Log_GS_score)\n",
    "XGB_tuned = GridSearchCV(XGB_base, parameters,\n",
    "                         cv = 5,\n",
    "                         scoring=ACC,\n",
    "                         n_jobs = -1)\n",
    "\n",
    "XGB_opt =XGB_tuned.fit(X_train, Y_train['log price'])\n",
    "print(\"Best ACC(APE<20%):\" + str(XGB_opt.best_score_) + \"\\n\")\n",
    "#print(\"Optimal Model:\\n\" + str(XGB_opt.best_estimator_) + \"\\n\")\n",
    "print(XGB_opt.best_params_)"
   ]
  },
  {
   "cell_type": "code",
   "execution_count": 32,
   "metadata": {},
   "outputs": [
    {
     "name": "stdout",
     "output_type": "stream",
     "text": [
      "Best ACC(APE<20%):0.9509999999999998\n",
      "\n",
      "{'max_depth': 4, 'n_estimators': 700}\n"
     ]
    }
   ],
   "source": [
    "parameters = {'n_estimators': range(550,751,10), 'max_depth':range(2,10)}\n",
    "XGB_base =xgb.XGBRegressor()\n",
    "ACC = make_scorer(Log_GS_score)\n",
    "XGB_tuned = GridSearchCV(XGB_base, parameters,\n",
    "                         cv = 10,\n",
    "                         scoring=ACC,\n",
    "                         n_jobs = -1)\n",
    "\n",
    "XGB_opt =XGB_tuned.fit(X_train, Y_train['log price'])\n",
    "print(\"Best ACC(APE<20%):\" + str(XGB_opt.best_score_) + \"\\n\")\n",
    "#print(\"Optimal Model:\\n\" + str(XGB_opt.best_estimator_) + \"\\n\")\n",
    "print(XGB_opt.best_params_)"
   ]
  },
  {
   "cell_type": "code",
   "execution_count": 46,
   "metadata": {},
   "outputs": [],
   "source": [
    "XGB_opt=xgb.XGBRegressor(max_depth=4,n_estimators=700).fit(X_train, Y_train['log price'])"
   ]
  },
  {
   "cell_type": "code",
   "execution_count": 47,
   "metadata": {},
   "outputs": [
    {
     "name": "stdout",
     "output_type": "stream",
     "text": [
      "         R2      RMSE  MAPE  ACC(APE<20%)\n",
      "Value  0.92  55588.83  7.25          0.95\n"
     ]
    },
    {
     "data": {
      "image/png": "[encoded data removed]",
      "text/plain": [
       "<Figure size 432x288 with 1 Axes>"
      ]
     },
     "metadata": {},
     "output_type": "display_data"
    }
   ],
   "source": [
    "grid_predictions = np.exp(XGB_opt.predict(X_test))/_MAX_Y\n",
    "print(error_summary(Y_test['Sold Price'],grid_predictions))\n",
    "APE_hist(\"XGBoost LogPrice gridSearch\",Y_test['Sold Price'],grid_predictions)"
   ]
  },
  {
   "cell_type": "code",
   "execution_count": null,
   "metadata": {},
   "outputs": [],
   "source": [
    "#k-fold for sold price(XGBoost)'max_depth': 5, 'n_estimators': 400"
   ]
  },
  {
   "cell_type": "code",
   "execution_count": 30,
   "metadata": {},
   "outputs": [
    {
     "name": "stdout",
     "output_type": "stream",
     "text": [
      "R2=0.919(0.014)\n",
      "RMSE=55445(4480)\n",
      "MAPE=7.356(0.393)\n",
      "ACC(APE<20%)=0.948(0.013)\n"
     ]
    }
   ],
   "source": [
    "Kf_R2=[]\n",
    "Kf_RMSE=[]\n",
    "Kf_MAPE=[]\n",
    "Kf_ACC=[]\n",
    "folds = KFold(n_splits = 50, shuffle = True, random_state = 100)\n",
    "for train_index, test_index in folds.split(nX, nY):\n",
    "    XGBoost=xgb.XGBRegressor(n_estimators=400,\n",
    "                             max_depth=5).fit(nX.iloc[train_index],\n",
    "                                               nY.iloc[train_index]['Sold Price'])\n",
    "    \n",
    "    y_pred=XGBoost.predict(nX.iloc[test_index])\n",
    "    ES=error_summary(nY.iloc[test_index]['Sold Price'],y_pred)\n",
    "    Kf_R2.append(ES['R2'].values)\n",
    "    Kf_RMSE.append(ES['RMSE'].values)\n",
    "    Kf_MAPE.append(ES['MAPE'].values)\n",
    "    Kf_ACC.append(ES[\"ACC(APE<20%)\"].values)\n",
    "    \n",
    "print(f\"R2={round(np.mean(Kf_R2),3)}({round(np.std(Kf_R2),3)})\") \n",
    "print(f\"RMSE={round(np.mean(Kf_RMSE))}({round(np.std(Kf_RMSE))})\") \n",
    "print(f\"MAPE={round(np.mean(Kf_MAPE),3)}({round(np.std(Kf_MAPE),3)})\")\n",
    "print(f\"ACC(APE<20%)={round(np.mean( Kf_ACC),3)}({round(np.std( Kf_ACC),3)})\") "
   ]
  },
  {
   "cell_type": "code",
   "execution_count": null,
   "metadata": {},
   "outputs": [],
   "source": [
    "#k-fold for log price"
   ]
  },
  {
   "cell_type": "code",
   "execution_count": 34,
   "metadata": {},
   "outputs": [
    {
     "name": "stdout",
     "output_type": "stream",
     "text": [
      "R2=0.922(0.015)\n",
      "RMSE=54114(4833)\n",
      "MAPE=7.084(0.363)\n",
      "ACC(APE<20%)=0.953(0.01)\n"
     ]
    }
   ],
   "source": [
    "Kf_R2=[]\n",
    "Kf_RMSE=[]\n",
    "Kf_MAPE=[]\n",
    "Kf_ACC=[]\n",
    "folds = KFold(n_splits = 50, shuffle = True, random_state = 100)\n",
    "for train_index, test_index in folds.split(nX, nY):\n",
    "    XGBoost=xgb.XGBRegressor(n_estimators=700,\n",
    "                             max_depth=4).fit(nX.iloc[train_index],\n",
    "                                               nY.iloc[train_index]['log price'])\n",
    "    \n",
    "    y_pred=np.exp(XGBoost.predict(nX.iloc[test_index]))/_MAX_Y\n",
    "    ES=error_summary(nY.iloc[test_index]['Sold Price'],y_pred)  \n",
    "    Kf_R2.append(ES['R2'].values)\n",
    "    Kf_RMSE.append(ES['RMSE'].values)\n",
    "    Kf_MAPE.append(ES['MAPE'].values)\n",
    "    Kf_ACC.append(ES[\"ACC(APE<20%)\"].values)\n",
    "    \n",
    "print(f\"R2={round(np.mean(Kf_R2),3)}({round(np.std(Kf_R2),3)})\") \n",
    "print(f\"RMSE={round(np.mean(Kf_RMSE))}({round(np.std(Kf_RMSE))})\") \n",
    "print(f\"MAPE={round(np.mean(Kf_MAPE),3)}({round(np.std(Kf_MAPE),3)})\")\n",
    "print(f\"ACC(APE<20%)={round(np.mean( Kf_ACC),3)}({round(np.std( Kf_ACC),3)})\") "
   ]
  },
  {
   "cell_type": "code",
   "execution_count": null,
   "metadata": {},
   "outputs": [],
   "source": [
    "## SVR model with parameters 'kernel':('linear','poly','rbf'), 'C':range(1,30) in grid search"
   ]
  },
  {
   "cell_type": "code",
   "execution_count": 35,
   "metadata": {},
   "outputs": [
    {
     "name": "stdout",
     "output_type": "stream",
     "text": [
      "Best ACC(APE<20%: 0.8140000000000001\n",
      "\n",
      "{'C': 1, 'kernel': 'linear'}\n"
     ]
    }
   ],
   "source": [
    "parameters = {'kernel':('linear','poly','rbf'), 'C':range(1,30)}\n",
    "SVR_base = SVR(degree=2) #defult()\n",
    "ACC = make_scorer(GS_score)\n",
    "SVR_tuned = GridSearchCV(estimator=SVR_base, param_grid=parameters,\n",
    "                         cv = 5,scoring=ACC,n_jobs = -1)\n",
    "\n",
    "SVR_opt =SVR_tuned.fit(X_train, Y_train['Sold Price'])\n",
    "print(\"Best ACC(APE<20%: \" + str(SVR_opt.best_score_) + \"\\n\")\n",
    "#print(\"Optimal Model:\\n\" + str(SVR_opt.best_estimator_) + \"\\n\")\n",
    "print(SVR_opt.best_params_)"
   ]
  },
  {
   "cell_type": "code",
   "execution_count": null,
   "metadata": {},
   "outputs": [],
   "source": [
    "# Grid search "
   ]
  },
  {
   "cell_type": "code",
   "execution_count": 36,
   "metadata": {},
   "outputs": [
    {
     "name": "stdout",
     "output_type": "stream",
     "text": [
      "Best ACC(APE<20%: 0.8140000000000001\n",
      "\n",
      "{'C': 30, 'kernel': 'linear'}\n"
     ]
    }
   ],
   "source": [
    "parameters = {'kernel':('linear','poly','rbf'), 'C':range(30,60)}\n",
    "SVR_base = SVR(degree=2) #defult()\n",
    "ACC = make_scorer(GS_score)\n",
    "SVR_tuned = GridSearchCV(estimator=SVR_base, param_grid=parameters,\n",
    "                         cv = 5,scoring=ACC,n_jobs = -1)\n",
    "\n",
    "SVR_opt =SVR_tuned.fit(X_train, Y_train['Sold Price'])\n",
    "print(\"Best ACC(APE<20%: \" + str(SVR_opt.best_score_) + \"\\n\")\n",
    "#print(\"Optimal Model:\\n\" + str(SVR_opt.best_estimator_) + \"\\n\")\n",
    "print(SVR_opt.best_params_)"
   ]
  },
  {
   "cell_type": "code",
   "execution_count": 39,
   "metadata": {},
   "outputs": [
    {
     "name": "stdout",
     "output_type": "stream",
     "text": [
      "Best ACC(APE<20%: 0.874\n",
      "\n",
      "{'C': 0.5, 'epsilon': 0.05}\n"
     ]
    }
   ],
   "source": [
    "parameters = {'C':[0.1*x for x in range(5,20)],'epsilon':[0.01*x for x in range(5,20)]}\n",
    "SVR_base = SVR(kernel='linear')#defult()\n",
    "ACC = make_scorer(GS_score)\n",
    "SVR_tuned = GridSearchCV(estimator=SVR_base, param_grid=parameters,\n",
    "                         cv = 5,scoring=ACC,n_jobs = -1)\n",
    "\n",
    "SVR_opt =SVR_tuned.fit(X_train, Y_train['Sold Price'])\n",
    "print(\"Best ACC(APE<20%: \" + str(SVR_opt.best_score_) + \"\\n\")\n",
    "#print(\"Optimal Model:\\n\" + str(SVR_opt.best_estimator_) + \"\\n\")\n",
    "print(SVR_opt.best_params_)"
   ]
  },
  {
   "cell_type": "code",
   "execution_count": 40,
   "metadata": {},
   "outputs": [
    {
     "name": "stdout",
     "output_type": "stream",
     "text": [
      "Best ACC(APE<20%: 0.8939999999999999\n",
      "\n",
      "{'C': 0.1, 'epsilon': 0.01}\n"
     ]
    }
   ],
   "source": [
    "parameters = {'C':[0.1*x for x in range(1,6)],'epsilon':[0.01*x for x in range(1,6)]}\n",
    "SVR_base = SVR(kernel='linear')#defult()\n",
    "ACC = make_scorer(GS_score)\n",
    "SVR_tuned = GridSearchCV(estimator=SVR_base, param_grid=parameters,\n",
    "                         cv = 5,scoring=ACC,n_jobs = -1)\n",
    "\n",
    "SVR_opt =SVR_tuned.fit(X_train, Y_train['Sold Price'])\n",
    "print(\"Best ACC(APE<20%: \" + str(SVR_opt.best_score_) + \"\\n\")\n",
    "#print(\"Optimal Model:\\n\" + str(SVR_opt.best_estimator_) + \"\\n\")\n",
    "print(SVR_opt.best_params_)"
   ]
  },
  {
   "cell_type": "code",
   "execution_count": 43,
   "metadata": {},
   "outputs": [
    {
     "name": "stdout",
     "output_type": "stream",
     "text": [
      "Best ACC(APE<20%: 0.8939999999999999\n",
      "\n",
      "{'C': 0.02, 'epsilon': 0.002}\n"
     ]
    }
   ],
   "source": [
    "parameters = {'C':[0.02*x for x in range(1,6)],'epsilon':[0.002*x for x in range(1,6)]}\n",
    "SVR_base = SVR(kernel='linear')#defult()\n",
    "ACC = make_scorer(GS_score)\n",
    "SVR_tuned = GridSearchCV(estimator=SVR_base, param_grid=parameters,\n",
    "                         cv = 5,scoring=ACC,n_jobs = -1)\n",
    "\n",
    "SVR_opt =SVR_tuned.fit(X_train, Y_train['Sold Price'])\n",
    "print(\"Best ACC(APE<20%: \" + str(SVR_opt.best_score_) + \"\\n\")\n",
    "#print(\"Optimal Model:\\n\" + str(SVR_opt.best_estimator_) + \"\\n\")\n",
    "print(SVR_opt.best_params_)"
   ]
  },
  {
   "cell_type": "code",
   "execution_count": 44,
   "metadata": {},
   "outputs": [
    {
     "name": "stdout",
     "output_type": "stream",
     "text": [
      "         R2      RMSE  MAPE  ACC(APE<20%)\n",
      "Value  0.86  72158.66  9.96           0.9\n"
     ]
    },
    {
     "data": {
      "image/png": "[encoded data removed]",
      "text/plain": [
       "<Figure size 432x288 with 1 Axes>"
      ]
     },
     "metadata": {},
     "output_type": "display_data"
    }
   ],
   "source": [
    "grid_predictions = SVR_opt.predict(X_test)\n",
    "print(error_summary(Y_test['Sold Price'],grid_predictions))\n",
    "\n",
    "APE_hist(\"SVR SP gridSearch\",Y_test['Sold Price'],grid_predictions)"
   ]
  },
  {
   "cell_type": "code",
   "execution_count": null,
   "metadata": {},
   "outputs": [],
   "source": [
    "#log price c "
   ]
  },
  {
   "cell_type": "code",
   "execution_count": 45,
   "metadata": {},
   "outputs": [
    {
     "name": "stdout",
     "output_type": "stream",
     "text": [
      "Best zero-one score: 0.9200000000000002\n",
      "\n",
      "{'C': 1, 'kernel': 'rbf'}\n"
     ]
    }
   ],
   "source": [
    "parameters = {'kernel':('linear','poly','rbf'), 'C':range(1,30)}\n",
    "SVR_base = SVR(degree=2) #defult()\n",
    "ACC = make_scorer(Log_GS_score)\n",
    "SVR_tuned = GridSearchCV(estimator=SVR_base, param_grid=parameters,\n",
    "                         cv = 5,scoring=ACC,n_jobs = -1)\n",
    "                                \n",
    "SVR_opt =SVR_tuned.fit(X_train, Y_train['log price'])\n",
    "print(\"Best ACC(APE<20%: \" + str(SVR_opt.best_score_) + \"\\n\")\n",
    "#print(\"Optimal Model:\\n\" + str(SVR_opt.best_estimator_) + \"\\n\")\n",
    "print(SVR_opt.best_params_)"
   ]
  },
  {
   "cell_type": "code",
   "execution_count": 48,
   "metadata": {},
   "outputs": [
    {
     "name": "stdout",
     "output_type": "stream",
     "text": [
      "Best ACC(APE<20%: 0.922\n",
      "\n",
      "{'C': 0.5, 'epsilon': 0.05}\n"
     ]
    }
   ],
   "source": [
    "parameters = {'C':[0.1*x for x in range(5,20)],'epsilon':[0.01*x for x in range(5,20)]}\n",
    "SVR_base = SVR(kernel='rbf')#defult()\n",
    "ACC = make_scorer(Log_GS_score)\n",
    "SVR_tuned = GridSearchCV(estimator=SVR_base, param_grid=parameters,\n",
    "                         cv = 5,scoring=ACC,n_jobs = -1)\n",
    "\n",
    "SVR_opt =SVR_tuned.fit(X_train, Y_train['log price'])\n",
    "print(\"Best ACC(APE<20%: \" + str(SVR_opt.best_score_) + \"\\n\")\n",
    "#print(\"Optimal Model:\\n\" + str(SVR_opt.best_estimator_) + \"\\n\")\n",
    "print(SVR_opt.best_params_)"
   ]
  },
  {
   "cell_type": "code",
   "execution_count": 49,
   "metadata": {},
   "outputs": [
    {
     "name": "stdout",
     "output_type": "stream",
     "text": [
      "Best ACC(APE<20%: 0.922\n",
      "\n",
      "{'C': 0.4, 'epsilon': 0.01}\n"
     ]
    }
   ],
   "source": [
    "parameters = {'C':[0.1*x for x in range(1,6)],'epsilon':[0.01*x for x in range(1,6)]}\n",
    "SVR_base = SVR(kernel='rbf')#defult()\n",
    "ACC = make_scorer(Log_GS_score)\n",
    "SVR_tuned = GridSearchCV(estimator=SVR_base, param_grid=parameters,\n",
    "                         cv = 5,scoring=ACC,n_jobs = -1)\n",
    "\n",
    "SVR_opt =SVR_tuned.fit(X_train, Y_train['log price'])\n",
    "print(\"Best ACC(APE<20%: \" + str(SVR_opt.best_score_) + \"\\n\")\n",
    "#print(\"Optimal Model:\\n\" + str(SVR_opt.best_estimator_) + \"\\n\")\n",
    "print(SVR_opt.best_params_)"
   ]
  },
  {
   "cell_type": "code",
   "execution_count": null,
   "metadata": {},
   "outputs": [],
   "source": []
  },
  {
   "cell_type": "code",
   "execution_count": 50,
   "metadata": {},
   "outputs": [
    {
     "name": "stdout",
     "output_type": "stream",
     "text": [
      "         R2      RMSE  MAPE  ACC(APE<20%)\n",
      "Value  0.89  64759.04  8.84          0.92\n"
     ]
    },
    {
     "data": {
      "image/png": "[encoded data removed]",
      "text/plain": [
       "<Figure size 432x288 with 1 Axes>"
      ]
     },
     "metadata": {},
     "output_type": "display_data"
    }
   ],
   "source": [
    "grid_predictions = np.exp(SVR_opt.predict(X_test))/_MAX_Y\n",
    "print(error_summary(Y_test['Sold Price'],grid_predictions))\n",
    "\n",
    "APE_hist(\"SVR LogPrice gridSearch\",Y_test['Sold Price'],grid_predictions)"
   ]
  },
  {
   "cell_type": "code",
   "execution_count": null,
   "metadata": {},
   "outputs": [],
   "source": [
    "#k-fold for svr (sold price)"
   ]
  },
  {
   "cell_type": "code",
   "execution_count": 52,
   "metadata": {},
   "outputs": [
    {
     "name": "stdout",
     "output_type": "stream",
     "text": [
      "R2=0.865(0.021)\n",
      "RMSE=71633(6316)\n",
      "MAPE=9.936(0.515)\n",
      "ACC(APE<20%)=0.896(0.017)\n"
     ]
    }
   ],
   "source": [
    "Kf_R2=[]\n",
    "Kf_RMSE=[]\n",
    "Kf_MAPE=[]\n",
    "Kf_ACC=[]\n",
    "folds = KFold(n_splits = 50, shuffle = True, random_state = 100)\n",
    "for train_index, test_index in folds.split(nX, nY):\n",
    "    SVRegressor=SVR(kernel='linear', C=0.01,epsilon=0.001).fit(nX.iloc[train_index],\n",
    "                                            nY.iloc[train_index]['Sold Price'])\n",
    "    \n",
    "    y_pred=SVRegressor.predict(nX.iloc[test_index])\n",
    "    ES=error_summary(nY.iloc[test_index]['Sold Price'],y_pred)\n",
    "    Kf_R2.append(ES['R2'].values)\n",
    "    Kf_RMSE.append(ES['RMSE'].values)\n",
    "    Kf_MAPE.append(ES['MAPE'].values)\n",
    "    Kf_ACC.append(ES[\"ACC(APE<20%)\"].values)\n",
    "    \n",
    "print(f\"R2={round(np.mean(Kf_R2),3)}({round(np.std(Kf_R2),3)})\") \n",
    "print(f\"RMSE={round(np.mean(Kf_RMSE))}({round(np.std(Kf_RMSE))})\") \n",
    "print(f\"MAPE={round(np.mean(Kf_MAPE),3)}({round(np.std(Kf_MAPE),3)})\")\n",
    "print(f\"ACC(APE<20%)={round(np.mean( Kf_ACC),3)}({round(np.std( Kf_ACC),3)})\") "
   ]
  },
  {
   "cell_type": "code",
   "execution_count": null,
   "metadata": {},
   "outputs": [],
   "source": [
    "#K-FOLD FOR SVR LOG PRICE"
   ]
  },
  {
   "cell_type": "code",
   "execution_count": 54,
   "metadata": {},
   "outputs": [
    {
     "name": "stdout",
     "output_type": "stream",
     "text": [
      "R2=0.894(0.018)\n",
      "RMSE=63157(5339)\n",
      "MAPE=8.653(0.429)\n",
      "ACC(APE<20%)=0.924(0.013)\n"
     ]
    }
   ],
   "source": [
    "Kf_R2=[]\n",
    "Kf_RMSE=[]\n",
    "Kf_MAPE=[]\n",
    "Kf_ACC=[]\n",
    "folds = KFold(n_splits = 50, shuffle = True, random_state = 100)\n",
    "for train_index, test_index in folds.split(nX, nY):\n",
    "    SVRegressor=SVR(kernel='rbf', C=0.4,epsilon=0.01).fit(nX.iloc[train_index],\n",
    "                                            nY.iloc[train_index]['log price'])\n",
    "    \n",
    "    y_pred=np.exp(SVRegressor.predict(nX.iloc[test_index]))/_MAX_Y\n",
    "    ES=error_summary(nY.iloc[test_index]['Sold Price'],y_pred)\n",
    "    Kf_R2.append(ES['R2'].values)\n",
    "    Kf_RMSE.append(ES['RMSE'].values)\n",
    "    Kf_MAPE.append(ES['MAPE'].values)\n",
    "    Kf_ACC.append(ES[\"ACC(APE<20%)\"].values)\n",
    "    \n",
    "print(f\"R2={round(np.mean(Kf_R2),3)}({round(np.std(Kf_R2),3)})\") \n",
    "print(f\"RMSE={round(np.mean(Kf_RMSE))}({round(np.std(Kf_RMSE))})\") \n",
    "print(f\"MAPE={round(np.mean(Kf_MAPE),3)}({round(np.std(Kf_MAPE),3)})\")\n",
    "print(f\"ACC(APE<20%)={round(np.mean( Kf_ACC),3)}({round(np.std( Kf_ACC),3)})\") "
   ]
  },
  {
   "cell_type": "code",
   "execution_count": null,
   "metadata": {},
   "outputs": [],
   "source": []
  }
 ],
 "metadata": {
  "kernelspec": {
   "display_name": "Python 3",
   "language": "python",
   "name": "python3"
  },
  "language_info": {
   "codemirror_mode": {
    "name": "ipython",
    "version": 3
   },
   "file_extension": ".py",
   "mimetype": "text/x-python",
   "name": "python",
   "nbconvert_exporter": "python",
   "pygments_lexer": "ipython3",
   "version": "3.8.5"
  }
 },
 "nbformat": 4,
 "nbformat_minor": 4
}

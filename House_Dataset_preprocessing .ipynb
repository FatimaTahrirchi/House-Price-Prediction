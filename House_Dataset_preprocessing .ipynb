{
 "cells": [
  {
   "cell_type": "code",
   "execution_count": 1,
   "metadata": {},
   "outputs": [],
   "source": [
    "import xgboost as xgb\n",
    "import numpy as np\n",
    "import pandas as pd\n",
    "import matplotlib.pyplot as plt\n",
    "plt.style.use('ggplot')\n",
    "from sklearn import metrics\n",
    "from datetime import datetime\n",
    "import seaborn as sns\n",
    "from keras.models import Sequential\n",
    "from keras.layers import Dense\n",
    "from keras.utils import model_to_dot\n",
    "from keras.utils import plot_model\n",
    "from mlxtend.preprocessing import TransactionEncoder\n",
    "from sklearn.model_selection import train_test_split\n",
    "from sklearn.linear_model import LinearRegression\n",
    "from sklearn.metrics import mean_squared_error,r2_score\n",
    "from statistics import variance\n",
    "from sklearn.svm import SVR\n",
    "from sklearn.neighbors import KNeighborsRegressor\n",
    "from sklearn.ensemble import RandomForestRegressor,RandomForestClassifier,ExtraTreesClassifier\n",
    "from tensorflow.keras.models import Sequential\n",
    "from tensorflow.keras.layers import Dense, Dropout\n",
    "from tensorflow.keras.callbacks import EarlyStopping, LambdaCallback\n",
    "from sklearn.linear_model import LogisticRegression\n",
    "from sklearn.metrics import accuracy_score, classification_report\n",
    "from sklearn.model_selection import KFold, cross_val_score,GridSearchCV\n",
    "from sklearn.feature_selection import RFE\n",
    "from xgboost import cv\n",
    "from sklearn.metrics import make_scorer"
   ]
  },
  {
   "cell_type": "code",
   "execution_count": 2,
   "metadata": {},
   "outputs": [
    {
     "name": "stderr",
     "output_type": "stream",
     "text": [
      "/opt/anaconda3/lib/python3.8/site-packages/IPython/core/interactiveshell.py:3146: DtypeWarning: Columns (56,61) have mixed types.Specify dtype option on import or set low_memory=False.\n",
      "  has_raised = await self.run_ast_nodes(code_ast.body, cell_name,\n"
     ]
    }
   ],
   "source": [
    "dataset=pd.read_csv(\"dataset.csv\")"
   ]
  },
  {
   "cell_type": "code",
   "execution_count": 3,
   "metadata": {},
   "outputs": [],
   "source": [
    "dataset=dataset.replace({\"--\":np.nan})\n",
    "#dataset.describe()"
   ]
  },
  {
   "cell_type": "code",
   "execution_count": 4,
   "metadata": {},
   "outputs": [
    {
     "name": "stdout",
     "output_type": "stream",
     "text": [
      "<class 'pandas.core.frame.DataFrame'>\n",
      "RangeIndex: 39961 entries, 0 to 39960\n",
      "Data columns (total 71 columns):\n",
      " #   Column                    Non-Null Count  Dtype  \n",
      "---  ------                    --------------  -----  \n",
      " 0   Sample                    39961 non-null  int64  \n",
      " 1   ID                        39961 non-null  int64  \n",
      " 2   DATA                      39961 non-null  int64  \n",
      " 3   LONGITUDE                 39961 non-null  int64  \n",
      " 4   LATITUDE                  39961 non-null  int64  \n",
      " 5   City                      39961 non-null  object \n",
      " 6   Postal Code               39955 non-null  object \n",
      " 7   Community                 39961 non-null  object \n",
      " 8   Property Type             39961 non-null  object \n",
      " 9   Building Style            39913 non-null  object \n",
      " 10  Bedrooms AG               39888 non-null  float64\n",
      " 11  Bedrooms BG               18701 non-null  float64\n",
      " 12  Washrooms                 39961 non-null  int64  \n",
      " 13  Kitchen                   39887 non-null  float64\n",
      " 14  Family Room               39892 non-null  object \n",
      " 15  Basement                  39893 non-null  object \n",
      " 16  Age Range                 15397 non-null  object \n",
      " 17  Exposure                  23579 non-null  object \n",
      " 18  Square Feet               28059 non-null  object \n",
      " 19  Parking Type              39924 non-null  object \n",
      " 20  Parking Spot              13696 non-null  float64\n",
      " 21  Taxes                     39961 non-null  float64\n",
      " 22  Maint. Fees               23629 non-null  object \n",
      " 23  AC Type                   39891 non-null  object \n",
      " 24  Heat Type                 39889 non-null  object \n",
      " 25  Common Elements Included  23596 non-null  object \n",
      " 26  Taxes Included            23626 non-null  object \n",
      " 27  Heat included             23595 non-null  object \n",
      " 28  Water Included            23597 non-null  object \n",
      " 29  Hydro Included            23597 non-null  object \n",
      " 30  Parking Included          23603 non-null  object \n",
      " 31  Ensuite Laundry           23578 non-null  object \n",
      " 32  Locker                    23588 non-null  object \n",
      " 33  Locker Unit               2287 non-null   object \n",
      " 34  Balcony                   23583 non-null  object \n",
      " 35  Corp #                    23589 non-null  float64\n",
      " 36  Management Company        23446 non-null  object \n",
      " 37  Amenities 1               19207 non-null  object \n",
      " 38  Amenities 2               18477 non-null  object \n",
      " 39  Amenities 3               17720 non-null  object \n",
      " 40  Amenities 4               16868 non-null  object \n",
      " 41  Amenities 5               15436 non-null  object \n",
      " 42  Amenities 6               12476 non-null  object \n",
      " 43  Contract Date             39961 non-null  object \n",
      " 44  Expirey Date              39961 non-null  object \n",
      " 45  Sold Date                 39961 non-null  object \n",
      " 46  Terminated Date           22 non-null     float64\n",
      " 47  Suspended Date            330 non-null    object \n",
      " 48  Closing Date              39958 non-null  object \n",
      " 49  Status                    39961 non-null  object \n",
      " 50  List Price                39961 non-null  int64  \n",
      " 51  Sold Price                39961 non-null  int64  \n",
      " 52  Days on Market            39961 non-null  int64  \n",
      " 53  Pets Permitted            23581 non-null  object \n",
      " 54  Original Price            39961 non-null  int64  \n",
      " 55  Heat Source               39889 non-null  object \n",
      " 56  Hold Over Days            39958 non-null  object \n",
      " 57  Picture Exists            39540 non-null  object \n",
      " 58  Total Rooms               39890 non-null  object \n",
      " 59  Transaction Type          39961 non-null  object \n",
      " 60  Ownership Type            39961 non-null  object \n",
      " 61  Sale to List %            39956 non-null  object \n",
      " 62  Ward                      39958 non-null  object \n",
      " 63  Latitude:1                39961 non-null  float64\n",
      " 64  Longtitude                39961 non-null  float64\n",
      " 65  Status Auto               39961 non-null  object \n",
      " 66  Region                    39961 non-null  object \n",
      " 67  neighbourhood_ID          39961 non-null  int64  \n",
      " 68  neighbourhood_name        39961 non-null  object \n",
      " 69  green_date                39961 non-null  object \n",
      " 70  green_new                 39961 non-null  float64\n",
      "dtypes: float64(10), int64(11), object(50)\n",
      "memory usage: 21.6+ MB\n"
     ]
    }
   ],
   "source": [
    "dataset.info()"
   ]
  },
  {
   "cell_type": "code",
   "execution_count": 5,
   "metadata": {},
   "outputs": [],
   "source": [
    "def convert_date(date):\n",
    "    try:\n",
    "        return  datetime.strptime(date,'%m/%d/%Y' )    \n",
    "    except: \n",
    "        try:   \n",
    "            return  datetime.strptime(date, '%d/%m/%Y')\n",
    "        except:\n",
    "            #print(date)\n",
    "            return np.nan\n",
    "    \n",
    "\n",
    "def convert_month(date):\n",
    "    return (date.year-2016)*12+(date.month-1)\n",
    "\n",
    "dataset['Sold Date']=[convert_date(X) for X in dataset['Sold Date'].tolist()]\n",
    "dataset['Date']=[convert_month(X) for X in dataset['Sold Date'].tolist()]"
   ]
  },
  {
   "cell_type": "code",
   "execution_count": 6,
   "metadata": {},
   "outputs": [],
   "source": [
    "mortgage=pd.read_csv(\"book3.csv\").dropna()\n",
    "#mortgage[\"Date\"]=[datetime.strptime(X,'%b-%y' ) for X in mortgage[\"Jul-110 *M Disaggregate_All\"].tolist()]\n",
    "#mortgage[\"Date\"]=[convert_month(X) for X in mortgage[\"Date\"].tolist()]\n",
    "#mortgage=mortgage[mortgage[\"Date\"]>=0]\n",
    "#mortgage=mortgage[mortgage[\"Date\"]<25]\n",
    "#mortgage[\"MortgageRate\"]=mortgage[\"V122520@CANADA\"]\n",
    "#mortgage=mortgage.drop([\"Jul-110 *M Disaggregate_All\",\"V122520@CANADA\"],axis=1)\n",
    "dataset[\"MortgageRate\"]=[mortgage[\"V122520@CANADA\"][d+66] for d in dataset[\"Date\"].values]"
   ]
  },
  {
   "cell_type": "code",
   "execution_count": 7,
   "metadata": {},
   "outputs": [
    {
     "data": {
      "text/html": [
       "<div>\n",
       "<style scoped>\n",
       "    .dataframe tbody tr th:only-of-type {\n",
       "        vertical-align: middle;\n",
       "    }\n",
       "\n",
       "    .dataframe tbody tr th {\n",
       "        vertical-align: top;\n",
       "    }\n",
       "\n",
       "    .dataframe thead th {\n",
       "        text-align: right;\n",
       "    }\n",
       "</style>\n",
       "<table border=\"1\" class=\"dataframe\">\n",
       "  <thead>\n",
       "    <tr style=\"text-align: right;\">\n",
       "      <th></th>\n",
       "      <th>MortgageRate</th>\n",
       "      <th>Date</th>\n",
       "    </tr>\n",
       "  </thead>\n",
       "  <tbody>\n",
       "    <tr>\n",
       "      <th>0</th>\n",
       "      <td>3.14</td>\n",
       "      <td>10</td>\n",
       "    </tr>\n",
       "    <tr>\n",
       "      <th>1</th>\n",
       "      <td>3.14</td>\n",
       "      <td>7</td>\n",
       "    </tr>\n",
       "    <tr>\n",
       "      <th>2</th>\n",
       "      <td>3.14</td>\n",
       "      <td>9</td>\n",
       "    </tr>\n",
       "    <tr>\n",
       "      <th>3</th>\n",
       "      <td>3.14</td>\n",
       "      <td>9</td>\n",
       "    </tr>\n",
       "    <tr>\n",
       "      <th>4</th>\n",
       "      <td>3.14</td>\n",
       "      <td>2</td>\n",
       "    </tr>\n",
       "    <tr>\n",
       "      <th>...</th>\n",
       "      <td>...</td>\n",
       "      <td>...</td>\n",
       "    </tr>\n",
       "    <tr>\n",
       "      <th>39956</th>\n",
       "      <td>3.24</td>\n",
       "      <td>22</td>\n",
       "    </tr>\n",
       "    <tr>\n",
       "      <th>39957</th>\n",
       "      <td>3.14</td>\n",
       "      <td>10</td>\n",
       "    </tr>\n",
       "    <tr>\n",
       "      <th>39958</th>\n",
       "      <td>3.24</td>\n",
       "      <td>22</td>\n",
       "    </tr>\n",
       "    <tr>\n",
       "      <th>39959</th>\n",
       "      <td>3.14</td>\n",
       "      <td>14</td>\n",
       "    </tr>\n",
       "    <tr>\n",
       "      <th>39960</th>\n",
       "      <td>3.14</td>\n",
       "      <td>8</td>\n",
       "    </tr>\n",
       "  </tbody>\n",
       "</table>\n",
       "<p>39961 rows × 2 columns</p>\n",
       "</div>"
      ],
      "text/plain": [
       "       MortgageRate  Date\n",
       "0              3.14    10\n",
       "1              3.14     7\n",
       "2              3.14     9\n",
       "3              3.14     9\n",
       "4              3.14     2\n",
       "...             ...   ...\n",
       "39956          3.24    22\n",
       "39957          3.14    10\n",
       "39958          3.24    22\n",
       "39959          3.14    14\n",
       "39960          3.14     8\n",
       "\n",
       "[39961 rows x 2 columns]"
      ]
     },
     "execution_count": 7,
     "metadata": {},
     "output_type": "execute_result"
    }
   ],
   "source": [
    "dataset[[\"MortgageRate\",\"Date\"]]\n"
   ]
  },
  {
   "cell_type": "code",
   "execution_count": null,
   "metadata": {},
   "outputs": [],
   "source": []
  },
  {
   "cell_type": "code",
   "execution_count": 8,
   "metadata": {},
   "outputs": [],
   "source": [
    "amenities_list=dataset[['Amenities 1', 'Amenities 2', 'Amenities 3', 'Amenities 4', 'Amenities 5', 'Amenities 6']].fillna(\"None\").values\n",
    "#The TransactionEncoder returna  a \"True\" and \"False\" Matrix.\n",
    "te = TransactionEncoder()\n",
    "te_ary = te.fit(amenities_list).transform(amenities_list)\n",
    "#convert all \"bool\" type to \"int\".\n",
    "te_ary=te_ary.astype(\"int\")\n",
    "amenities_df=pd.DataFrame(te_ary, columns=te.columns_).drop(\"None\",axis=1)\n",
    "dataset[list(amenities_df.columns)]=amenities_df"
   ]
  },
  {
   "cell_type": "code",
   "execution_count": 9,
   "metadata": {},
   "outputs": [],
   "source": [
    "temp_dataset=dataset[['ID','Postal Code','LONGITUDE', 'LATITUDE','Latitude:1', 'Longtitude','Expirey Date','Terminated Date','Suspended Date','Closing Date',\"Community\",\"neighbourhood_ID\",\"Ward\"]]\n"
   ]
  },
  {
   "cell_type": "code",
   "execution_count": 10,
   "metadata": {},
   "outputs": [],
   "source": [
    "dataset=dataset.drop(['Sample', 'City','Status','Status Auto','Region','Transaction Type',\"Kitchen\"],axis=1) # low varience\n",
    "dataset=dataset.drop(['DATA','Postal Code','LONGITUDE', 'LATITUDE','Latitude:1', 'Longtitude'],axis=1) #No info\n",
    "dataset=dataset.drop([\"Picture Exists\",'Corp #','Management Company','green_date'],axis=1)\n",
    "dataset=dataset.drop(['Expirey Date','Terminated Date','Suspended Date','Closing Date','Contract Date', 'Sold Date'],axis=1)\n",
    "dataset=dataset.drop([\"Community\",'neighbourhood_ID','neighbourhood_name'],axis=1) #equal to neighbourhood_name  \n",
    "dataset=dataset.drop([\"Age Range\",\"Locker Unit\",\"Parking Spot\"],axis=1) # miss value\n",
    "dataset=dataset.drop(['Amenities 1', 'Amenities 2', 'Amenities 3', 'Amenities 4', 'Amenities 5', 'Amenities 6'],axis=1) # converted"
   ]
  },
  {
   "cell_type": "code",
   "execution_count": 11,
   "metadata": {},
   "outputs": [],
   "source": [
    "dataset['Bedrooms BG']=dataset['Bedrooms BG'].fillna(0) #fill miss value with zero\n",
    "dataset['Bedrooms AG']=dataset['Bedrooms AG'].fillna(0) #fill miss value with zero\n",
    "dataset['Family Room']=dataset['Family Room'].fillna(0) #fill miss value with zero\n",
    "dataset['Basement']=dataset['Basement'].fillna(\"None\") #fill miss value with \"None\": dont have any basement\n",
    "dataset[\"Heat Source\"]=dataset[\"Heat Source\"].fillna(\"Other\") #fill miss value with \"Other\""
   ]
  },
  {
   "cell_type": "code",
   "execution_count": 12,
   "metadata": {},
   "outputs": [],
   "source": [
    "# problem in .csv file string instead of num\n",
    "# convert sring to int"
   ]
  },
  {
   "cell_type": "code",
   "execution_count": 13,
   "metadata": {},
   "outputs": [],
   "source": [
    "def convert_toInt(num):\n",
    "    try:\n",
    "        return int(float(num))\n",
    "    except:\n",
    "        return np.nan  \n",
    "    \n",
    "dataset[\"Sale to List %\"]=[convert_toInt(X) for X in dataset[\"Sale to List %\"].tolist()]\n",
    "dataset['Maint. Fees']=[convert_toInt(X) for X in dataset['Maint. Fees'].tolist()]\n",
    "dataset['Total Rooms']=[convert_toInt(X) for X in dataset['Total Rooms'].tolist()]\n",
    "dataset['Family Room']=[convert_toInt(X) for X in dataset['Family Room'].tolist()]\n",
    "dataset['Common Elements Included']=[convert_toInt(X) for X in dataset['Common Elements Included'].tolist()]\n",
    "dataset['Taxes Included']=[convert_toInt(X) for X in dataset['Taxes Included'].tolist()]\n",
    "dataset['Heat included']=[convert_toInt(X) for X in dataset['Heat included'].tolist()]\n",
    "dataset['Water Included']=[convert_toInt(X) for X in dataset['Water Included'].tolist()]\n",
    "dataset['Hydro Included']=[convert_toInt(X) for X in dataset['Hydro Included'].tolist()]\n",
    "dataset['Parking Included']=[convert_toInt(X) for X in dataset['Parking Included'].tolist()]\n",
    "dataset['Ensuite Laundry']=[convert_toInt(X) for X in dataset['Ensuite Laundry'].tolist()]\n"
   ]
  },
  {
   "cell_type": "code",
   "execution_count": 14,
   "metadata": {},
   "outputs": [
    {
     "name": "stdout",
     "output_type": "stream",
     "text": [
      "Ownership Type:\n",
      "Condo: {'Leasehold Condo', 'Semi-Det Condo', 'Condo Townhouse', 'Parking Space', 'Comm Element Condo', 'Det Condo', 'Co-Op Apt', 'Locker', 'Co-Ownership Apt', 'Other', 'Condo Apt'}\n",
      "Free: {'Semi-Detached', 'Vacant Land', 'Fourplex', 'Detached', 'Duplex', 'Det W/Com Elements', 'Multiplex', 'Att/Row/Twnhouse', 'Triplex', 'Other', 'Store W/Apt/Offc', 'Link'}\n"
     ]
    }
   ],
   "source": [
    "print('Ownership Type:')\n",
    "print(\"Condo:\",set(dataset[dataset['Ownership Type']=='Condo']['Property Type']))\n",
    "print(\"Free:\",set(dataset[dataset['Ownership Type']=='Free']['Property Type']))"
   ]
  },
  {
   "cell_type": "code",
   "execution_count": 15,
   "metadata": {},
   "outputs": [
    {
     "data": {
      "text/plain": [
       "Index(['ID', 'Property Type', 'Building Style', 'Bedrooms AG', 'Bedrooms BG',\n",
       "       'Washrooms', 'Family Room', 'Basement', 'Exposure', 'Square Feet',\n",
       "       'Parking Type', 'Taxes', 'Maint. Fees', 'AC Type', 'Heat Type',\n",
       "       'Common Elements Included', 'Taxes Included', 'Heat included',\n",
       "       'Water Included', 'Hydro Included', 'Parking Included',\n",
       "       'Ensuite Laundry', 'Locker', 'Balcony', 'List Price', 'Sold Price',\n",
       "       'Days on Market', 'Pets Permitted', 'Original Price', 'Heat Source',\n",
       "       'Hold Over Days', 'Total Rooms', 'Ownership Type', 'Sale to List %',\n",
       "       'Ward', 'green_new', 'Date', 'MortgageRate', 'Bbqs Allowed',\n",
       "       'Bike Storage', 'Bus Ctr (Wifi Bldg)', 'Car Wash', 'Concierge',\n",
       "       'Exercise Room', 'Games Room', 'Guest Suites', 'Gym', 'Indoor Pool',\n",
       "       'Lap Pool', 'Media Room', 'Outdoor Pool', 'Party/Meeting Room',\n",
       "       'Recreation Room', 'Rooftop Deck/Garden', 'Satellite Dish', 'Sauna',\n",
       "       'Security Guard', 'Security System', 'Squash/Racquet Court',\n",
       "       'Tennis Court', 'Visitor Parking'],\n",
       "      dtype='object')"
      ]
     },
     "execution_count": 15,
     "metadata": {},
     "output_type": "execute_result"
    }
   ],
   "source": [
    "dataset.columns"
   ]
  },
  {
   "cell_type": "code",
   "execution_count": 16,
   "metadata": {},
   "outputs": [],
   "source": [
    "#House type and house attributes\n",
    "House_Type=['Duplex', 'Semi-Detached', 'Triplex','Multiplex','Fourplex','Link','Att/Row/Twnhouse','Detached']\n",
    "House_Attributes=['Property Type', 'Building Style', 'Bedrooms AG', 'Bedrooms BG','Washrooms','Family Room', \n",
    "       'Basement','Parking Type','Taxes','AC Type','Heat Source','Total Rooms','Ward',\n",
    "        'green_new','Date',\"MortgageRate\",'Sale to List %','Days on Market','List Price', 'Sold Price'] "
   ]
  },
  {
   "cell_type": "code",
   "execution_count": 17,
   "metadata": {},
   "outputs": [],
   "source": [
    "House_dataset=dataset[dataset[\"Property Type\"].isin(House_Type)]\n",
    "House_dataset=House_dataset[House_Attributes]"
   ]
  },
  {
   "cell_type": "code",
   "execution_count": 18,
   "metadata": {},
   "outputs": [
    {
     "data": {
      "text/html": [
       "<div>\n",
       "<style scoped>\n",
       "    .dataframe tbody tr th:only-of-type {\n",
       "        vertical-align: middle;\n",
       "    }\n",
       "\n",
       "    .dataframe tbody tr th {\n",
       "        vertical-align: top;\n",
       "    }\n",
       "\n",
       "    .dataframe thead th {\n",
       "        text-align: right;\n",
       "    }\n",
       "</style>\n",
       "<table border=\"1\" class=\"dataframe\">\n",
       "  <thead>\n",
       "    <tr style=\"text-align: right;\">\n",
       "      <th></th>\n",
       "      <th>Property Type</th>\n",
       "      <th>Building Style</th>\n",
       "      <th>Bedrooms AG</th>\n",
       "      <th>Bedrooms BG</th>\n",
       "      <th>Washrooms</th>\n",
       "      <th>Family Room</th>\n",
       "      <th>Basement</th>\n",
       "      <th>Parking Type</th>\n",
       "      <th>Taxes</th>\n",
       "      <th>AC Type</th>\n",
       "      <th>Heat Source</th>\n",
       "      <th>Total Rooms</th>\n",
       "      <th>Ward</th>\n",
       "      <th>green_new</th>\n",
       "      <th>Date</th>\n",
       "      <th>MortgageRate</th>\n",
       "      <th>Sale to List %</th>\n",
       "      <th>Days on Market</th>\n",
       "      <th>List Price</th>\n",
       "      <th>Sold Price</th>\n",
       "    </tr>\n",
       "  </thead>\n",
       "  <tbody>\n",
       "    <tr>\n",
       "      <th>1917</th>\n",
       "      <td>Detached</td>\n",
       "      <td>Bungalow</td>\n",
       "      <td>3.0</td>\n",
       "      <td>2.0</td>\n",
       "      <td>2</td>\n",
       "      <td>1</td>\n",
       "      <td>Finished</td>\n",
       "      <td>None</td>\n",
       "      <td>13135.06</td>\n",
       "      <td>Central Air</td>\n",
       "      <td>Gas</td>\n",
       "      <td>5.0</td>\n",
       "      <td>C04</td>\n",
       "      <td>32.469583</td>\n",
       "      <td>22</td>\n",
       "      <td>3.24</td>\n",
       "      <td>NaN</td>\n",
       "      <td>49</td>\n",
       "      <td>100</td>\n",
       "      <td>2000000</td>\n",
       "    </tr>\n",
       "    <tr>\n",
       "      <th>7809</th>\n",
       "      <td>Detached</td>\n",
       "      <td>NaN</td>\n",
       "      <td>0.0</td>\n",
       "      <td>0.0</td>\n",
       "      <td>0</td>\n",
       "      <td>0</td>\n",
       "      <td>None</td>\n",
       "      <td>NaN</td>\n",
       "      <td>4800.00</td>\n",
       "      <td>NaN</td>\n",
       "      <td>Other</td>\n",
       "      <td>NaN</td>\n",
       "      <td>C07</td>\n",
       "      <td>36.657604</td>\n",
       "      <td>1</td>\n",
       "      <td>3.14</td>\n",
       "      <td>95.0</td>\n",
       "      <td>2</td>\n",
       "      <td>1088000</td>\n",
       "      <td>1030000</td>\n",
       "    </tr>\n",
       "    <tr>\n",
       "      <th>17579</th>\n",
       "      <td>Semi-Detached</td>\n",
       "      <td>2-Storey</td>\n",
       "      <td>3.0</td>\n",
       "      <td>0.0</td>\n",
       "      <td>4</td>\n",
       "      <td>0</td>\n",
       "      <td>Finished</td>\n",
       "      <td>None</td>\n",
       "      <td>3498.00</td>\n",
       "      <td>Central Air</td>\n",
       "      <td>Gas</td>\n",
       "      <td>6.0</td>\n",
       "      <td>W02</td>\n",
       "      <td>10.580400</td>\n",
       "      <td>4</td>\n",
       "      <td>3.14</td>\n",
       "      <td>NaN</td>\n",
       "      <td>10</td>\n",
       "      <td>1</td>\n",
       "      <td>655000</td>\n",
       "    </tr>\n",
       "  </tbody>\n",
       "</table>\n",
       "</div>"
      ],
      "text/plain": [
       "       Property Type Building Style  Bedrooms AG  Bedrooms BG  Washrooms  \\\n",
       "1917        Detached       Bungalow          3.0          2.0          2   \n",
       "7809        Detached            NaN          0.0          0.0          0   \n",
       "17579  Semi-Detached       2-Storey          3.0          0.0          4   \n",
       "\n",
       "       Family Room  Basement Parking Type     Taxes      AC Type Heat Source  \\\n",
       "1917             1  Finished         None  13135.06  Central Air         Gas   \n",
       "7809             0      None          NaN   4800.00          NaN       Other   \n",
       "17579            0  Finished         None   3498.00  Central Air         Gas   \n",
       "\n",
       "       Total Rooms Ward  green_new  Date  MortgageRate  Sale to List %  \\\n",
       "1917           5.0  C04  32.469583    22          3.24             NaN   \n",
       "7809           NaN  C07  36.657604     1          3.14            95.0   \n",
       "17579          6.0  W02  10.580400     4          3.14             NaN   \n",
       "\n",
       "       Days on Market  List Price  Sold Price  \n",
       "1917               49         100     2000000  \n",
       "7809                2     1088000     1030000  \n",
       "17579              10           1      655000  "
      ]
     },
     "execution_count": 18,
     "metadata": {},
     "output_type": "execute_result"
    }
   ],
   "source": [
    "is_NaN = House_dataset.isnull()\n",
    "row_has_NaN = is_NaN.any(axis=1)\n",
    "rows_with_NaN = House_dataset[row_has_NaN]\n",
    "rows_with_NaN"
   ]
  },
  {
   "cell_type": "code",
   "execution_count": 19,
   "metadata": {},
   "outputs": [],
   "source": [
    "# drop collom contine miss value"
   ]
  },
  {
   "cell_type": "code",
   "execution_count": 20,
   "metadata": {},
   "outputs": [],
   "source": [
    "House_dataset=House_dataset.dropna() "
   ]
  },
  {
   "cell_type": "markdown",
   "metadata": {},
   "source": [
    "## House_dataset"
   ]
  },
  {
   "cell_type": "code",
   "execution_count": 21,
   "metadata": {},
   "outputs": [],
   "source": [
    "#House_dataset=House_dataset[House_dataset['Sold Price']<1525000]\n",
    "#House_dataset=House_dataset[House_dataset['Sold Price']>125000]"
   ]
  },
  {
   "cell_type": "code",
   "execution_count": 22,
   "metadata": {},
   "outputs": [
    {
     "name": "stdout",
     "output_type": "stream",
     "text": [
      "Index(['Property Type', 'Building Style', 'Bedrooms AG', 'Bedrooms BG',\n",
      "       'Washrooms', 'Family Room', 'Basement', 'Parking Type', 'Taxes',\n",
      "       'AC Type', 'Heat Source', 'Total Rooms', 'Ward', 'green_new', 'Date',\n",
      "       'MortgageRate', 'Sale to List %', 'Days on Market', 'List Price',\n",
      "       'Sold Price'],\n",
      "      dtype='object')\n"
     ]
    }
   ],
   "source": [
    "print(House_dataset.columns)"
   ]
  },
  {
   "cell_type": "code",
   "execution_count": 23,
   "metadata": {},
   "outputs": [
    {
     "data": {
      "text/plain": [
       "Detached            11412\n",
       "Semi-Detached        3384\n",
       "Att/Row/Twnhouse     1188\n",
       "Link                  111\n",
       "Duplex                 81\n",
       "Triplex                41\n",
       "Multiplex              33\n",
       "Fourplex               11\n",
       "Name: Property Type, dtype: int64"
      ]
     },
     "execution_count": 23,
     "metadata": {},
     "output_type": "execute_result"
    }
   ],
   "source": [
    "House_dataset['Property Type'].value_counts()"
   ]
  },
  {
   "cell_type": "code",
   "execution_count": 24,
   "metadata": {},
   "outputs": [
    {
     "data": {
      "text/plain": [
       "Detached                11412\n",
       "Semi-Detached            3384\n",
       "Other house Property     1465\n",
       "Name: Property Type, dtype: int64"
      ]
     },
     "execution_count": 24,
     "metadata": {},
     "output_type": "execute_result"
    }
   ],
   "source": [
    "House_dataset['Property Type']=House_dataset['Property Type'].replace(\"Att/Row/Twnhouse\",\"Other house Property\")\n",
    "House_dataset['Property Type']=House_dataset['Property Type'].replace(\"Link\",\"Other house Property\")\n",
    "House_dataset['Property Type']=House_dataset['Property Type'].replace(\"Duplex\",\"Other house Property\")\n",
    "House_dataset['Property Type']=House_dataset['Property Type'].replace(\"Triplex\",\"Other house Property\")\n",
    "House_dataset['Property Type']=House_dataset['Property Type'].replace(\"Multiplex\",\"Other house Property\")\n",
    "House_dataset['Property Type']=House_dataset['Property Type'].replace(\"Fourplex\",\"Other house Property\")\n",
    "House_dataset['Property Type'].value_counts()"
   ]
  },
  {
   "cell_type": "code",
   "execution_count": 25,
   "metadata": {},
   "outputs": [],
   "source": [
    "House_dataset['Detached']=(House_dataset['Property Type']==\"Detached\").astype(int)\n",
    "House_dataset['Semi-Detached']=(House_dataset['Property Type']==\"Semi-Detached\").astype(int)\n",
    "House_dataset['Other house Property']=(House_dataset['Property Type']==\"Other house Property\").astype(int)\n",
    "House_dataset=House_dataset.drop('Property Type',axis=1)"
   ]
  },
  {
   "cell_type": "code",
   "execution_count": 26,
   "metadata": {},
   "outputs": [
    {
     "data": {
      "text/plain": [
       "2-Storey           7806\n",
       "Bungalow           3806\n",
       "3-Storey           1285\n",
       "2 1/2 Storey        750\n",
       "1 1/2 Storey        675\n",
       "Bungalow-Raised     569\n",
       "Backsplit 4         365\n",
       "Sidesplit 4         281\n",
       "Backsplit 3         256\n",
       "Backsplit 5         199\n",
       "Sidesplit 3         178\n",
       "Sidesplit 5          40\n",
       "Other                37\n",
       "Bungaloft            13\n",
       "Multi-Level           1\n",
       "Name: Building Style, dtype: int64"
      ]
     },
     "execution_count": 26,
     "metadata": {},
     "output_type": "execute_result"
    }
   ],
   "source": [
    "House_dataset['Building Style'].value_counts()"
   ]
  },
  {
   "cell_type": "code",
   "execution_count": 27,
   "metadata": {},
   "outputs": [
    {
     "data": {
      "text/plain": [
       "Multi Storey         10516\n",
       "Bungalow              4388\n",
       "Other house Style     1357\n",
       "Name: Building Style, dtype: int64"
      ]
     },
     "execution_count": 27,
     "metadata": {},
     "output_type": "execute_result"
    }
   ],
   "source": [
    "House_dataset['Building Style']=House_dataset['Building Style'].replace(\"Multi-Level\",\"Other house Style\")\n",
    "House_dataset['Building Style']=House_dataset['Building Style'].replace(\"Other\",\"Other house Style\")\n",
    "House_dataset['Building Style']=House_dataset['Building Style'].replace(\"Bungaloft\",\"Bungalow\")\n",
    "House_dataset['Building Style']=House_dataset['Building Style'].replace(\"Sidesplit 5\",\"Other house Style\")\n",
    "House_dataset['Building Style']=House_dataset['Building Style'].replace(\"Sidesplit 3\",\"Other house Style\")\n",
    "House_dataset['Building Style']=House_dataset['Building Style'].replace(\"Backsplit 5\",\"Other house Style\")\n",
    "House_dataset['Building Style']=House_dataset['Building Style'].replace(\"Backsplit 3\",\"Other house Style\")\n",
    "House_dataset['Building Style']=House_dataset['Building Style'].replace(\"Sidesplit 4\",\"Other house Style\")\n",
    "House_dataset['Building Style']=House_dataset['Building Style'].replace(\"Backsplit 4\",\"Other house Style\")\n",
    "House_dataset['Building Style']=House_dataset['Building Style'].replace(\"2 1/2 Storey\",\"Multi Storey\")\n",
    "House_dataset['Building Style']=House_dataset['Building Style'].replace(\"1 1/2 Storey\",\"Multi Storey\")\n",
    "House_dataset['Building Style']=House_dataset['Building Style'].replace(\"3-Storey\",\"Multi Storey\")\n",
    "House_dataset['Building Style']=House_dataset['Building Style'].replace(\"2-Storey\",\"Multi Storey\")\n",
    "House_dataset['Building Style']=House_dataset['Building Style'].replace(\"Bungalow-Raised\",\"Bungalow\")\n",
    "House_dataset['Building Style'].value_counts()"
   ]
  },
  {
   "cell_type": "code",
   "execution_count": 28,
   "metadata": {},
   "outputs": [],
   "source": [
    "House_dataset['Multi Storey']=(House_dataset['Building Style']==\"Multi Storey\").astype(int)\n",
    "House_dataset['Bungalow']=(House_dataset['Building Style']==\"Bungalow\").astype(int)\n",
    "House_dataset['Other house Style']=(House_dataset['Building Style']==\"Other house Style\").astype(int)\n",
    "House_dataset=House_dataset.drop('Building Style',axis=1)"
   ]
  },
  {
   "cell_type": "code",
   "execution_count": 29,
   "metadata": {},
   "outputs": [
    {
     "data": {
      "text/plain": [
       "0.0      22\n",
       "1.0     105\n",
       "2.0    1834\n",
       "3.0    8869\n",
       "4.0    4271\n",
       "5.0     879\n",
       "6.0     182\n",
       "7.0      40\n",
       "8.0      36\n",
       "9.0      23\n",
       "Name: Bedrooms AG, dtype: int64"
      ]
     },
     "execution_count": 29,
     "metadata": {},
     "output_type": "execute_result"
    }
   ],
   "source": [
    "House_dataset['Bedrooms AG'].value_counts().sort_index()"
   ]
  },
  {
   "cell_type": "code",
   "execution_count": 30,
   "metadata": {},
   "outputs": [
    {
     "data": {
      "text/plain": [
       "1.0     105\n",
       "2.0    1834\n",
       "3.0    8869\n",
       "4.0    4271\n",
       "5.0     879\n",
       "6.0     182\n",
       "Name: Bedrooms AG, dtype: int64"
      ]
     },
     "execution_count": 30,
     "metadata": {},
     "output_type": "execute_result"
    }
   ],
   "source": [
    "House_dataset=House_dataset[House_dataset['Bedrooms AG']<7]\n",
    "House_dataset=House_dataset[House_dataset['Bedrooms AG']>0]\n",
    "House_dataset['Bedrooms AG'].value_counts().sort_index()"
   ]
  },
  {
   "cell_type": "code",
   "execution_count": 31,
   "metadata": {},
   "outputs": [
    {
     "data": {
      "text/plain": [
       "0.0    6969\n",
       "1.0    6476\n",
       "2.0    2226\n",
       "3.0     411\n",
       "4.0      52\n",
       "5.0       5\n",
       "6.0       1\n",
       "Name: Bedrooms BG, dtype: int64"
      ]
     },
     "execution_count": 31,
     "metadata": {},
     "output_type": "execute_result"
    }
   ],
   "source": [
    "House_dataset['Bedrooms BG'].value_counts().sort_index()"
   ]
  },
  {
   "cell_type": "code",
   "execution_count": 32,
   "metadata": {},
   "outputs": [
    {
     "data": {
      "text/plain": [
       "0.0    6969\n",
       "1.0    6476\n",
       "2.0    2226\n",
       "3.0     411\n",
       "Name: Bedrooms BG, dtype: int64"
      ]
     },
     "execution_count": 32,
     "metadata": {},
     "output_type": "execute_result"
    }
   ],
   "source": [
    "House_dataset=House_dataset[House_dataset['Bedrooms BG']<4]\n",
    "House_dataset['Bedrooms BG'].value_counts()"
   ]
  },
  {
   "cell_type": "code",
   "execution_count": 33,
   "metadata": {},
   "outputs": [
    {
     "data": {
      "text/plain": [
       "0        2\n",
       "1     1094\n",
       "2     6811\n",
       "3     4042\n",
       "4     2611\n",
       "5      961\n",
       "6      338\n",
       "7      147\n",
       "8       49\n",
       "9       17\n",
       "10       8\n",
       "11       2\n",
       "Name: Washrooms, dtype: int64"
      ]
     },
     "execution_count": 33,
     "metadata": {},
     "output_type": "execute_result"
    }
   ],
   "source": [
    "House_dataset['Washrooms'].value_counts().sort_index()"
   ]
  },
  {
   "cell_type": "code",
   "execution_count": 34,
   "metadata": {},
   "outputs": [],
   "source": [
    "House_dataset=House_dataset[House_dataset['Washrooms']<9]\n",
    "House_dataset=House_dataset[House_dataset['Washrooms']>0]\n"
   ]
  },
  {
   "cell_type": "code",
   "execution_count": 35,
   "metadata": {},
   "outputs": [
    {
     "data": {
      "text/plain": [
       "Gas          15403\n",
       "Oil            339\n",
       "Electric       224\n",
       "Other           68\n",
       "Grnd Srce       15\n",
       "Wood             2\n",
       "Propane          2\n",
       "Name: Heat Source, dtype: int64"
      ]
     },
     "execution_count": 35,
     "metadata": {},
     "output_type": "execute_result"
    }
   ],
   "source": [
    "House_dataset['Heat Source'].value_counts()"
   ]
  },
  {
   "cell_type": "code",
   "execution_count": 36,
   "metadata": {},
   "outputs": [
    {
     "data": {
      "text/plain": [
       "1    15403\n",
       "0      650\n",
       "Name: Heat Source, dtype: int64"
      ]
     },
     "execution_count": 36,
     "metadata": {},
     "output_type": "execute_result"
    }
   ],
   "source": [
    "House_dataset['Heat Source']=House_dataset['Heat Source'].replace(\"Grnd Srce\",0)\n",
    "House_dataset['Heat Source']=House_dataset['Heat Source'].replace(\"Other\",0)\n",
    "House_dataset['Heat Source']=House_dataset['Heat Source'].replace(\"Oil\",0)\n",
    "House_dataset['Heat Source']=House_dataset['Heat Source'].replace(\"Wood\",0)\n",
    "House_dataset['Heat Source']=House_dataset['Heat Source'].replace(\"Propane\",0)\n",
    "House_dataset['Heat Source']=House_dataset['Heat Source'].replace(\"Electric\",0)\n",
    "House_dataset['Heat Source']=House_dataset['Heat Source'].replace(\"Gas\",1)\n",
    "House_dataset['Heat Source'].value_counts()"
   ]
  },
  {
   "cell_type": "code",
   "execution_count": 37,
   "metadata": {},
   "outputs": [],
   "source": [
    "House_dataset=House_dataset.drop('Heat Source',axis=1)"
   ]
  },
  {
   "cell_type": "code",
   "execution_count": 38,
   "metadata": {},
   "outputs": [
    {
     "data": {
      "text/plain": [
       "Attached    4775\n",
       "None        4597\n",
       "Detached    3406\n",
       "Built-In    2613\n",
       "Carport      502\n",
       "Other        160\n",
       "Name: Parking Type, dtype: int64"
      ]
     },
     "execution_count": 38,
     "metadata": {},
     "output_type": "execute_result"
    }
   ],
   "source": [
    "House_dataset['Parking Type'].value_counts()"
   ]
  },
  {
   "cell_type": "code",
   "execution_count": 39,
   "metadata": {},
   "outputs": [
    {
     "data": {
      "text/plain": [
       "1    10954\n",
       "0     5099\n",
       "Name: Parking Type, dtype: int64"
      ]
     },
     "execution_count": 39,
     "metadata": {},
     "output_type": "execute_result"
    }
   ],
   "source": [
    "House_dataset['Parking Type']=House_dataset['Parking Type'].replace(\"Other\",1)\n",
    "House_dataset['Parking Type']=House_dataset['Parking Type'].replace(\"Carport\",0)\n",
    "House_dataset['Parking Type']=House_dataset['Parking Type'].replace(\"Built-In\",1)\n",
    "House_dataset['Parking Type']=House_dataset['Parking Type'].replace(\"Detached\",1)\n",
    "House_dataset['Parking Type']=House_dataset['Parking Type'].replace(\"Attached\",1)\n",
    "House_dataset['Parking Type']=House_dataset['Parking Type'].replace(\"None\",0)\n",
    "House_dataset['Parking Type'].value_counts()"
   ]
  },
  {
   "cell_type": "code",
   "execution_count": 40,
   "metadata": {},
   "outputs": [
    {
     "data": {
      "text/plain": [
       "Central Air    13334\n",
       "None            1743\n",
       "Wall Unit        554\n",
       "Window Unit      244\n",
       "Other            178\n",
       "Name: AC Type, dtype: int64"
      ]
     },
     "execution_count": 40,
     "metadata": {},
     "output_type": "execute_result"
    }
   ],
   "source": [
    "House_dataset['AC Type'].value_counts()"
   ]
  },
  {
   "cell_type": "code",
   "execution_count": 41,
   "metadata": {},
   "outputs": [
    {
     "data": {
      "text/plain": [
       "1    13334\n",
       "0     2719\n",
       "Name: AC Type, dtype: int64"
      ]
     },
     "execution_count": 41,
     "metadata": {},
     "output_type": "execute_result"
    }
   ],
   "source": [
    "House_dataset['AC Type']=House_dataset['AC Type'].replace(\"Other\",0)\n",
    "House_dataset['AC Type']=House_dataset['AC Type'].replace(\"Wall Unit\",0)\n",
    "House_dataset['AC Type']=House_dataset['AC Type'].replace(\"Window Unit\",0)\n",
    "House_dataset['AC Type']=House_dataset['AC Type'].replace(\"None\",0)\n",
    "House_dataset['AC Type']=House_dataset['AC Type'].replace(\"Central Air\",1)\n",
    "House_dataset['AC Type'].value_counts()"
   ]
  },
  {
   "cell_type": "code",
   "execution_count": 42,
   "metadata": {},
   "outputs": [
    {
     "data": {
      "text/plain": [
       "Finished        8980\n",
       "Apartment       1974\n",
       "Fin W/O         1724\n",
       "Part Fin        1099\n",
       "Full             743\n",
       "Unfinished       703\n",
       "Sep Entrance     354\n",
       "None             175\n",
       "Crawl Space      155\n",
       "Part Bsmt         69\n",
       "Other             29\n",
       "W/O               20\n",
       "Half              15\n",
       "Walk-Up           13\n",
       "Name: Basement, dtype: int64"
      ]
     },
     "execution_count": 42,
     "metadata": {},
     "output_type": "execute_result"
    }
   ],
   "source": [
    "House_dataset['Basement'].value_counts()"
   ]
  },
  {
   "cell_type": "code",
   "execution_count": 43,
   "metadata": {},
   "outputs": [],
   "source": [
    "House_dataset['Basement']=House_dataset['Basement'].replace(\"Walk-Up\",\"Other Basement type\")\n",
    "House_dataset['Basement']=House_dataset['Basement'].replace(\"Half\",\"Other Basement type\")\n",
    "House_dataset['Basement']=House_dataset['Basement'].replace(\"W/O\",\"Other Basement type\")\n",
    "House_dataset['Basement']=House_dataset['Basement'].replace(\"Other\",\"Other Basement type\")\n",
    "House_dataset['Basement']=House_dataset['Basement'].replace(\"Part Bsmt\",\"Other Basement type\")\n",
    "House_dataset['Basement']=House_dataset['Basement'].replace(\"Crawl Space\",\"Other Basement type\")\n",
    "House_dataset['Basement']=House_dataset['Basement'].replace(\"Fin W/O\",\"Finished\")\n",
    "House_dataset['Basement']=House_dataset['Basement'].replace(\"Full\",\"Finished\")\n",
    "House_dataset['Basement']=House_dataset['Basement'].replace(\"Apartment\",\"Finished\")\n",
    "House_dataset['Basement']=House_dataset['Basement'].replace(\"Sep Entrance\",\"Other Basement type\")\n",
    "House_dataset['Basement']=House_dataset['Basement'].replace(\"Part Fin\",\"Other Basement type\")"
   ]
  },
  {
   "cell_type": "code",
   "execution_count": 44,
   "metadata": {},
   "outputs": [],
   "source": [
    "House_dataset['Finished'] = (House_dataset['Basement']=='Finished').astype(int)\n",
    "House_dataset['Unfinished'] = (House_dataset['Basement']=='Unfinished').astype(int)\n",
    "House_dataset[\"Other Basement type\"] = (House_dataset['Basement']=='Other Basement type').astype(int)\n",
    "House_dataset['Basement']=House_dataset['Basement'].replace(\"Other\",0)"
   ]
  },
  {
   "cell_type": "code",
   "execution_count": 45,
   "metadata": {},
   "outputs": [
    {
     "data": {
      "text/plain": [
       "Finished               13421\n",
       "Other Basement type     1754\n",
       "Unfinished               703\n",
       "None                     175\n",
       "Name: Basement, dtype: int64"
      ]
     },
     "execution_count": 45,
     "metadata": {},
     "output_type": "execute_result"
    }
   ],
   "source": [
    "House_dataset['Basement'].value_counts()"
   ]
  },
  {
   "cell_type": "code",
   "execution_count": 46,
   "metadata": {},
   "outputs": [],
   "source": [
    "House_dataset=House_dataset.drop('Basement',axis=1)"
   ]
  },
  {
   "cell_type": "code",
   "execution_count": 47,
   "metadata": {},
   "outputs": [
    {
     "data": {
      "text/html": [
       "<div>\n",
       "<style scoped>\n",
       "    .dataframe tbody tr th:only-of-type {\n",
       "        vertical-align: middle;\n",
       "    }\n",
       "\n",
       "    .dataframe tbody tr th {\n",
       "        vertical-align: top;\n",
       "    }\n",
       "\n",
       "    .dataframe thead th {\n",
       "        text-align: right;\n",
       "    }\n",
       "</style>\n",
       "<table border=\"1\" class=\"dataframe\">\n",
       "  <thead>\n",
       "    <tr style=\"text-align: right;\">\n",
       "      <th></th>\n",
       "      <th>Taxes</th>\n",
       "      <th>Sold Price</th>\n",
       "    </tr>\n",
       "  </thead>\n",
       "  <tbody>\n",
       "    <tr>\n",
       "      <th>Taxes</th>\n",
       "      <td>1.000000</td>\n",
       "      <td>0.813681</td>\n",
       "    </tr>\n",
       "    <tr>\n",
       "      <th>Sold Price</th>\n",
       "      <td>0.813681</td>\n",
       "      <td>1.000000</td>\n",
       "    </tr>\n",
       "  </tbody>\n",
       "</table>\n",
       "</div>"
      ],
      "text/plain": [
       "               Taxes  Sold Price\n",
       "Taxes       1.000000    0.813681\n",
       "Sold Price  0.813681    1.000000"
      ]
     },
     "execution_count": 47,
     "metadata": {},
     "output_type": "execute_result"
    }
   ],
   "source": [
    "House_dataset[['Taxes','Sold Price']].corr(method ='pearson')"
   ]
  },
  {
   "cell_type": "code",
   "execution_count": 48,
   "metadata": {},
   "outputs": [
    {
     "data": {
      "text/plain": [
       "count    15751.000000\n",
       "mean      4543.574539\n",
       "std       3093.738507\n",
       "min          1.000000\n",
       "25%       2841.000000\n",
       "50%       3639.380000\n",
       "75%       5035.960000\n",
       "max      56812.820000\n",
       "Name: Taxes, dtype: float64"
      ]
     },
     "execution_count": 48,
     "metadata": {},
     "output_type": "execute_result"
    }
   ],
   "source": [
    "House_dataset[House_dataset['Taxes']!=0]['Taxes'].describe()"
   ]
  },
  {
   "cell_type": "code",
   "execution_count": 49,
   "metadata": {},
   "outputs": [
    {
     "data": {
      "text/plain": [
       "array([[<AxesSubplot:title={'center':'Taxes'}>]], dtype=object)"
      ]
     },
     "execution_count": 49,
     "metadata": {},
     "output_type": "execute_result"
    },
    {
     "data": {
      "image/png": "[encoded data removed]",
      "text/plain": [
       "<Figure size 432x288 with 1 Axes>"
      ]
     },
     "metadata": {},
     "output_type": "display_data"
    }
   ],
   "source": [
    "House_dataset[House_dataset['Taxes']<20000].hist('Taxes',bins=100)"
   ]
  },
  {
   "cell_type": "code",
   "execution_count": 50,
   "metadata": {},
   "outputs": [],
   "source": [
    "House_dataset=House_dataset[House_dataset['Taxes']<15000]\n",
    "House_dataset=House_dataset[House_dataset['Taxes']>1500]"
   ]
  },
  {
   "cell_type": "code",
   "execution_count": 51,
   "metadata": {},
   "outputs": [
    {
     "data": {
      "text/plain": [
       "array([[<AxesSubplot:title={'center':'Taxes'}>]], dtype=object)"
      ]
     },
     "execution_count": 51,
     "metadata": {},
     "output_type": "execute_result"
    },
    {
     "data": {
      "image/png": "[encoded data removed]",
      "text/plain": [
       "<Figure size 432x288 with 1 Axes>"
      ]
     },
     "metadata": {},
     "output_type": "display_data"
    }
   ],
   "source": [
    "House_dataset.hist('Taxes',bins=100)"
   ]
  },
  {
   "cell_type": "code",
   "execution_count": 52,
   "metadata": {},
   "outputs": [
    {
     "data": {
      "text/html": [
       "<div>\n",
       "<style scoped>\n",
       "    .dataframe tbody tr th:only-of-type {\n",
       "        vertical-align: middle;\n",
       "    }\n",
       "\n",
       "    .dataframe tbody tr th {\n",
       "        vertical-align: top;\n",
       "    }\n",
       "\n",
       "    .dataframe thead th {\n",
       "        text-align: right;\n",
       "    }\n",
       "</style>\n",
       "<table border=\"1\" class=\"dataframe\">\n",
       "  <thead>\n",
       "    <tr style=\"text-align: right;\">\n",
       "      <th></th>\n",
       "      <th>Taxes</th>\n",
       "      <th>Sold Price</th>\n",
       "    </tr>\n",
       "  </thead>\n",
       "  <tbody>\n",
       "    <tr>\n",
       "      <th>Taxes</th>\n",
       "      <td>1.000000</td>\n",
       "      <td>0.878971</td>\n",
       "    </tr>\n",
       "    <tr>\n",
       "      <th>Sold Price</th>\n",
       "      <td>0.878971</td>\n",
       "      <td>1.000000</td>\n",
       "    </tr>\n",
       "  </tbody>\n",
       "</table>\n",
       "</div>"
      ],
      "text/plain": [
       "               Taxes  Sold Price\n",
       "Taxes       1.000000    0.878971\n",
       "Sold Price  0.878971    1.000000"
      ]
     },
     "execution_count": 52,
     "metadata": {},
     "output_type": "execute_result"
    }
   ],
   "source": [
    "House_dataset[['Taxes','Sold Price']].corr(method ='pearson')"
   ]
  },
  {
   "cell_type": "code",
   "execution_count": 53,
   "metadata": {},
   "outputs": [
    {
     "data": {
      "text/plain": [
       "0.0        2\n",
       "1.0        8\n",
       "2.0        4\n",
       "3.0       56\n",
       "4.0      267\n",
       "5.0     1445\n",
       "6.0     5085\n",
       "7.0     3169\n",
       "8.0     2405\n",
       "9.0     1497\n",
       "10.0     841\n",
       "11.0     340\n",
       "12.0     221\n",
       "13.0      47\n",
       "14.0      38\n",
       "15.0      23\n",
       "16.0       8\n",
       "17.0       5\n",
       "18.0       1\n",
       "19.0       1\n",
       "20.0       3\n",
       "21.0       1\n",
       "23.0       1\n",
       "Name: Total Rooms, dtype: int64"
      ]
     },
     "execution_count": 53,
     "metadata": {},
     "output_type": "execute_result"
    }
   ],
   "source": [
    "House_dataset['Total Rooms'].value_counts().sort_index()"
   ]
  },
  {
   "cell_type": "code",
   "execution_count": 54,
   "metadata": {},
   "outputs": [],
   "source": [
    "House_dataset=House_dataset.drop('Total Rooms',axis=1)"
   ]
  },
  {
   "cell_type": "code",
   "execution_count": 55,
   "metadata": {},
   "outputs": [
    {
     "data": {
      "text/plain": [
       "100.0     1303\n",
       "98.0      1054\n",
       "99.0      1052\n",
       "97.0       925\n",
       "96.0       686\n",
       "          ... \n",
       "61.0         1\n",
       "1422.0       1\n",
       "171.0        1\n",
       "174.0        1\n",
       "189.0        1\n",
       "Name: Sale to List %, Length: 106, dtype: int64"
      ]
     },
     "execution_count": 55,
     "metadata": {},
     "output_type": "execute_result"
    }
   ],
   "source": [
    "House_dataset['Sale to List %'].value_counts()"
   ]
  },
  {
   "cell_type": "code",
   "execution_count": 56,
   "metadata": {},
   "outputs": [
    {
     "name": "stdout",
     "output_type": "stream",
     "text": [
      "<class 'pandas.core.frame.DataFrame'>\n",
      "Int64Index: 15468 entries, 30 to 33757\n",
      "Data columns (total 24 columns):\n",
      " #   Column                Non-Null Count  Dtype  \n",
      "---  ------                --------------  -----  \n",
      " 0   Bedrooms AG           15468 non-null  float64\n",
      " 1   Bedrooms BG           15468 non-null  float64\n",
      " 2   Washrooms             15468 non-null  int64  \n",
      " 3   Family Room           15468 non-null  int64  \n",
      " 4   Parking Type          15468 non-null  int64  \n",
      " 5   Taxes                 15468 non-null  float64\n",
      " 6   AC Type               15468 non-null  int64  \n",
      " 7   Ward                  15468 non-null  object \n",
      " 8   green_new             15468 non-null  float64\n",
      " 9   Date                  15468 non-null  int64  \n",
      " 10  MortgageRate          15468 non-null  float64\n",
      " 11  Sale to List %        15468 non-null  float64\n",
      " 12  Days on Market        15468 non-null  int64  \n",
      " 13  List Price            15468 non-null  int64  \n",
      " 14  Sold Price            15468 non-null  int64  \n",
      " 15  Detached              15468 non-null  int64  \n",
      " 16  Semi-Detached         15468 non-null  int64  \n",
      " 17  Other house Property  15468 non-null  int64  \n",
      " 18  Multi Storey          15468 non-null  int64  \n",
      " 19  Bungalow              15468 non-null  int64  \n",
      " 20  Other house Style     15468 non-null  int64  \n",
      " 21  Finished              15468 non-null  int64  \n",
      " 22  Unfinished            15468 non-null  int64  \n",
      " 23  Other Basement type   15468 non-null  int64  \n",
      "dtypes: float64(6), int64(17), object(1)\n",
      "memory usage: 3.0+ MB\n"
     ]
    }
   ],
   "source": [
    "House_dataset.info()"
   ]
  },
  {
   "cell_type": "code",
   "execution_count": 57,
   "metadata": {},
   "outputs": [
    {
     "data": {
      "image/png": "[encoded data removed]",
      "text/plain": [
       "<Figure size 432x288 with 1 Axes>"
      ]
     },
     "metadata": {},
     "output_type": "display_data"
    }
   ],
   "source": [
    "err=[abs(100*(float(b)/a)-c) for a,b,c in zip(House_dataset[\"List Price\"],House_dataset[\"Sold Price\"],House_dataset['Sale to List %'])]\n",
    "plt.hist(err,bins=100)\n",
    "plt.show()"
   ]
  },
  {
   "cell_type": "code",
   "execution_count": 58,
   "metadata": {},
   "outputs": [
    {
     "name": "stdout",
     "output_type": "stream",
     "text": [
      "1\n"
     ]
    }
   ],
   "source": [
    "print(sum([x>1 for x in err]))\n",
    "House_dataset[\"err\"]=err"
   ]
  },
  {
   "cell_type": "code",
   "execution_count": 59,
   "metadata": {},
   "outputs": [],
   "source": [
    "House_dataset=House_dataset[House_dataset[\"err\"]<1]\n",
    "House_dataset=House_dataset.drop(\"err\",axis=1)"
   ]
  },
  {
   "cell_type": "code",
   "execution_count": 60,
   "metadata": {},
   "outputs": [
    {
     "data": {
      "image/png": "[encoded data removed]",
      "text/plain": [
       "<Figure size 1440x360 with 1 Axes>"
      ]
     },
     "metadata": {},
     "output_type": "display_data"
    }
   ],
   "source": [
    "fig = plt.figure(figsize =(20,5))\n",
    "ss=House_dataset['Sale to List %'].value_counts().sort_index()\n",
    "ss=ss[ss.keys()<150]\n",
    "ss=ss[ss.keys()>70]\n",
    "plt.bar(list(ss.keys()),list(ss.values))\n",
    "plt.show()"
   ]
  },
  {
   "cell_type": "code",
   "execution_count": 61,
   "metadata": {},
   "outputs": [],
   "source": [
    "House_dataset=House_dataset[House_dataset[\"Sale to List %\"]>70]"
   ]
  },
  {
   "cell_type": "code",
   "execution_count": 62,
   "metadata": {},
   "outputs": [
    {
     "data": {
      "text/plain": [
       "Index([], dtype='object')"
      ]
     },
     "execution_count": 62,
     "metadata": {},
     "output_type": "execute_result"
    }
   ],
   "source": [
    "SS=House_dataset[\"Ward\"].value_counts()\n",
    "SS[SS.values < 50].keys()"
   ]
  },
  {
   "cell_type": "code",
   "execution_count": 63,
   "metadata": {},
   "outputs": [],
   "source": [
    "House_dataset=House_dataset[~(House_dataset[\"Ward\"].isin(list(SS[SS.values < 50].keys())))]"
   ]
  },
  {
   "cell_type": "code",
   "execution_count": 64,
   "metadata": {},
   "outputs": [],
   "source": [
    "for name in set(House_dataset[\"Ward\"]):\n",
    "    House_dataset[name]=(House_dataset[\"Ward\"]==name).astype(int)\n",
    "    \n",
    "neighbourhoods=[set(House_dataset[\"Ward\"])]\n",
    "House_dataset=House_dataset.drop(\"Ward\",axis=1) "
   ]
  },
  {
   "cell_type": "code",
   "execution_count": 65,
   "metadata": {},
   "outputs": [],
   "source": [
    "#Apt_dataset['green_new'].describe()"
   ]
  },
  {
   "cell_type": "code",
   "execution_count": 66,
   "metadata": {},
   "outputs": [],
   "source": [
    "#Apt_dataset.boxplot(['green_new'])"
   ]
  },
  {
   "cell_type": "code",
   "execution_count": 67,
   "metadata": {},
   "outputs": [],
   "source": [
    "#Apt_dataset.hist('green_new',bins=21,legend=True)"
   ]
  },
  {
   "cell_type": "code",
   "execution_count": 68,
   "metadata": {},
   "outputs": [
    {
     "data": {
      "text/plain": [
       "58"
      ]
     },
     "execution_count": 68,
     "metadata": {},
     "output_type": "execute_result"
    }
   ],
   "source": [
    "len(House_dataset.columns)"
   ]
  },
  {
   "cell_type": "code",
   "execution_count": 69,
   "metadata": {},
   "outputs": [
    {
     "data": {
      "text/html": [
       "<div>\n",
       "<style scoped>\n",
       "    .dataframe tbody tr th:only-of-type {\n",
       "        vertical-align: middle;\n",
       "    }\n",
       "\n",
       "    .dataframe tbody tr th {\n",
       "        vertical-align: top;\n",
       "    }\n",
       "\n",
       "    .dataframe thead th {\n",
       "        text-align: right;\n",
       "    }\n",
       "</style>\n",
       "<table border=\"1\" class=\"dataframe\">\n",
       "  <thead>\n",
       "    <tr style=\"text-align: right;\">\n",
       "      <th></th>\n",
       "      <th>count</th>\n",
       "      <th>mean</th>\n",
       "      <th>std</th>\n",
       "      <th>min</th>\n",
       "      <th>25%</th>\n",
       "      <th>50%</th>\n",
       "      <th>75%</th>\n",
       "      <th>max</th>\n",
       "    </tr>\n",
       "  </thead>\n",
       "  <tbody>\n",
       "    <tr>\n",
       "      <th>Unfinished</th>\n",
       "      <td>15464.0</td>\n",
       "      <td>0.044167</td>\n",
       "      <td>0.205473</td>\n",
       "      <td>0.0</td>\n",
       "      <td>0.0</td>\n",
       "      <td>0.0</td>\n",
       "      <td>0.0</td>\n",
       "      <td>1.0</td>\n",
       "    </tr>\n",
       "    <tr>\n",
       "      <th>C14</th>\n",
       "      <td>15464.0</td>\n",
       "      <td>0.023927</td>\n",
       "      <td>0.152825</td>\n",
       "      <td>0.0</td>\n",
       "      <td>0.0</td>\n",
       "      <td>0.0</td>\n",
       "      <td>0.0</td>\n",
       "      <td>1.0</td>\n",
       "    </tr>\n",
       "    <tr>\n",
       "      <th>C10</th>\n",
       "      <td>15464.0</td>\n",
       "      <td>0.014356</td>\n",
       "      <td>0.118957</td>\n",
       "      <td>0.0</td>\n",
       "      <td>0.0</td>\n",
       "      <td>0.0</td>\n",
       "      <td>0.0</td>\n",
       "      <td>1.0</td>\n",
       "    </tr>\n",
       "    <tr>\n",
       "      <th>C02</th>\n",
       "      <td>15464.0</td>\n",
       "      <td>0.021987</td>\n",
       "      <td>0.146644</td>\n",
       "      <td>0.0</td>\n",
       "      <td>0.0</td>\n",
       "      <td>0.0</td>\n",
       "      <td>0.0</td>\n",
       "      <td>1.0</td>\n",
       "    </tr>\n",
       "    <tr>\n",
       "      <th>C11</th>\n",
       "      <td>15464.0</td>\n",
       "      <td>0.010282</td>\n",
       "      <td>0.100881</td>\n",
       "      <td>0.0</td>\n",
       "      <td>0.0</td>\n",
       "      <td>0.0</td>\n",
       "      <td>0.0</td>\n",
       "      <td>1.0</td>\n",
       "    </tr>\n",
       "    <tr>\n",
       "      <th>C15</th>\n",
       "      <td>15464.0</td>\n",
       "      <td>0.032592</td>\n",
       "      <td>0.177572</td>\n",
       "      <td>0.0</td>\n",
       "      <td>0.0</td>\n",
       "      <td>0.0</td>\n",
       "      <td>0.0</td>\n",
       "      <td>1.0</td>\n",
       "    </tr>\n",
       "    <tr>\n",
       "      <th>C03</th>\n",
       "      <td>15464.0</td>\n",
       "      <td>0.025285</td>\n",
       "      <td>0.156993</td>\n",
       "      <td>0.0</td>\n",
       "      <td>0.0</td>\n",
       "      <td>0.0</td>\n",
       "      <td>0.0</td>\n",
       "      <td>1.0</td>\n",
       "    </tr>\n",
       "    <tr>\n",
       "      <th>C08</th>\n",
       "      <td>15464.0</td>\n",
       "      <td>0.009247</td>\n",
       "      <td>0.095720</td>\n",
       "      <td>0.0</td>\n",
       "      <td>0.0</td>\n",
       "      <td>0.0</td>\n",
       "      <td>0.0</td>\n",
       "      <td>1.0</td>\n",
       "    </tr>\n",
       "    <tr>\n",
       "      <th>E04</th>\n",
       "      <td>15464.0</td>\n",
       "      <td>0.046560</td>\n",
       "      <td>0.210701</td>\n",
       "      <td>0.0</td>\n",
       "      <td>0.0</td>\n",
       "      <td>0.0</td>\n",
       "      <td>0.0</td>\n",
       "      <td>1.0</td>\n",
       "    </tr>\n",
       "    <tr>\n",
       "      <th>W06</th>\n",
       "      <td>15464.0</td>\n",
       "      <td>0.032333</td>\n",
       "      <td>0.176889</td>\n",
       "      <td>0.0</td>\n",
       "      <td>0.0</td>\n",
       "      <td>0.0</td>\n",
       "      <td>0.0</td>\n",
       "      <td>1.0</td>\n",
       "    </tr>\n",
       "    <tr>\n",
       "      <th>W09</th>\n",
       "      <td>15464.0</td>\n",
       "      <td>0.017266</td>\n",
       "      <td>0.130265</td>\n",
       "      <td>0.0</td>\n",
       "      <td>0.0</td>\n",
       "      <td>0.0</td>\n",
       "      <td>0.0</td>\n",
       "      <td>1.0</td>\n",
       "    </tr>\n",
       "    <tr>\n",
       "      <th>C12</th>\n",
       "      <td>15464.0</td>\n",
       "      <td>0.010476</td>\n",
       "      <td>0.101818</td>\n",
       "      <td>0.0</td>\n",
       "      <td>0.0</td>\n",
       "      <td>0.0</td>\n",
       "      <td>0.0</td>\n",
       "      <td>1.0</td>\n",
       "    </tr>\n",
       "    <tr>\n",
       "      <th>C06</th>\n",
       "      <td>15464.0</td>\n",
       "      <td>0.014421</td>\n",
       "      <td>0.119221</td>\n",
       "      <td>0.0</td>\n",
       "      <td>0.0</td>\n",
       "      <td>0.0</td>\n",
       "      <td>0.0</td>\n",
       "      <td>1.0</td>\n",
       "    </tr>\n",
       "    <tr>\n",
       "      <th>W07</th>\n",
       "      <td>15464.0</td>\n",
       "      <td>0.018107</td>\n",
       "      <td>0.133341</td>\n",
       "      <td>0.0</td>\n",
       "      <td>0.0</td>\n",
       "      <td>0.0</td>\n",
       "      <td>0.0</td>\n",
       "      <td>1.0</td>\n",
       "    </tr>\n",
       "    <tr>\n",
       "      <th>W02</th>\n",
       "      <td>15464.0</td>\n",
       "      <td>0.040028</td>\n",
       "      <td>0.196032</td>\n",
       "      <td>0.0</td>\n",
       "      <td>0.0</td>\n",
       "      <td>0.0</td>\n",
       "      <td>0.0</td>\n",
       "      <td>1.0</td>\n",
       "    </tr>\n",
       "    <tr>\n",
       "      <th>E05</th>\n",
       "      <td>15464.0</td>\n",
       "      <td>0.030523</td>\n",
       "      <td>0.172026</td>\n",
       "      <td>0.0</td>\n",
       "      <td>0.0</td>\n",
       "      <td>0.0</td>\n",
       "      <td>0.0</td>\n",
       "      <td>1.0</td>\n",
       "    </tr>\n",
       "    <tr>\n",
       "      <th>W04</th>\n",
       "      <td>15464.0</td>\n",
       "      <td>0.035437</td>\n",
       "      <td>0.184888</td>\n",
       "      <td>0.0</td>\n",
       "      <td>0.0</td>\n",
       "      <td>0.0</td>\n",
       "      <td>0.0</td>\n",
       "      <td>1.0</td>\n",
       "    </tr>\n",
       "    <tr>\n",
       "      <th>C04</th>\n",
       "      <td>15464.0</td>\n",
       "      <td>0.038606</td>\n",
       "      <td>0.192660</td>\n",
       "      <td>0.0</td>\n",
       "      <td>0.0</td>\n",
       "      <td>0.0</td>\n",
       "      <td>0.0</td>\n",
       "      <td>1.0</td>\n",
       "    </tr>\n",
       "    <tr>\n",
       "      <th>C01</th>\n",
       "      <td>15464.0</td>\n",
       "      <td>0.030652</td>\n",
       "      <td>0.172378</td>\n",
       "      <td>0.0</td>\n",
       "      <td>0.0</td>\n",
       "      <td>0.0</td>\n",
       "      <td>0.0</td>\n",
       "      <td>1.0</td>\n",
       "    </tr>\n",
       "    <tr>\n",
       "      <th>C07</th>\n",
       "      <td>15464.0</td>\n",
       "      <td>0.028259</td>\n",
       "      <td>0.165718</td>\n",
       "      <td>0.0</td>\n",
       "      <td>0.0</td>\n",
       "      <td>0.0</td>\n",
       "      <td>0.0</td>\n",
       "      <td>1.0</td>\n",
       "    </tr>\n",
       "    <tr>\n",
       "      <th>E10</th>\n",
       "      <td>15464.0</td>\n",
       "      <td>0.032592</td>\n",
       "      <td>0.177572</td>\n",
       "      <td>0.0</td>\n",
       "      <td>0.0</td>\n",
       "      <td>0.0</td>\n",
       "      <td>0.0</td>\n",
       "      <td>1.0</td>\n",
       "    </tr>\n",
       "    <tr>\n",
       "      <th>W03</th>\n",
       "      <td>15464.0</td>\n",
       "      <td>0.041386</td>\n",
       "      <td>0.199189</td>\n",
       "      <td>0.0</td>\n",
       "      <td>0.0</td>\n",
       "      <td>0.0</td>\n",
       "      <td>0.0</td>\n",
       "      <td>1.0</td>\n",
       "    </tr>\n",
       "    <tr>\n",
       "      <th>E08</th>\n",
       "      <td>15464.0</td>\n",
       "      <td>0.022181</td>\n",
       "      <td>0.147275</td>\n",
       "      <td>0.0</td>\n",
       "      <td>0.0</td>\n",
       "      <td>0.0</td>\n",
       "      <td>0.0</td>\n",
       "      <td>1.0</td>\n",
       "    </tr>\n",
       "    <tr>\n",
       "      <th>E11</th>\n",
       "      <td>15464.0</td>\n",
       "      <td>0.032139</td>\n",
       "      <td>0.176375</td>\n",
       "      <td>0.0</td>\n",
       "      <td>0.0</td>\n",
       "      <td>0.0</td>\n",
       "      <td>0.0</td>\n",
       "      <td>1.0</td>\n",
       "    </tr>\n",
       "    <tr>\n",
       "      <th>E09</th>\n",
       "      <td>15464.0</td>\n",
       "      <td>0.039511</td>\n",
       "      <td>0.194814</td>\n",
       "      <td>0.0</td>\n",
       "      <td>0.0</td>\n",
       "      <td>0.0</td>\n",
       "      <td>0.0</td>\n",
       "      <td>1.0</td>\n",
       "    </tr>\n",
       "    <tr>\n",
       "      <th>C13</th>\n",
       "      <td>15464.0</td>\n",
       "      <td>0.025349</td>\n",
       "      <td>0.157188</td>\n",
       "      <td>0.0</td>\n",
       "      <td>0.0</td>\n",
       "      <td>0.0</td>\n",
       "      <td>0.0</td>\n",
       "      <td>1.0</td>\n",
       "    </tr>\n",
       "    <tr>\n",
       "      <th>W10</th>\n",
       "      <td>15464.0</td>\n",
       "      <td>0.030070</td>\n",
       "      <td>0.170785</td>\n",
       "      <td>0.0</td>\n",
       "      <td>0.0</td>\n",
       "      <td>0.0</td>\n",
       "      <td>0.0</td>\n",
       "      <td>1.0</td>\n",
       "    </tr>\n",
       "    <tr>\n",
       "      <th>W05</th>\n",
       "      <td>15464.0</td>\n",
       "      <td>0.041063</td>\n",
       "      <td>0.198443</td>\n",
       "      <td>0.0</td>\n",
       "      <td>0.0</td>\n",
       "      <td>0.0</td>\n",
       "      <td>0.0</td>\n",
       "      <td>1.0</td>\n",
       "    </tr>\n",
       "    <tr>\n",
       "      <th>E06</th>\n",
       "      <td>15464.0</td>\n",
       "      <td>0.020499</td>\n",
       "      <td>0.141705</td>\n",
       "      <td>0.0</td>\n",
       "      <td>0.0</td>\n",
       "      <td>0.0</td>\n",
       "      <td>0.0</td>\n",
       "      <td>1.0</td>\n",
       "    </tr>\n",
       "    <tr>\n",
       "      <th>E02</th>\n",
       "      <td>15464.0</td>\n",
       "      <td>0.038024</td>\n",
       "      <td>0.191260</td>\n",
       "      <td>0.0</td>\n",
       "      <td>0.0</td>\n",
       "      <td>0.0</td>\n",
       "      <td>0.0</td>\n",
       "      <td>1.0</td>\n",
       "    </tr>\n",
       "    <tr>\n",
       "      <th>C09</th>\n",
       "      <td>15464.0</td>\n",
       "      <td>0.006079</td>\n",
       "      <td>0.077731</td>\n",
       "      <td>0.0</td>\n",
       "      <td>0.0</td>\n",
       "      <td>0.0</td>\n",
       "      <td>0.0</td>\n",
       "      <td>1.0</td>\n",
       "    </tr>\n",
       "    <tr>\n",
       "      <th>E01</th>\n",
       "      <td>15464.0</td>\n",
       "      <td>0.040869</td>\n",
       "      <td>0.197993</td>\n",
       "      <td>0.0</td>\n",
       "      <td>0.0</td>\n",
       "      <td>0.0</td>\n",
       "      <td>0.0</td>\n",
       "      <td>1.0</td>\n",
       "    </tr>\n",
       "    <tr>\n",
       "      <th>W01</th>\n",
       "      <td>15464.0</td>\n",
       "      <td>0.016943</td>\n",
       "      <td>0.129060</td>\n",
       "      <td>0.0</td>\n",
       "      <td>0.0</td>\n",
       "      <td>0.0</td>\n",
       "      <td>0.0</td>\n",
       "      <td>1.0</td>\n",
       "    </tr>\n",
       "    <tr>\n",
       "      <th>E07</th>\n",
       "      <td>15464.0</td>\n",
       "      <td>0.027548</td>\n",
       "      <td>0.163679</td>\n",
       "      <td>0.0</td>\n",
       "      <td>0.0</td>\n",
       "      <td>0.0</td>\n",
       "      <td>0.0</td>\n",
       "      <td>1.0</td>\n",
       "    </tr>\n",
       "  </tbody>\n",
       "</table>\n",
       "</div>"
      ],
      "text/plain": [
       "              count      mean       std  min  25%  50%  75%  max\n",
       "Unfinished  15464.0  0.044167  0.205473  0.0  0.0  0.0  0.0  1.0\n",
       "C14         15464.0  0.023927  0.152825  0.0  0.0  0.0  0.0  1.0\n",
       "C10         15464.0  0.014356  0.118957  0.0  0.0  0.0  0.0  1.0\n",
       "C02         15464.0  0.021987  0.146644  0.0  0.0  0.0  0.0  1.0\n",
       "C11         15464.0  0.010282  0.100881  0.0  0.0  0.0  0.0  1.0\n",
       "C15         15464.0  0.032592  0.177572  0.0  0.0  0.0  0.0  1.0\n",
       "C03         15464.0  0.025285  0.156993  0.0  0.0  0.0  0.0  1.0\n",
       "C08         15464.0  0.009247  0.095720  0.0  0.0  0.0  0.0  1.0\n",
       "E04         15464.0  0.046560  0.210701  0.0  0.0  0.0  0.0  1.0\n",
       "W06         15464.0  0.032333  0.176889  0.0  0.0  0.0  0.0  1.0\n",
       "W09         15464.0  0.017266  0.130265  0.0  0.0  0.0  0.0  1.0\n",
       "C12         15464.0  0.010476  0.101818  0.0  0.0  0.0  0.0  1.0\n",
       "C06         15464.0  0.014421  0.119221  0.0  0.0  0.0  0.0  1.0\n",
       "W07         15464.0  0.018107  0.133341  0.0  0.0  0.0  0.0  1.0\n",
       "W02         15464.0  0.040028  0.196032  0.0  0.0  0.0  0.0  1.0\n",
       "E05         15464.0  0.030523  0.172026  0.0  0.0  0.0  0.0  1.0\n",
       "W04         15464.0  0.035437  0.184888  0.0  0.0  0.0  0.0  1.0\n",
       "C04         15464.0  0.038606  0.192660  0.0  0.0  0.0  0.0  1.0\n",
       "C01         15464.0  0.030652  0.172378  0.0  0.0  0.0  0.0  1.0\n",
       "C07         15464.0  0.028259  0.165718  0.0  0.0  0.0  0.0  1.0\n",
       "E10         15464.0  0.032592  0.177572  0.0  0.0  0.0  0.0  1.0\n",
       "W03         15464.0  0.041386  0.199189  0.0  0.0  0.0  0.0  1.0\n",
       "E08         15464.0  0.022181  0.147275  0.0  0.0  0.0  0.0  1.0\n",
       "E11         15464.0  0.032139  0.176375  0.0  0.0  0.0  0.0  1.0\n",
       "E09         15464.0  0.039511  0.194814  0.0  0.0  0.0  0.0  1.0\n",
       "C13         15464.0  0.025349  0.157188  0.0  0.0  0.0  0.0  1.0\n",
       "W10         15464.0  0.030070  0.170785  0.0  0.0  0.0  0.0  1.0\n",
       "W05         15464.0  0.041063  0.198443  0.0  0.0  0.0  0.0  1.0\n",
       "E06         15464.0  0.020499  0.141705  0.0  0.0  0.0  0.0  1.0\n",
       "E02         15464.0  0.038024  0.191260  0.0  0.0  0.0  0.0  1.0\n",
       "C09         15464.0  0.006079  0.077731  0.0  0.0  0.0  0.0  1.0\n",
       "E01         15464.0  0.040869  0.197993  0.0  0.0  0.0  0.0  1.0\n",
       "W01         15464.0  0.016943  0.129060  0.0  0.0  0.0  0.0  1.0\n",
       "E07         15464.0  0.027548  0.163679  0.0  0.0  0.0  0.0  1.0"
      ]
     },
     "execution_count": 69,
     "metadata": {},
     "output_type": "execute_result"
    }
   ],
   "source": [
    "(House_dataset.describe().T)[((House_dataset.describe().T)['mean']<0.05)]"
   ]
  },
  {
   "cell_type": "code",
   "execution_count": 70,
   "metadata": {},
   "outputs": [
    {
     "data": {
      "text/html": [
       "<div>\n",
       "<style scoped>\n",
       "    .dataframe tbody tr th:only-of-type {\n",
       "        vertical-align: middle;\n",
       "    }\n",
       "\n",
       "    .dataframe tbody tr th {\n",
       "        vertical-align: top;\n",
       "    }\n",
       "\n",
       "    .dataframe thead th {\n",
       "        text-align: right;\n",
       "    }\n",
       "</style>\n",
       "<table border=\"1\" class=\"dataframe\">\n",
       "  <thead>\n",
       "    <tr style=\"text-align: right;\">\n",
       "      <th></th>\n",
       "      <th>count</th>\n",
       "      <th>mean</th>\n",
       "      <th>std</th>\n",
       "      <th>min</th>\n",
       "      <th>25%</th>\n",
       "      <th>50%</th>\n",
       "      <th>75%</th>\n",
       "      <th>max</th>\n",
       "    </tr>\n",
       "  </thead>\n",
       "  <tbody>\n",
       "  </tbody>\n",
       "</table>\n",
       "</div>"
      ],
      "text/plain": [
       "Empty DataFrame\n",
       "Columns: [count, mean, std, min, 25%, 50%, 75%, max]\n",
       "Index: []"
      ]
     },
     "execution_count": 70,
     "metadata": {},
     "output_type": "execute_result"
    }
   ],
   "source": [
    "(House_dataset.describe().T)[((House_dataset.describe().T)['mean']<1)&((House_dataset.describe().T)['mean']>0.95)]"
   ]
  },
  {
   "cell_type": "code",
   "execution_count": 71,
   "metadata": {},
   "outputs": [
    {
     "data": {
      "text/plain": [
       "count    1.546400e+04\n",
       "mean     1.116722e+06\n",
       "std      5.933415e+05\n",
       "min      3.550000e+05\n",
       "25%      7.250000e+05\n",
       "50%      9.100000e+05\n",
       "75%      1.325000e+06\n",
       "max      7.100000e+06\n",
       "Name: Sold Price, dtype: float64"
      ]
     },
     "execution_count": 71,
     "metadata": {},
     "output_type": "execute_result"
    }
   ],
   "source": [
    "House_dataset['Sold Price'].describe()"
   ]
  },
  {
   "cell_type": "code",
   "execution_count": 72,
   "metadata": {},
   "outputs": [],
   "source": [
    "House_dataset=House_dataset[House_dataset['Sold Price']<3050000]\n",
    "House_dataset=House_dataset[House_dataset['Sold Price']>350000]"
   ]
  },
  {
   "cell_type": "code",
   "execution_count": 73,
   "metadata": {},
   "outputs": [
    {
     "data": {
      "text/plain": [
       "<matplotlib.legend.Legend at 0x7ff08d418040>"
      ]
     },
     "execution_count": 73,
     "metadata": {},
     "output_type": "execute_result"
    },
    {
     "data": {
      "image/png": "[encoded data removed]",
      "text/plain": [
       "<Figure size 432x288 with 1 Axes>"
      ]
     },
     "metadata": {},
     "output_type": "display_data"
    }
   ],
   "source": [
    "House_dataset.hist(\"Sold Price\",bins=100)\n",
    "plt.legend(labels=['Sold Price'])"
   ]
  },
  {
   "cell_type": "code",
   "execution_count": 74,
   "metadata": {},
   "outputs": [
    {
     "name": "stdout",
     "output_type": "stream",
     "text": [
      "count    15224.000000\n",
      "mean        13.799306\n",
      "std          0.412670\n",
      "min         12.779873\n",
      "25%         13.487006\n",
      "50%         13.710150\n",
      "75%         14.077875\n",
      "max         14.924073\n",
      "Name: log price, dtype: float64\n"
     ]
    }
   ],
   "source": [
    "House_dataset[\"log price\"]=np.log(House_dataset['Sold Price'].tolist())\n",
    "print(House_dataset[\"log price\"].describe())"
   ]
  },
  {
   "cell_type": "code",
   "execution_count": 75,
   "metadata": {},
   "outputs": [
    {
     "data": {
      "text/plain": [
       "<matplotlib.legend.Legend at 0x7ff08d4183d0>"
      ]
     },
     "execution_count": 75,
     "metadata": {},
     "output_type": "execute_result"
    },
    {
     "data": {
      "image/png": "[encoded data removed]",
      "text/plain": [
       "<Figure size 432x288 with 1 Axes>"
      ]
     },
     "metadata": {},
     "output_type": "display_data"
    }
   ],
   "source": [
    "House_dataset.hist(\"log price\",bins=100)\n",
    "plt.legend(labels=[\"Pc=Log('Sold Price')\"])"
   ]
  },
  {
   "cell_type": "code",
   "execution_count": 76,
   "metadata": {},
   "outputs": [
    {
     "data": {
      "text/plain": [
       "0       67\n",
       "1      482\n",
       "2     1720\n",
       "3     2211\n",
       "4     2285\n",
       "5     1463\n",
       "6     1187\n",
       "7      761\n",
       "8      868\n",
       "9      649\n",
       "10     686\n",
       "11     406\n",
       "12     430\n",
       "13     310\n",
       "14     345\n",
       "15     190\n",
       "16     199\n",
       "17     136\n",
       "18     171\n",
       "19     125\n",
       "20     122\n",
       "21      76\n",
       "22      96\n",
       "23      54\n",
       "24      85\n",
       "25      55\n",
       "26      45\n",
       "Name: price class, dtype: int64"
      ]
     },
     "execution_count": 76,
     "metadata": {},
     "output_type": "execute_result"
    }
   ],
   "source": [
    "# creat classes for sold price labl\n",
    "#df1['score_floor'] = df1['Score'].apply(np.floor)\n",
    "House_dataset[\"price class\"]=round((House_dataset['Sold Price']-400000)/100000).astype(int)\n",
    "House_dataset[\"price class\"].value_counts().sort_index()"
   ]
  },
  {
   "cell_type": "code",
   "execution_count": 77,
   "metadata": {},
   "outputs": [
    {
     "data": {
      "text/plain": [
       "<matplotlib.legend.Legend at 0x7ff08cbc2ee0>"
      ]
     },
     "execution_count": 77,
     "metadata": {},
     "output_type": "execute_result"
    },
    {
     "data": {
      "image/png": "[encoded data removed]",
      "text/plain": [
       "<Figure size 432x432 with 1 Axes>"
      ]
     },
     "metadata": {},
     "output_type": "display_data"
    }
   ],
   "source": [
    "#House_dataset[\"price class\"].value_counts().sort_index()\n",
    "fig = plt.figure(figsize =(6,6))\n",
    "ss=House_dataset['price class'].value_counts().sort_index()\n",
    "plt.bar(list(ss.keys()),list(ss.values))\n",
    "plt.legend(labels=[\"Pc=round((Ps-150k)/50k)\"])"
   ]
  },
  {
   "cell_type": "code",
   "execution_count": 78,
   "metadata": {},
   "outputs": [
    {
     "name": "stdout",
     "output_type": "stream",
     "text": [
      "count    1.522400e+04\n",
      "mean     1.012378e+06\n",
      "std      4.942451e+05\n",
      "min      2.990000e+05\n",
      "25%      6.888000e+05\n",
      "50%      8.490000e+05\n",
      "75%      1.199000e+06\n",
      "max      3.510000e+06\n",
      "Name: List Price, dtype: float64\n"
     ]
    }
   ],
   "source": [
    "print(House_dataset[\"List Price\"].describe())"
   ]
  },
  {
   "cell_type": "code",
   "execution_count": 79,
   "metadata": {},
   "outputs": [
    {
     "name": "stdout",
     "output_type": "stream",
     "text": [
      "count    15224.000000\n",
      "mean        13.553665\n",
      "std         17.611368\n",
      "min          0.000000\n",
      "25%          5.000000\n",
      "50%          7.000000\n",
      "75%         14.000000\n",
      "max        535.000000\n",
      "Name: Days on Market, dtype: float64\n"
     ]
    }
   ],
   "source": [
    "print(House_dataset['Days on Market'].describe())"
   ]
  },
  {
   "cell_type": "code",
   "execution_count": 80,
   "metadata": {},
   "outputs": [
    {
     "name": "stdout",
     "output_type": "stream",
     "text": [
      "count    15224.000000\n",
      "mean        10.879401\n",
      "std          6.714574\n",
      "min          0.000000\n",
      "25%          5.000000\n",
      "50%         10.000000\n",
      "75%         16.000000\n",
      "max         24.000000\n",
      "Name: Date, dtype: float64\n"
     ]
    }
   ],
   "source": [
    "print(House_dataset['Date'].describe())"
   ]
  },
  {
   "cell_type": "code",
   "execution_count": 81,
   "metadata": {},
   "outputs": [
    {
     "data": {
      "text/plain": [
       "619      3.14\n",
       "620      3.34\n",
       "623      3.14\n",
       "624      3.24\n",
       "625      3.14\n",
       "         ... \n",
       "32152    3.14\n",
       "32444    3.14\n",
       "33399    3.09\n",
       "33437    3.14\n",
       "33757    3.14\n",
       "Name: MortgageRate, Length: 15224, dtype: float64"
      ]
     },
     "execution_count": 81,
     "metadata": {},
     "output_type": "execute_result"
    }
   ],
   "source": [
    "House_dataset[\"MortgageRate\"]"
   ]
  },
  {
   "cell_type": "code",
   "execution_count": 82,
   "metadata": {},
   "outputs": [
    {
     "name": "stdout",
     "output_type": "stream",
     "text": [
      "<class 'pandas.core.frame.DataFrame'>\n",
      "Int64Index: 15224 entries, 619 to 33757\n",
      "Data columns (total 60 columns):\n",
      " #   Column                Non-Null Count  Dtype  \n",
      "---  ------                --------------  -----  \n",
      " 0   Bedrooms AG           15224 non-null  float64\n",
      " 1   Bedrooms BG           15224 non-null  float64\n",
      " 2   Washrooms             15224 non-null  int64  \n",
      " 3   Family Room           15224 non-null  int64  \n",
      " 4   Parking Type          15224 non-null  int64  \n",
      " 5   Taxes                 15224 non-null  float64\n",
      " 6   AC Type               15224 non-null  int64  \n",
      " 7   green_new             15224 non-null  float64\n",
      " 8   Date                  15224 non-null  int64  \n",
      " 9   MortgageRate          15224 non-null  float64\n",
      " 10  Sale to List %        15224 non-null  float64\n",
      " 11  Days on Market        15224 non-null  int64  \n",
      " 12  List Price            15224 non-null  int64  \n",
      " 13  Sold Price            15224 non-null  int64  \n",
      " 14  Detached              15224 non-null  int64  \n",
      " 15  Semi-Detached         15224 non-null  int64  \n",
      " 16  Other house Property  15224 non-null  int64  \n",
      " 17  Multi Storey          15224 non-null  int64  \n",
      " 18  Bungalow              15224 non-null  int64  \n",
      " 19  Other house Style     15224 non-null  int64  \n",
      " 20  Finished              15224 non-null  int64  \n",
      " 21  Unfinished            15224 non-null  int64  \n",
      " 22  Other Basement type   15224 non-null  int64  \n",
      " 23  C14                   15224 non-null  int64  \n",
      " 24  C10                   15224 non-null  int64  \n",
      " 25  C02                   15224 non-null  int64  \n",
      " 26  C11                   15224 non-null  int64  \n",
      " 27  C15                   15224 non-null  int64  \n",
      " 28  C03                   15224 non-null  int64  \n",
      " 29  C08                   15224 non-null  int64  \n",
      " 30  E04                   15224 non-null  int64  \n",
      " 31  W06                   15224 non-null  int64  \n",
      " 32  W09                   15224 non-null  int64  \n",
      " 33  C12                   15224 non-null  int64  \n",
      " 34  C06                   15224 non-null  int64  \n",
      " 35  W07                   15224 non-null  int64  \n",
      " 36  W02                   15224 non-null  int64  \n",
      " 37  E05                   15224 non-null  int64  \n",
      " 38  W04                   15224 non-null  int64  \n",
      " 39  E03                   15224 non-null  int64  \n",
      " 40  C04                   15224 non-null  int64  \n",
      " 41  W08                   15224 non-null  int64  \n",
      " 42  C01                   15224 non-null  int64  \n",
      " 43  C07                   15224 non-null  int64  \n",
      " 44  E10                   15224 non-null  int64  \n",
      " 45  W03                   15224 non-null  int64  \n",
      " 46  E08                   15224 non-null  int64  \n",
      " 47  E11                   15224 non-null  int64  \n",
      " 48  E09                   15224 non-null  int64  \n",
      " 49  C13                   15224 non-null  int64  \n",
      " 50  W10                   15224 non-null  int64  \n",
      " 51  W05                   15224 non-null  int64  \n",
      " 52  E06                   15224 non-null  int64  \n",
      " 53  E02                   15224 non-null  int64  \n",
      " 54  C09                   15224 non-null  int64  \n",
      " 55  E01                   15224 non-null  int64  \n",
      " 56  W01                   15224 non-null  int64  \n",
      " 57  E07                   15224 non-null  int64  \n",
      " 58  log price             15224 non-null  float64\n",
      " 59  price class           15224 non-null  int64  \n",
      "dtypes: float64(7), int64(53)\n",
      "memory usage: 7.1 MB\n"
     ]
    }
   ],
   "source": [
    "House_dataset.info()"
   ]
  },
  {
   "cell_type": "code",
   "execution_count": 83,
   "metadata": {},
   "outputs": [
    {
     "data": {
      "text/html": [
       "<div>\n",
       "<style scoped>\n",
       "    .dataframe tbody tr th:only-of-type {\n",
       "        vertical-align: middle;\n",
       "    }\n",
       "\n",
       "    .dataframe tbody tr th {\n",
       "        vertical-align: top;\n",
       "    }\n",
       "\n",
       "    .dataframe thead th {\n",
       "        text-align: right;\n",
       "    }\n",
       "</style>\n",
       "<table border=\"1\" class=\"dataframe\">\n",
       "  <thead>\n",
       "    <tr style=\"text-align: right;\">\n",
       "      <th></th>\n",
       "      <th>log price</th>\n",
       "    </tr>\n",
       "  </thead>\n",
       "  <tbody>\n",
       "    <tr>\n",
       "      <th>Taxes</th>\n",
       "      <td>0.847109</td>\n",
       "    </tr>\n",
       "    <tr>\n",
       "      <th>List Price</th>\n",
       "      <td>0.926035</td>\n",
       "    </tr>\n",
       "    <tr>\n",
       "      <th>Sold Price</th>\n",
       "      <td>0.971874</td>\n",
       "    </tr>\n",
       "    <tr>\n",
       "      <th>log price</th>\n",
       "      <td>1.000000</td>\n",
       "    </tr>\n",
       "    <tr>\n",
       "      <th>price class</th>\n",
       "      <td>0.970420</td>\n",
       "    </tr>\n",
       "  </tbody>\n",
       "</table>\n",
       "</div>"
      ],
      "text/plain": [
       "             log price\n",
       "Taxes         0.847109\n",
       "List Price    0.926035\n",
       "Sold Price    0.971874\n",
       "log price     1.000000\n",
       "price class   0.970420"
      ]
     },
     "execution_count": 83,
     "metadata": {},
     "output_type": "execute_result"
    }
   ],
   "source": [
    "corr=House_dataset.corr(method ='pearson')\n",
    "#corr\n",
    "corr[abs(corr[\"price class\"])>0.5][[\"log price\"]]\n"
   ]
  },
  {
   "cell_type": "code",
   "execution_count": 84,
   "metadata": {},
   "outputs": [
    {
     "name": "stdout",
     "output_type": "stream",
     "text": [
      "<class 'pandas.core.frame.DataFrame'>\n",
      "Int64Index: 15224 entries, 619 to 33757\n",
      "Data columns (total 60 columns):\n",
      " #   Column                Non-Null Count  Dtype  \n",
      "---  ------                --------------  -----  \n",
      " 0   Bedrooms AG           15224 non-null  float64\n",
      " 1   Bedrooms BG           15224 non-null  float64\n",
      " 2   Washrooms             15224 non-null  int64  \n",
      " 3   Family Room           15224 non-null  int64  \n",
      " 4   Parking Type          15224 non-null  int64  \n",
      " 5   Taxes                 15224 non-null  float64\n",
      " 6   AC Type               15224 non-null  int64  \n",
      " 7   green_new             15224 non-null  float64\n",
      " 8   Date                  15224 non-null  int64  \n",
      " 9   MortgageRate          15224 non-null  float64\n",
      " 10  Sale to List %        15224 non-null  float64\n",
      " 11  Days on Market        15224 non-null  int64  \n",
      " 12  List Price            15224 non-null  int64  \n",
      " 13  Sold Price            15224 non-null  int64  \n",
      " 14  Detached              15224 non-null  int64  \n",
      " 15  Semi-Detached         15224 non-null  int64  \n",
      " 16  Other house Property  15224 non-null  int64  \n",
      " 17  Multi Storey          15224 non-null  int64  \n",
      " 18  Bungalow              15224 non-null  int64  \n",
      " 19  Other house Style     15224 non-null  int64  \n",
      " 20  Finished              15224 non-null  int64  \n",
      " 21  Unfinished            15224 non-null  int64  \n",
      " 22  Other Basement type   15224 non-null  int64  \n",
      " 23  C14                   15224 non-null  int64  \n",
      " 24  C10                   15224 non-null  int64  \n",
      " 25  C02                   15224 non-null  int64  \n",
      " 26  C11                   15224 non-null  int64  \n",
      " 27  C15                   15224 non-null  int64  \n",
      " 28  C03                   15224 non-null  int64  \n",
      " 29  C08                   15224 non-null  int64  \n",
      " 30  E04                   15224 non-null  int64  \n",
      " 31  W06                   15224 non-null  int64  \n",
      " 32  W09                   15224 non-null  int64  \n",
      " 33  C12                   15224 non-null  int64  \n",
      " 34  C06                   15224 non-null  int64  \n",
      " 35  W07                   15224 non-null  int64  \n",
      " 36  W02                   15224 non-null  int64  \n",
      " 37  E05                   15224 non-null  int64  \n",
      " 38  W04                   15224 non-null  int64  \n",
      " 39  E03                   15224 non-null  int64  \n",
      " 40  C04                   15224 non-null  int64  \n",
      " 41  W08                   15224 non-null  int64  \n",
      " 42  C01                   15224 non-null  int64  \n",
      " 43  C07                   15224 non-null  int64  \n",
      " 44  E10                   15224 non-null  int64  \n",
      " 45  W03                   15224 non-null  int64  \n",
      " 46  E08                   15224 non-null  int64  \n",
      " 47  E11                   15224 non-null  int64  \n",
      " 48  E09                   15224 non-null  int64  \n",
      " 49  C13                   15224 non-null  int64  \n",
      " 50  W10                   15224 non-null  int64  \n",
      " 51  W05                   15224 non-null  int64  \n",
      " 52  E06                   15224 non-null  int64  \n",
      " 53  E02                   15224 non-null  int64  \n",
      " 54  C09                   15224 non-null  int64  \n",
      " 55  E01                   15224 non-null  int64  \n",
      " 56  W01                   15224 non-null  int64  \n",
      " 57  E07                   15224 non-null  int64  \n",
      " 58  log price             15224 non-null  float64\n",
      " 59  price class           15224 non-null  int64  \n",
      "dtypes: float64(7), int64(53)\n",
      "memory usage: 7.1 MB\n"
     ]
    }
   ],
   "source": [
    "House_dataset.info()"
   ]
  },
  {
   "cell_type": "code",
   "execution_count": 85,
   "metadata": {},
   "outputs": [
    {
     "data": {
      "text/html": [
       "<div>\n",
       "<style scoped>\n",
       "    .dataframe tbody tr th:only-of-type {\n",
       "        vertical-align: middle;\n",
       "    }\n",
       "\n",
       "    .dataframe tbody tr th {\n",
       "        vertical-align: top;\n",
       "    }\n",
       "\n",
       "    .dataframe thead th {\n",
       "        text-align: right;\n",
       "    }\n",
       "</style>\n",
       "<table border=\"1\" class=\"dataframe\">\n",
       "  <thead>\n",
       "    <tr style=\"text-align: right;\">\n",
       "      <th></th>\n",
       "      <th>Bedrooms AG</th>\n",
       "      <th>Bedrooms BG</th>\n",
       "      <th>Washrooms</th>\n",
       "      <th>Family Room</th>\n",
       "      <th>Parking Type</th>\n",
       "      <th>Taxes</th>\n",
       "      <th>AC Type</th>\n",
       "      <th>green_new</th>\n",
       "      <th>Date</th>\n",
       "      <th>MortgageRate</th>\n",
       "      <th>...</th>\n",
       "      <th>W10</th>\n",
       "      <th>W05</th>\n",
       "      <th>E06</th>\n",
       "      <th>E02</th>\n",
       "      <th>C09</th>\n",
       "      <th>E01</th>\n",
       "      <th>W01</th>\n",
       "      <th>E07</th>\n",
       "      <th>log price</th>\n",
       "      <th>price class</th>\n",
       "    </tr>\n",
       "  </thead>\n",
       "  <tbody>\n",
       "    <tr>\n",
       "      <th>0</th>\n",
       "      <td>5.0</td>\n",
       "      <td>1.0</td>\n",
       "      <td>6</td>\n",
       "      <td>1</td>\n",
       "      <td>1</td>\n",
       "      <td>11915.00</td>\n",
       "      <td>1</td>\n",
       "      <td>13.089583</td>\n",
       "      <td>16</td>\n",
       "      <td>3.14</td>\n",
       "      <td>...</td>\n",
       "      <td>0</td>\n",
       "      <td>0</td>\n",
       "      <td>0</td>\n",
       "      <td>0</td>\n",
       "      <td>0</td>\n",
       "      <td>0</td>\n",
       "      <td>0</td>\n",
       "      <td>0</td>\n",
       "      <td>14.924073</td>\n",
       "      <td>26</td>\n",
       "    </tr>\n",
       "    <tr>\n",
       "      <th>1</th>\n",
       "      <td>4.0</td>\n",
       "      <td>1.0</td>\n",
       "      <td>5</td>\n",
       "      <td>1</td>\n",
       "      <td>1</td>\n",
       "      <td>9800.00</td>\n",
       "      <td>1</td>\n",
       "      <td>29.295208</td>\n",
       "      <td>24</td>\n",
       "      <td>3.34</td>\n",
       "      <td>...</td>\n",
       "      <td>0</td>\n",
       "      <td>0</td>\n",
       "      <td>0</td>\n",
       "      <td>0</td>\n",
       "      <td>0</td>\n",
       "      <td>0</td>\n",
       "      <td>0</td>\n",
       "      <td>0</td>\n",
       "      <td>14.924073</td>\n",
       "      <td>26</td>\n",
       "    </tr>\n",
       "    <tr>\n",
       "      <th>2</th>\n",
       "      <td>3.0</td>\n",
       "      <td>1.0</td>\n",
       "      <td>4</td>\n",
       "      <td>1</td>\n",
       "      <td>1</td>\n",
       "      <td>14530.00</td>\n",
       "      <td>1</td>\n",
       "      <td>27.621771</td>\n",
       "      <td>9</td>\n",
       "      <td>3.14</td>\n",
       "      <td>...</td>\n",
       "      <td>0</td>\n",
       "      <td>0</td>\n",
       "      <td>0</td>\n",
       "      <td>0</td>\n",
       "      <td>0</td>\n",
       "      <td>0</td>\n",
       "      <td>0</td>\n",
       "      <td>0</td>\n",
       "      <td>14.922422</td>\n",
       "      <td>26</td>\n",
       "    </tr>\n",
       "    <tr>\n",
       "      <th>3</th>\n",
       "      <td>4.0</td>\n",
       "      <td>1.0</td>\n",
       "      <td>6</td>\n",
       "      <td>1</td>\n",
       "      <td>1</td>\n",
       "      <td>10532.87</td>\n",
       "      <td>1</td>\n",
       "      <td>24.436771</td>\n",
       "      <td>22</td>\n",
       "      <td>3.24</td>\n",
       "      <td>...</td>\n",
       "      <td>0</td>\n",
       "      <td>0</td>\n",
       "      <td>0</td>\n",
       "      <td>0</td>\n",
       "      <td>0</td>\n",
       "      <td>0</td>\n",
       "      <td>0</td>\n",
       "      <td>0</td>\n",
       "      <td>14.922422</td>\n",
       "      <td>26</td>\n",
       "    </tr>\n",
       "    <tr>\n",
       "      <th>4</th>\n",
       "      <td>4.0</td>\n",
       "      <td>1.0</td>\n",
       "      <td>4</td>\n",
       "      <td>1</td>\n",
       "      <td>1</td>\n",
       "      <td>13401.73</td>\n",
       "      <td>1</td>\n",
       "      <td>31.939375</td>\n",
       "      <td>17</td>\n",
       "      <td>3.14</td>\n",
       "      <td>...</td>\n",
       "      <td>0</td>\n",
       "      <td>0</td>\n",
       "      <td>0</td>\n",
       "      <td>0</td>\n",
       "      <td>0</td>\n",
       "      <td>0</td>\n",
       "      <td>0</td>\n",
       "      <td>0</td>\n",
       "      <td>14.920767</td>\n",
       "      <td>26</td>\n",
       "    </tr>\n",
       "    <tr>\n",
       "      <th>...</th>\n",
       "      <td>...</td>\n",
       "      <td>...</td>\n",
       "      <td>...</td>\n",
       "      <td>...</td>\n",
       "      <td>...</td>\n",
       "      <td>...</td>\n",
       "      <td>...</td>\n",
       "      <td>...</td>\n",
       "      <td>...</td>\n",
       "      <td>...</td>\n",
       "      <td>...</td>\n",
       "      <td>...</td>\n",
       "      <td>...</td>\n",
       "      <td>...</td>\n",
       "      <td>...</td>\n",
       "      <td>...</td>\n",
       "      <td>...</td>\n",
       "      <td>...</td>\n",
       "      <td>...</td>\n",
       "      <td>...</td>\n",
       "      <td>...</td>\n",
       "    </tr>\n",
       "    <tr>\n",
       "      <th>15219</th>\n",
       "      <td>3.0</td>\n",
       "      <td>0.0</td>\n",
       "      <td>3</td>\n",
       "      <td>0</td>\n",
       "      <td>1</td>\n",
       "      <td>1924.53</td>\n",
       "      <td>1</td>\n",
       "      <td>31.006250</td>\n",
       "      <td>3</td>\n",
       "      <td>3.14</td>\n",
       "      <td>...</td>\n",
       "      <td>0</td>\n",
       "      <td>0</td>\n",
       "      <td>0</td>\n",
       "      <td>0</td>\n",
       "      <td>0</td>\n",
       "      <td>0</td>\n",
       "      <td>0</td>\n",
       "      <td>0</td>\n",
       "      <td>12.847927</td>\n",
       "      <td>0</td>\n",
       "    </tr>\n",
       "    <tr>\n",
       "      <th>15220</th>\n",
       "      <td>3.0</td>\n",
       "      <td>0.0</td>\n",
       "      <td>1</td>\n",
       "      <td>0</td>\n",
       "      <td>0</td>\n",
       "      <td>3096.00</td>\n",
       "      <td>1</td>\n",
       "      <td>24.252400</td>\n",
       "      <td>2</td>\n",
       "      <td>3.14</td>\n",
       "      <td>...</td>\n",
       "      <td>0</td>\n",
       "      <td>0</td>\n",
       "      <td>0</td>\n",
       "      <td>0</td>\n",
       "      <td>0</td>\n",
       "      <td>0</td>\n",
       "      <td>0</td>\n",
       "      <td>0</td>\n",
       "      <td>12.834681</td>\n",
       "      <td>0</td>\n",
       "    </tr>\n",
       "    <tr>\n",
       "      <th>15221</th>\n",
       "      <td>2.0</td>\n",
       "      <td>0.0</td>\n",
       "      <td>1</td>\n",
       "      <td>0</td>\n",
       "      <td>0</td>\n",
       "      <td>1953.84</td>\n",
       "      <td>0</td>\n",
       "      <td>2.445830</td>\n",
       "      <td>20</td>\n",
       "      <td>3.09</td>\n",
       "      <td>...</td>\n",
       "      <td>0</td>\n",
       "      <td>0</td>\n",
       "      <td>0</td>\n",
       "      <td>0</td>\n",
       "      <td>0</td>\n",
       "      <td>0</td>\n",
       "      <td>0</td>\n",
       "      <td>0</td>\n",
       "      <td>12.793859</td>\n",
       "      <td>0</td>\n",
       "    </tr>\n",
       "    <tr>\n",
       "      <th>15222</th>\n",
       "      <td>2.0</td>\n",
       "      <td>1.0</td>\n",
       "      <td>1</td>\n",
       "      <td>0</td>\n",
       "      <td>0</td>\n",
       "      <td>1596.10</td>\n",
       "      <td>0</td>\n",
       "      <td>22.420900</td>\n",
       "      <td>5</td>\n",
       "      <td>3.14</td>\n",
       "      <td>...</td>\n",
       "      <td>0</td>\n",
       "      <td>0</td>\n",
       "      <td>0</td>\n",
       "      <td>0</td>\n",
       "      <td>0</td>\n",
       "      <td>0</td>\n",
       "      <td>0</td>\n",
       "      <td>0</td>\n",
       "      <td>12.793859</td>\n",
       "      <td>0</td>\n",
       "    </tr>\n",
       "    <tr>\n",
       "      <th>15223</th>\n",
       "      <td>2.0</td>\n",
       "      <td>0.0</td>\n",
       "      <td>2</td>\n",
       "      <td>0</td>\n",
       "      <td>0</td>\n",
       "      <td>1864.41</td>\n",
       "      <td>0</td>\n",
       "      <td>19.166900</td>\n",
       "      <td>8</td>\n",
       "      <td>3.14</td>\n",
       "      <td>...</td>\n",
       "      <td>0</td>\n",
       "      <td>0</td>\n",
       "      <td>0</td>\n",
       "      <td>0</td>\n",
       "      <td>0</td>\n",
       "      <td>0</td>\n",
       "      <td>0</td>\n",
       "      <td>0</td>\n",
       "      <td>12.779873</td>\n",
       "      <td>0</td>\n",
       "    </tr>\n",
       "  </tbody>\n",
       "</table>\n",
       "<p>15224 rows × 60 columns</p>\n",
       "</div>"
      ],
      "text/plain": [
       "       Bedrooms AG  Bedrooms BG  Washrooms  Family Room  Parking Type  \\\n",
       "0              5.0          1.0          6            1             1   \n",
       "1              4.0          1.0          5            1             1   \n",
       "2              3.0          1.0          4            1             1   \n",
       "3              4.0          1.0          6            1             1   \n",
       "4              4.0          1.0          4            1             1   \n",
       "...            ...          ...        ...          ...           ...   \n",
       "15219          3.0          0.0          3            0             1   \n",
       "15220          3.0          0.0          1            0             0   \n",
       "15221          2.0          0.0          1            0             0   \n",
       "15222          2.0          1.0          1            0             0   \n",
       "15223          2.0          0.0          2            0             0   \n",
       "\n",
       "          Taxes  AC Type  green_new  Date  MortgageRate  ...  W10  W05  E06  \\\n",
       "0      11915.00        1  13.089583    16          3.14  ...    0    0    0   \n",
       "1       9800.00        1  29.295208    24          3.34  ...    0    0    0   \n",
       "2      14530.00        1  27.621771     9          3.14  ...    0    0    0   \n",
       "3      10532.87        1  24.436771    22          3.24  ...    0    0    0   \n",
       "4      13401.73        1  31.939375    17          3.14  ...    0    0    0   \n",
       "...         ...      ...        ...   ...           ...  ...  ...  ...  ...   \n",
       "15219   1924.53        1  31.006250     3          3.14  ...    0    0    0   \n",
       "15220   3096.00        1  24.252400     2          3.14  ...    0    0    0   \n",
       "15221   1953.84        0   2.445830    20          3.09  ...    0    0    0   \n",
       "15222   1596.10        0  22.420900     5          3.14  ...    0    0    0   \n",
       "15223   1864.41        0  19.166900     8          3.14  ...    0    0    0   \n",
       "\n",
       "       E02  C09  E01  W01  E07  log price  price class  \n",
       "0        0    0    0    0    0  14.924073           26  \n",
       "1        0    0    0    0    0  14.924073           26  \n",
       "2        0    0    0    0    0  14.922422           26  \n",
       "3        0    0    0    0    0  14.922422           26  \n",
       "4        0    0    0    0    0  14.920767           26  \n",
       "...    ...  ...  ...  ...  ...        ...          ...  \n",
       "15219    0    0    0    0    0  12.847927            0  \n",
       "15220    0    0    0    0    0  12.834681            0  \n",
       "15221    0    0    0    0    0  12.793859            0  \n",
       "15222    0    0    0    0    0  12.793859            0  \n",
       "15223    0    0    0    0    0  12.779873            0  \n",
       "\n",
       "[15224 rows x 60 columns]"
      ]
     },
     "execution_count": 85,
     "metadata": {},
     "output_type": "execute_result"
    }
   ],
   "source": [
    "House_dataset.to_csv(\"House_dataset.csv\",index=False)\n",
    "pd.read_csv(\"House_dataset.csv\")"
   ]
  },
  {
   "cell_type": "code",
   "execution_count": 86,
   "metadata": {},
   "outputs": [],
   "source": [
    "#Heat Maps\n",
    "#fig=plt.gcf()\n",
    "#fig.set_size_inches(10,7)\n",
    "#fig=sns.heatmap(corr[corr>0.2],annot=True,cmap='cubehelix',linewidths=1,linecolor='k',square=True,mask=False, vmin=-1, vmax=1,cbar_kws={\"orientation\": \"vertical\"},cbar=True)"
   ]
  }
 ],
 "metadata": {
  "kernelspec": {
   "display_name": "Python 3",
   "language": "python",
   "name": "python3"
  },
  "language_info": {
   "codemirror_mode": {
    "name": "ipython",
    "version": 3
   },
   "file_extension": ".py",
   "mimetype": "text/x-python",
   "name": "python",
   "nbconvert_exporter": "python",
   "pygments_lexer": "ipython3",
   "version": "3.8.5"
  }
 },
 "nbformat": 4,
 "nbformat_minor": 4
}

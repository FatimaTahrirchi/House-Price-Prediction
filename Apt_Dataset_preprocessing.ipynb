{
 "cells": [
  {
   "cell_type": "code",
   "execution_count": 1,
   "metadata": {},
   "outputs": [],
   "source": [
    "import xgboost as xgb\n",
    "import numpy as np\n",
    "import pandas as pd\n",
    "import matplotlib.pyplot as plt\n",
    "plt.style.use('ggplot')\n",
    "from sklearn import metrics\n",
    "from datetime import datetime\n",
    "import seaborn as sns\n",
    "from keras.models import Sequential\n",
    "from keras.layers import Dense\n",
    "from keras.utils import model_to_dot\n",
    "from keras.utils import plot_model\n",
    "from mlxtend.preprocessing import TransactionEncoder\n",
    "from sklearn.model_selection import train_test_split\n",
    "from sklearn.linear_model import LinearRegression\n",
    "from sklearn.metrics import mean_squared_error,r2_score\n",
    "from statistics import variance\n",
    "from sklearn.svm import SVR\n",
    "from sklearn.neighbors import KNeighborsRegressor\n",
    "from sklearn.ensemble import RandomForestRegressor,RandomForestClassifier,ExtraTreesClassifier\n",
    "from tensorflow.keras.models import Sequential\n",
    "from tensorflow.keras.layers import Dense, Dropout\n",
    "from tensorflow.keras.callbacks import EarlyStopping, LambdaCallback\n",
    "from sklearn.linear_model import LogisticRegression\n",
    "from sklearn.metrics import accuracy_score, classification_report\n",
    "from sklearn.model_selection import KFold, cross_val_score,GridSearchCV\n",
    "from sklearn.feature_selection import RFE\n",
    "from xgboost import cv\n",
    "from sklearn.metrics import make_scorer"
   ]
  },
  {
   "cell_type": "code",
   "execution_count": 2,
   "metadata": {},
   "outputs": [
    {
     "name": "stderr",
     "output_type": "stream",
     "text": [
      "/opt/anaconda3/lib/python3.8/site-packages/IPython/core/interactiveshell.py:3146: DtypeWarning: Columns (56,61) have mixed types.Specify dtype option on import or set low_memory=False.\n",
      "  has_raised = await self.run_ast_nodes(code_ast.body, cell_name,\n"
     ]
    }
   ],
   "source": [
    "dataset=pd.read_csv(\"dataset.csv\")"
   ]
  },
  {
   "cell_type": "code",
   "execution_count": 3,
   "metadata": {},
   "outputs": [],
   "source": [
    "dataset=dataset.replace({\"--\":np.nan})\n",
    "#dataset.describe()"
   ]
  },
  {
   "cell_type": "code",
   "execution_count": 4,
   "metadata": {},
   "outputs": [
    {
     "name": "stdout",
     "output_type": "stream",
     "text": [
      "<class 'pandas.core.frame.DataFrame'>\n",
      "RangeIndex: 39961 entries, 0 to 39960\n",
      "Data columns (total 71 columns):\n",
      " #   Column                    Non-Null Count  Dtype  \n",
      "---  ------                    --------------  -----  \n",
      " 0   Sample                    39961 non-null  int64  \n",
      " 1   ID                        39961 non-null  int64  \n",
      " 2   DATA                      39961 non-null  int64  \n",
      " 3   LONGITUDE                 39961 non-null  int64  \n",
      " 4   LATITUDE                  39961 non-null  int64  \n",
      " 5   City                      39961 non-null  object \n",
      " 6   Postal Code               39955 non-null  object \n",
      " 7   Community                 39961 non-null  object \n",
      " 8   Property Type             39961 non-null  object \n",
      " 9   Building Style            39913 non-null  object \n",
      " 10  Bedrooms AG               39888 non-null  float64\n",
      " 11  Bedrooms BG               18701 non-null  float64\n",
      " 12  Washrooms                 39961 non-null  int64  \n",
      " 13  Kitchen                   39887 non-null  float64\n",
      " 14  Family Room               39892 non-null  object \n",
      " 15  Basement                  39893 non-null  object \n",
      " 16  Age Range                 15397 non-null  object \n",
      " 17  Exposure                  23579 non-null  object \n",
      " 18  Square Feet               28059 non-null  object \n",
      " 19  Parking Type              39924 non-null  object \n",
      " 20  Parking Spot              13696 non-null  float64\n",
      " 21  Taxes                     39961 non-null  float64\n",
      " 22  Maint. Fees               23629 non-null  object \n",
      " 23  AC Type                   39891 non-null  object \n",
      " 24  Heat Type                 39889 non-null  object \n",
      " 25  Common Elements Included  23596 non-null  object \n",
      " 26  Taxes Included            23626 non-null  object \n",
      " 27  Heat included             23595 non-null  object \n",
      " 28  Water Included            23597 non-null  object \n",
      " 29  Hydro Included            23597 non-null  object \n",
      " 30  Parking Included          23603 non-null  object \n",
      " 31  Ensuite Laundry           23578 non-null  object \n",
      " 32  Locker                    23588 non-null  object \n",
      " 33  Locker Unit               2287 non-null   object \n",
      " 34  Balcony                   23583 non-null  object \n",
      " 35  Corp #                    23589 non-null  float64\n",
      " 36  Management Company        23446 non-null  object \n",
      " 37  Amenities 1               19207 non-null  object \n",
      " 38  Amenities 2               18477 non-null  object \n",
      " 39  Amenities 3               17720 non-null  object \n",
      " 40  Amenities 4               16868 non-null  object \n",
      " 41  Amenities 5               15436 non-null  object \n",
      " 42  Amenities 6               12476 non-null  object \n",
      " 43  Contract Date             39961 non-null  object \n",
      " 44  Expirey Date              39961 non-null  object \n",
      " 45  Sold Date                 39961 non-null  object \n",
      " 46  Terminated Date           22 non-null     float64\n",
      " 47  Suspended Date            330 non-null    object \n",
      " 48  Closing Date              39958 non-null  object \n",
      " 49  Status                    39961 non-null  object \n",
      " 50  List Price                39961 non-null  int64  \n",
      " 51  Sold Price                39961 non-null  int64  \n",
      " 52  Days on Market            39961 non-null  int64  \n",
      " 53  Pets Permitted            23581 non-null  object \n",
      " 54  Original Price            39961 non-null  int64  \n",
      " 55  Heat Source               39889 non-null  object \n",
      " 56  Hold Over Days            39958 non-null  object \n",
      " 57  Picture Exists            39540 non-null  object \n",
      " 58  Total Rooms               39890 non-null  object \n",
      " 59  Transaction Type          39961 non-null  object \n",
      " 60  Ownership Type            39961 non-null  object \n",
      " 61  Sale to List %            39956 non-null  object \n",
      " 62  Ward                      39958 non-null  object \n",
      " 63  Latitude:1                39961 non-null  float64\n",
      " 64  Longtitude                39961 non-null  float64\n",
      " 65  Status Auto               39961 non-null  object \n",
      " 66  Region                    39961 non-null  object \n",
      " 67  neighbourhood_ID          39961 non-null  int64  \n",
      " 68  neighbourhood_name        39961 non-null  object \n",
      " 69  green_date                39961 non-null  object \n",
      " 70  green_new                 39961 non-null  float64\n",
      "dtypes: float64(10), int64(11), object(50)\n",
      "memory usage: 21.6+ MB\n"
     ]
    }
   ],
   "source": [
    "dataset.info()"
   ]
  },
  {
   "cell_type": "markdown",
   "metadata": {},
   "source": [
    "تاریخ به صورت متنی است تبدیل به دیتا تایپ تاریخ شده و سپس تبدیل به یک عدد اردینالی مرتب بر حسب ماه شده است"
   ]
  },
  {
   "cell_type": "code",
   "execution_count": 5,
   "metadata": {},
   "outputs": [],
   "source": [
    "def convert_date(date):\n",
    "    try:\n",
    "        return  datetime.strptime(date,'%m/%d/%Y' )    \n",
    "    except: \n",
    "        try:   \n",
    "            return  datetime.strptime(date, '%d/%m/%Y')\n",
    "        except:\n",
    "            #print(date)\n",
    "            return np.nan\n",
    "    \n",
    "\n",
    "def convert_month(date):\n",
    "    return (date.year-2016)*12+(date.month-1)\n",
    "\n",
    "dataset['Sold Date']=[convert_date(X) for X in dataset['Sold Date'].tolist()]\n",
    "dataset['Date']=[convert_month(X) for X in dataset['Sold Date'].tolist()]"
   ]
  },
  {
   "cell_type": "code",
   "execution_count": 6,
   "metadata": {},
   "outputs": [],
   "source": [
    "mortgage=pd.read_csv(\"book3.csv\").dropna()\n",
    "#mortgage[\"Date\"]=[datetime.strptime(X,'%b-%y' ) for X in mortgage[\"Jul-110 *M Disaggregate_All\"].tolist()]\n",
    "#mortgage[\"Date\"]=[convert_month(X) for X in mortgage[\"Date\"].tolist()]\n",
    "#mortgage=mortgage[mortgage[\"Date\"]>=0]\n",
    "#mortgage=mortgage[mortgage[\"Date\"]<25]\n",
    "#mortgage[\"MortgageRate\"]=mortgage[\"V122520@CANADA\"]\n",
    "#mortgage=mortgage.drop([\"Jul-110 *M Disaggregate_All\",\"V122520@CANADA\"],axis=1)\n",
    "dataset[\"MortgageRate\"]=[mortgage[\"V122520@CANADA\"][d+66] for d in dataset[\"Date\"].values]"
   ]
  },
  {
   "cell_type": "markdown",
   "metadata": {},
   "source": [
    "عمینیتی های در اینجا به مانند سبد خرید در شش ستون مختلف امده است \n",
    "با کمک کتاب خانه تبدیل به 23 ستون یولی شده اند"
   ]
  },
  {
   "cell_type": "code",
   "execution_count": 7,
   "metadata": {},
   "outputs": [],
   "source": [
    "amenities_list=dataset[['Amenities 1', 'Amenities 2', 'Amenities 3', 'Amenities 4', 'Amenities 5', 'Amenities 6']].fillna(\"None\").values\n",
    "#The TransactionEncoder returna  a \"True\" and \"False\" Matrix.\n",
    "te = TransactionEncoder()\n",
    "te_ary = te.fit(amenities_list).transform(amenities_list)\n",
    "#convert all \"bool\" type to \"int\".\n",
    "te_ary=te_ary.astype(\"int\")\n",
    "amenities_df=pd.DataFrame(te_ary, columns=te.columns_).drop(\"None\",axis=1)\n",
    "dataset[list(amenities_df.columns)]=amenities_df"
   ]
  },
  {
   "cell_type": "code",
   "execution_count": 8,
   "metadata": {},
   "outputs": [],
   "source": [
    "temp_dataset=dataset[['ID','Postal Code','LONGITUDE', 'LATITUDE','Latitude:1', 'Longtitude','Expirey Date','Terminated Date','Suspended Date','Closing Date',\"Community\",\"neighbourhood_ID\",\"Ward\"]]\n"
   ]
  },
  {
   "cell_type": "code",
   "execution_count": 9,
   "metadata": {},
   "outputs": [],
   "source": [
    "dataset=dataset.drop(['Sample', 'City','Status','Status Auto','Region','Transaction Type',\"Kitchen\"],axis=1) # low varience\n",
    "dataset=dataset.drop(['DATA','Postal Code','LONGITUDE', 'LATITUDE','Latitude:1', 'Longtitude'],axis=1) #No info\n",
    "dataset=dataset.drop([\"Picture Exists\",'Corp #','Management Company','green_date'],axis=1)\n",
    "dataset=dataset.drop(['Expirey Date','Terminated Date','Suspended Date','Closing Date','Contract Date', 'Sold Date'],axis=1)\n",
    "dataset=dataset.drop([\"Community\",\"neighbourhood_ID\",\"neighbourhood_name\"],axis=1) #equal to neighbourhood_name  \n",
    "dataset=dataset.drop([\"Age Range\",\"Locker Unit\",\"Parking Spot\"],axis=1) # miss value\n",
    "dataset=dataset.drop(['Amenities 1', 'Amenities 2', 'Amenities 3', 'Amenities 4', 'Amenities 5', 'Amenities 6'],axis=1) # converted"
   ]
  },
  {
   "cell_type": "code",
   "execution_count": 10,
   "metadata": {},
   "outputs": [],
   "source": [
    "dataset['Bedrooms BG']=dataset['Bedrooms BG'].fillna(0) #fill miss value with zero\n",
    "dataset['Bedrooms AG']=dataset['Bedrooms AG'].fillna(-1) #fill miss value with -1\n",
    "dataset['Family Room']=dataset['Family Room'].fillna(0) #fill miss value with zero\n",
    "dataset['Basement']=dataset['Basement'].fillna(\"None\") #fill miss value with \"None\": dont have any basement\n",
    "dataset[\"Heat Source\"]=dataset[\"Heat Source\"].fillna(\"Other\") #fill miss value with \"Other\""
   ]
  },
  {
   "cell_type": "code",
   "execution_count": 11,
   "metadata": {},
   "outputs": [],
   "source": [
    "# problem in .csv file string instead of num\n",
    "# convert sring to int"
   ]
  },
  {
   "cell_type": "code",
   "execution_count": 12,
   "metadata": {},
   "outputs": [],
   "source": [
    "def convert_toInt(num):\n",
    "    try:\n",
    "        return int(float(num))\n",
    "    except:\n",
    "        return np.nan  \n",
    "    \n",
    "dataset[\"Sale to List %\"]=[convert_toInt(X) for X in dataset[\"Sale to List %\"].tolist()]\n",
    "dataset['Maint. Fees']=[convert_toInt(X) for X in dataset['Maint. Fees'].tolist()]\n",
    "dataset['Total Rooms']=[convert_toInt(X) for X in dataset['Total Rooms'].tolist()]\n",
    "dataset['Family Room']=[convert_toInt(X) for X in dataset['Family Room'].tolist()]\n",
    "dataset['Common Elements Included']=[convert_toInt(X) for X in dataset['Common Elements Included'].tolist()]\n",
    "dataset['Taxes Included']=[convert_toInt(X) for X in dataset['Taxes Included'].tolist()]\n",
    "dataset['Heat included']=[convert_toInt(X) for X in dataset['Heat included'].tolist()]\n",
    "dataset['Water Included']=[convert_toInt(X) for X in dataset['Water Included'].tolist()]\n",
    "dataset['Hydro Included']=[convert_toInt(X) for X in dataset['Hydro Included'].tolist()]\n",
    "dataset['Parking Included']=[convert_toInt(X) for X in dataset['Parking Included'].tolist()]\n",
    "dataset['Ensuite Laundry']=[convert_toInt(X) for X in dataset['Ensuite Laundry'].tolist()]"
   ]
  },
  {
   "cell_type": "code",
   "execution_count": 13,
   "metadata": {},
   "outputs": [
    {
     "name": "stdout",
     "output_type": "stream",
     "text": [
      "Ownership Type:\n",
      "Condo: {'Co-Ownership Apt', 'Condo Townhouse', 'Other', 'Parking Space', 'Semi-Det Condo', 'Condo Apt', 'Comm Element Condo', 'Co-Op Apt', 'Leasehold Condo', 'Locker', 'Det Condo'}\n",
      "Free: {'Fourplex', 'Other', 'Duplex', 'Detached', 'Vacant Land', 'Triplex', 'Multiplex', 'Link', 'Det W/Com Elements', 'Att/Row/Twnhouse', 'Store W/Apt/Offc', 'Semi-Detached'}\n"
     ]
    }
   ],
   "source": [
    "print('Ownership Type:')\n",
    "print(\"Condo:\",set(dataset[dataset['Ownership Type']=='Condo']['Property Type']))\n",
    "print(\"Free:\",set(dataset[dataset['Ownership Type']=='Free']['Property Type']))"
   ]
  },
  {
   "cell_type": "code",
   "execution_count": 14,
   "metadata": {},
   "outputs": [
    {
     "data": {
      "text/plain": [
       "Index(['ID', 'Property Type', 'Building Style', 'Bedrooms AG', 'Bedrooms BG',\n",
       "       'Washrooms', 'Family Room', 'Basement', 'Exposure', 'Square Feet',\n",
       "       'Parking Type', 'Taxes', 'Maint. Fees', 'AC Type', 'Heat Type',\n",
       "       'Common Elements Included', 'Taxes Included', 'Heat included',\n",
       "       'Water Included', 'Hydro Included', 'Parking Included',\n",
       "       'Ensuite Laundry', 'Locker', 'Balcony', 'List Price', 'Sold Price',\n",
       "       'Days on Market', 'Pets Permitted', 'Original Price', 'Heat Source',\n",
       "       'Hold Over Days', 'Total Rooms', 'Ownership Type', 'Sale to List %',\n",
       "       'Ward', 'green_new', 'Date', 'MortgageRate', 'Bbqs Allowed',\n",
       "       'Bike Storage', 'Bus Ctr (Wifi Bldg)', 'Car Wash', 'Concierge',\n",
       "       'Exercise Room', 'Games Room', 'Guest Suites', 'Gym', 'Indoor Pool',\n",
       "       'Lap Pool', 'Media Room', 'Outdoor Pool', 'Party/Meeting Room',\n",
       "       'Recreation Room', 'Rooftop Deck/Garden', 'Satellite Dish', 'Sauna',\n",
       "       'Security Guard', 'Security System', 'Squash/Racquet Court',\n",
       "       'Tennis Court', 'Visitor Parking'],\n",
       "      dtype='object')"
      ]
     },
     "execution_count": 14,
     "metadata": {},
     "output_type": "execute_result"
    }
   ],
   "source": [
    "dataset.columns"
   ]
  },
  {
   "cell_type": "code",
   "execution_count": 15,
   "metadata": {},
   "outputs": [],
   "source": [
    "Apt_Type=['Semi-Det Condo','Condo Apt','Leasehold Condo',\"Co-Ownership Apt\",'Co-Op Apt','Comm Element Condo','Det Condo','Condo Townhouse']\n",
    "\n",
    "Apt_Attributes=['Property Type', 'Building Style','Bedrooms AG', 'Bedrooms BG',\n",
    "       'Washrooms','Family Room','Exposure', 'Square Feet', 'Parking Type','Taxes',\n",
    "       'Maint. Fees', 'AC Type', 'Heat Type', 'Common Elements Included',\n",
    "       'Taxes Included', 'Heat included', 'Water Included', 'Hydro Included',\n",
    "       'Parking Included', 'Ensuite Laundry', 'Locker', 'Balcony', 'Pets Permitted','Heat Source',\n",
    "       'Total Rooms', 'Ward',\n",
    "       'green_new', 'Bbqs Allowed', 'Bike Storage', 'Bus Ctr (Wifi Bldg)',\n",
    "       'Car Wash', 'Concierge', 'Exercise Room', 'Games Room', 'Guest Suites',\n",
    "       'Gym', 'Indoor Pool', 'Lap Pool', 'Media Room', 'Outdoor Pool',\n",
    "       'Party/Meeting Room', 'Recreation Room', 'Rooftop Deck/Garden',\n",
    "       'Satellite Dish', 'Sauna', 'Security Guard', 'Security System',\n",
    "       'Squash/Racquet Court', 'Tennis Court', 'Visitor Parking','Date',\"MortgageRate\",'Sale to List %','Days on Market','Sold Price','List Price']"
   ]
  },
  {
   "cell_type": "code",
   "execution_count": 16,
   "metadata": {},
   "outputs": [],
   "source": [
    "# Filter according to \"Property Type\", then their attributes.\n",
    "Apt_dataset=dataset[dataset[\"Property Type\"].isin(Apt_Type)]\n",
    "Apt_dataset=Apt_dataset[Apt_Attributes]"
   ]
  },
  {
   "cell_type": "code",
   "execution_count": 17,
   "metadata": {},
   "outputs": [
    {
     "data": {
      "text/html": [
       "<div>\n",
       "<style scoped>\n",
       "    .dataframe tbody tr th:only-of-type {\n",
       "        vertical-align: middle;\n",
       "    }\n",
       "\n",
       "    .dataframe tbody tr th {\n",
       "        vertical-align: top;\n",
       "    }\n",
       "\n",
       "    .dataframe thead th {\n",
       "        text-align: right;\n",
       "    }\n",
       "</style>\n",
       "<table border=\"1\" class=\"dataframe\">\n",
       "  <thead>\n",
       "    <tr style=\"text-align: right;\">\n",
       "      <th></th>\n",
       "      <th>Property Type</th>\n",
       "      <th>Building Style</th>\n",
       "      <th>Bedrooms AG</th>\n",
       "      <th>Bedrooms BG</th>\n",
       "      <th>Washrooms</th>\n",
       "      <th>Family Room</th>\n",
       "      <th>Exposure</th>\n",
       "      <th>Square Feet</th>\n",
       "      <th>Parking Type</th>\n",
       "      <th>Taxes</th>\n",
       "      <th>...</th>\n",
       "      <th>Security System</th>\n",
       "      <th>Squash/Racquet Court</th>\n",
       "      <th>Tennis Court</th>\n",
       "      <th>Visitor Parking</th>\n",
       "      <th>Date</th>\n",
       "      <th>MortgageRate</th>\n",
       "      <th>Sale to List %</th>\n",
       "      <th>Days on Market</th>\n",
       "      <th>Sold Price</th>\n",
       "      <th>List Price</th>\n",
       "    </tr>\n",
       "  </thead>\n",
       "  <tbody>\n",
       "    <tr>\n",
       "      <th>22387</th>\n",
       "      <td>Condo Townhouse</td>\n",
       "      <td>2-Storey</td>\n",
       "      <td>3.0</td>\n",
       "      <td>1.0</td>\n",
       "      <td>2</td>\n",
       "      <td>0</td>\n",
       "      <td>N</td>\n",
       "      <td>NaN</td>\n",
       "      <td>Attached</td>\n",
       "      <td>2178.47</td>\n",
       "      <td>...</td>\n",
       "      <td>0</td>\n",
       "      <td>0</td>\n",
       "      <td>0</td>\n",
       "      <td>1</td>\n",
       "      <td>22</td>\n",
       "      <td>3.24</td>\n",
       "      <td>100.0</td>\n",
       "      <td>25</td>\n",
       "      <td>550000</td>\n",
       "      <td>548000</td>\n",
       "    </tr>\n",
       "    <tr>\n",
       "      <th>34370</th>\n",
       "      <td>Condo Apt</td>\n",
       "      <td>Other</td>\n",
       "      <td>1.0</td>\n",
       "      <td>1.0</td>\n",
       "      <td>1</td>\n",
       "      <td>0</td>\n",
       "      <td>NaN</td>\n",
       "      <td>800-899</td>\n",
       "      <td>Other</td>\n",
       "      <td>2002.00</td>\n",
       "      <td>...</td>\n",
       "      <td>0</td>\n",
       "      <td>0</td>\n",
       "      <td>0</td>\n",
       "      <td>0</td>\n",
       "      <td>11</td>\n",
       "      <td>3.14</td>\n",
       "      <td>99.0</td>\n",
       "      <td>19</td>\n",
       "      <td>345000</td>\n",
       "      <td>349900</td>\n",
       "    </tr>\n",
       "    <tr>\n",
       "      <th>38031</th>\n",
       "      <td>Condo Apt</td>\n",
       "      <td>Other</td>\n",
       "      <td>1.0</td>\n",
       "      <td>1.0</td>\n",
       "      <td>1</td>\n",
       "      <td>0</td>\n",
       "      <td>NaN</td>\n",
       "      <td>600-699</td>\n",
       "      <td>Other</td>\n",
       "      <td>1575.00</td>\n",
       "      <td>...</td>\n",
       "      <td>0</td>\n",
       "      <td>0</td>\n",
       "      <td>0</td>\n",
       "      <td>0</td>\n",
       "      <td>7</td>\n",
       "      <td>3.14</td>\n",
       "      <td>99.0</td>\n",
       "      <td>212</td>\n",
       "      <td>266000</td>\n",
       "      <td>270000</td>\n",
       "    </tr>\n",
       "    <tr>\n",
       "      <th>38515</th>\n",
       "      <td>Condo Apt</td>\n",
       "      <td>Other</td>\n",
       "      <td>1.0</td>\n",
       "      <td>1.0</td>\n",
       "      <td>1</td>\n",
       "      <td>1</td>\n",
       "      <td>NaN</td>\n",
       "      <td>900-999</td>\n",
       "      <td>NaN</td>\n",
       "      <td>1164.00</td>\n",
       "      <td>...</td>\n",
       "      <td>0</td>\n",
       "      <td>0</td>\n",
       "      <td>0</td>\n",
       "      <td>0</td>\n",
       "      <td>4</td>\n",
       "      <td>3.14</td>\n",
       "      <td>100.0</td>\n",
       "      <td>10</td>\n",
       "      <td>250000</td>\n",
       "      <td>249900</td>\n",
       "    </tr>\n",
       "  </tbody>\n",
       "</table>\n",
       "<p>4 rows × 56 columns</p>\n",
       "</div>"
      ],
      "text/plain": [
       "         Property Type Building Style  Bedrooms AG  Bedrooms BG  Washrooms  \\\n",
       "22387  Condo Townhouse       2-Storey          3.0          1.0          2   \n",
       "34370        Condo Apt          Other          1.0          1.0          1   \n",
       "38031        Condo Apt          Other          1.0          1.0          1   \n",
       "38515        Condo Apt          Other          1.0          1.0          1   \n",
       "\n",
       "       Family Room Exposure Square Feet Parking Type    Taxes  ...  \\\n",
       "22387            0        N         NaN     Attached  2178.47  ...   \n",
       "34370            0      NaN     800-899        Other  2002.00  ...   \n",
       "38031            0      NaN     600-699        Other  1575.00  ...   \n",
       "38515            1      NaN     900-999          NaN  1164.00  ...   \n",
       "\n",
       "       Security System Squash/Racquet Court Tennis Court  Visitor Parking  \\\n",
       "22387                0                    0            0                1   \n",
       "34370                0                    0            0                0   \n",
       "38031                0                    0            0                0   \n",
       "38515                0                    0            0                0   \n",
       "\n",
       "       Date  MortgageRate  Sale to List %  Days on Market  Sold Price  \\\n",
       "22387    22          3.24           100.0              25      550000   \n",
       "34370    11          3.14            99.0              19      345000   \n",
       "38031     7          3.14            99.0             212      266000   \n",
       "38515     4          3.14           100.0              10      250000   \n",
       "\n",
       "       List Price  \n",
       "22387      548000  \n",
       "34370      349900  \n",
       "38031      270000  \n",
       "38515      249900  \n",
       "\n",
       "[4 rows x 56 columns]"
      ]
     },
     "execution_count": 17,
     "metadata": {},
     "output_type": "execute_result"
    }
   ],
   "source": [
    "is_NaN = Apt_dataset.isnull()\n",
    "row_has_NaN = is_NaN.any(axis=1)\n",
    "rows_with_NaN = Apt_dataset[row_has_NaN]\n",
    "rows_with_NaN"
   ]
  },
  {
   "cell_type": "code",
   "execution_count": 18,
   "metadata": {},
   "outputs": [],
   "source": [
    "# drop collom contine miss value"
   ]
  },
  {
   "cell_type": "code",
   "execution_count": 19,
   "metadata": {},
   "outputs": [],
   "source": [
    "Apt_dataset=Apt_dataset.dropna() "
   ]
  },
  {
   "cell_type": "markdown",
   "metadata": {},
   "source": [
    "## Apt Dataset"
   ]
  },
  {
   "cell_type": "code",
   "execution_count": 20,
   "metadata": {},
   "outputs": [
    {
     "name": "stdout",
     "output_type": "stream",
     "text": [
      "Index(['Property Type', 'Building Style', 'Bedrooms AG', 'Bedrooms BG',\n",
      "       'Washrooms', 'Family Room', 'Exposure', 'Square Feet', 'Parking Type',\n",
      "       'Taxes', 'Maint. Fees', 'AC Type', 'Heat Type',\n",
      "       'Common Elements Included', 'Taxes Included', 'Heat included',\n",
      "       'Water Included', 'Hydro Included', 'Parking Included',\n",
      "       'Ensuite Laundry', 'Locker', 'Balcony', 'Pets Permitted', 'Heat Source',\n",
      "       'Total Rooms', 'Ward', 'green_new', 'Bbqs Allowed', 'Bike Storage',\n",
      "       'Bus Ctr (Wifi Bldg)', 'Car Wash', 'Concierge', 'Exercise Room',\n",
      "       'Games Room', 'Guest Suites', 'Gym', 'Indoor Pool', 'Lap Pool',\n",
      "       'Media Room', 'Outdoor Pool', 'Party/Meeting Room', 'Recreation Room',\n",
      "       'Rooftop Deck/Garden', 'Satellite Dish', 'Sauna', 'Security Guard',\n",
      "       'Security System', 'Squash/Racquet Court', 'Tennis Court',\n",
      "       'Visitor Parking', 'Date', 'MortgageRate', 'Sale to List %',\n",
      "       'Days on Market', 'Sold Price', 'List Price'],\n",
      "      dtype='object')\n"
     ]
    }
   ],
   "source": [
    "print(Apt_dataset.columns)"
   ]
  },
  {
   "cell_type": "code",
   "execution_count": 21,
   "metadata": {},
   "outputs": [
    {
     "data": {
      "text/plain": [
       "Condo Apt             20285\n",
       "Condo Townhouse        2597\n",
       "Comm Element Condo      513\n",
       "Co-Op Apt                97\n",
       "Co-Ownership Apt         58\n",
       "Leasehold Condo           9\n",
       "Det Condo                 8\n",
       "Semi-Det Condo            4\n",
       "Name: Property Type, dtype: int64"
      ]
     },
     "execution_count": 21,
     "metadata": {},
     "output_type": "execute_result"
    }
   ],
   "source": [
    "Apt_dataset['Property Type'].value_counts()"
   ]
  },
  {
   "cell_type": "code",
   "execution_count": 22,
   "metadata": {},
   "outputs": [
    {
     "data": {
      "text/plain": [
       "Condo Apt          20285\n",
       "Condo Townhouse     2597\n",
       "Other Property       689\n",
       "Name: Property Type, dtype: int64"
      ]
     },
     "execution_count": 22,
     "metadata": {},
     "output_type": "execute_result"
    }
   ],
   "source": [
    "Apt_dataset['Property Type']=Apt_dataset['Property Type'].replace(\"Comm Element Condo\",\"Other Property\")\n",
    "Apt_dataset['Property Type']=Apt_dataset['Property Type'].replace(\"Co-Op Apt\",\"Other Property\")\n",
    "Apt_dataset['Property Type']=Apt_dataset['Property Type'].replace(\"Co-Ownership Apt\",\"Other Property\")\n",
    "Apt_dataset['Property Type']=Apt_dataset['Property Type'].replace(\"Leasehold Condo\",\"Other Property\")\n",
    "Apt_dataset['Property Type']=Apt_dataset['Property Type'].replace(\"Det Condo\",\"Other Property\")\n",
    "Apt_dataset['Property Type']=Apt_dataset['Property Type'].replace(\"Semi-Det Condo\",\"Other Property\")\n",
    "Apt_dataset['Property Type'].value_counts()"
   ]
  },
  {
   "cell_type": "code",
   "execution_count": 23,
   "metadata": {},
   "outputs": [],
   "source": [
    "Apt_dataset['Condo Apt']=(Apt_dataset['Property Type']=='Condo Apt').astype(int)\n",
    "Apt_dataset['Condo Townhouse']=(Apt_dataset['Property Type']=='Condo Townhouse').astype(int)\n",
    "Apt_dataset['Other Property']=(Apt_dataset['Property Type']=='Other Property').astype(int)\n",
    "Apt_dataset=Apt_dataset.drop('Property Type',axis=1)"
   ]
  },
  {
   "cell_type": "code",
   "execution_count": 24,
   "metadata": {},
   "outputs": [
    {
     "data": {
      "text/plain": [
       "1    20285\n",
       "0     3286\n",
       "Name: Condo Apt, dtype: int64"
      ]
     },
     "execution_count": 24,
     "metadata": {},
     "output_type": "execute_result"
    }
   ],
   "source": [
    "Apt_dataset['Condo Apt'].value_counts()"
   ]
  },
  {
   "cell_type": "code",
   "execution_count": 25,
   "metadata": {},
   "outputs": [
    {
     "data": {
      "text/plain": [
       "Apartment          19114\n",
       "2-Storey            1343\n",
       "Loft                 938\n",
       "3-Storey             780\n",
       "Stacked Townhse      673\n",
       "Multi-Level          533\n",
       "Bachelor/Studio       97\n",
       "Other                 66\n",
       "Bungalow              26\n",
       "Bungaloft              1\n",
       "Name: Building Style, dtype: int64"
      ]
     },
     "execution_count": 25,
     "metadata": {},
     "output_type": "execute_result"
    }
   ],
   "source": [
    "Apt_dataset['Building Style'].value_counts()"
   ]
  },
  {
   "cell_type": "code",
   "execution_count": 26,
   "metadata": {},
   "outputs": [
    {
     "data": {
      "text/plain": [
       "Apartment      19114\n",
       "Multi-Level     2656\n",
       "Other Style     1801\n",
       "Name: Building Style, dtype: int64"
      ]
     },
     "execution_count": 26,
     "metadata": {},
     "output_type": "execute_result"
    }
   ],
   "source": [
    "Apt_dataset['Building Style']=Apt_dataset['Building Style'].replace(\"Bungaloft\",\"Other Style\")\n",
    "Apt_dataset['Building Style']=Apt_dataset['Building Style'].replace(\"Bungalow\",\"Other Style\")\n",
    "Apt_dataset['Building Style']=Apt_dataset['Building Style'].replace(\"Other\",\"Other Style\")\n",
    "Apt_dataset['Building Style']=Apt_dataset['Building Style'].replace(\"Bachelor/Studio\",\"Other Style\")\n",
    "Apt_dataset['Building Style']=Apt_dataset['Building Style'].replace(\"Loft\",\"Other Style\")\n",
    "Apt_dataset['Building Style']=Apt_dataset['Building Style'].replace(\"Stacked Townhse\",\"Other Style\")\n",
    "Apt_dataset['Building Style']=Apt_dataset['Building Style'].replace(\"2-Storey\",\"Multi-Level\")\n",
    "Apt_dataset['Building Style']=Apt_dataset['Building Style'].replace(\"3-Storey\",\"Multi-Level\")\n",
    "Apt_dataset['Building Style'].value_counts()"
   ]
  },
  {
   "cell_type": "code",
   "execution_count": 27,
   "metadata": {},
   "outputs": [],
   "source": [
    "Apt_dataset['Apartment']=(Apt_dataset['Building Style']=='Apartment').astype(int)\n",
    "Apt_dataset['Multi-Level']=(Apt_dataset['Building Style']=='Multi-Level').astype(int)\n",
    "Apt_dataset['Other Style']=(Apt_dataset['Building Style']=='Other Style').astype(int)\n",
    "Apt_dataset=Apt_dataset.drop('Building Style',axis=1)"
   ]
  },
  {
   "cell_type": "code",
   "execution_count": 28,
   "metadata": {},
   "outputs": [],
   "source": [
    "#Apt_dataset[['Apartment','Multi-Level','Other Style']]"
   ]
  },
  {
   "cell_type": "code",
   "execution_count": 29,
   "metadata": {},
   "outputs": [
    {
     "data": {
      "text/plain": [
       "1.0    10357\n",
       "2.0     9937\n",
       "3.0     2595\n",
       "0.0      420\n",
       "4.0      250\n",
       "5.0       11\n",
       "6.0        1\n",
       "Name: Bedrooms AG, dtype: int64"
      ]
     },
     "execution_count": 29,
     "metadata": {},
     "output_type": "execute_result"
    }
   ],
   "source": [
    "Apt_dataset['Bedrooms AG'].value_counts()"
   ]
  },
  {
   "cell_type": "code",
   "execution_count": 30,
   "metadata": {},
   "outputs": [
    {
     "data": {
      "text/plain": [
       "1.0    10357\n",
       "2.0     9937\n",
       "3.0     2595\n",
       "4.0      250\n",
       "Name: Bedrooms AG, dtype: int64"
      ]
     },
     "execution_count": 30,
     "metadata": {},
     "output_type": "execute_result"
    }
   ],
   "source": [
    "Apt_dataset=Apt_dataset[Apt_dataset['Bedrooms AG']<5]\n",
    "Apt_dataset=Apt_dataset[Apt_dataset['Bedrooms AG']>0]\n",
    "Apt_dataset['Bedrooms AG'].value_counts()"
   ]
  },
  {
   "cell_type": "code",
   "execution_count": 31,
   "metadata": {},
   "outputs": [
    {
     "data": {
      "text/plain": [
       "0.0    13780\n",
       "1.0     9215\n",
       "2.0      138\n",
       "3.0        5\n",
       "4.0        1\n",
       "Name: Bedrooms BG, dtype: int64"
      ]
     },
     "execution_count": 31,
     "metadata": {},
     "output_type": "execute_result"
    }
   ],
   "source": [
    "Apt_dataset['Bedrooms BG'].value_counts()"
   ]
  },
  {
   "cell_type": "code",
   "execution_count": 32,
   "metadata": {},
   "outputs": [
    {
     "data": {
      "text/plain": [
       "2.0    49\n",
       "3.0    44\n",
       "1.0    36\n",
       "4.0    15\n",
       "Name: Bedrooms AG, dtype: int64"
      ]
     },
     "execution_count": 32,
     "metadata": {},
     "output_type": "execute_result"
    }
   ],
   "source": [
    "Apt_dataset[Apt_dataset['Bedrooms BG']>1]['Bedrooms AG'].value_counts()"
   ]
  },
  {
   "cell_type": "code",
   "execution_count": 33,
   "metadata": {},
   "outputs": [
    {
     "data": {
      "text/plain": [
       "0.0    13780\n",
       "1.0     9215\n",
       "Name: Bedrooms BG, dtype: int64"
      ]
     },
     "execution_count": 33,
     "metadata": {},
     "output_type": "execute_result"
    }
   ],
   "source": [
    "Apt_dataset=Apt_dataset[Apt_dataset['Bedrooms BG']<2]\n",
    "Apt_dataset['Bedrooms BG'].value_counts()"
   ]
  },
  {
   "cell_type": "code",
   "execution_count": 34,
   "metadata": {},
   "outputs": [
    {
     "data": {
      "text/plain": [
       "1     10769\n",
       "2     10616\n",
       "3      1439\n",
       "4       158\n",
       "5        11\n",
       "10        1\n",
       "9         1\n",
       "Name: Washrooms, dtype: int64"
      ]
     },
     "execution_count": 34,
     "metadata": {},
     "output_type": "execute_result"
    }
   ],
   "source": [
    "Apt_dataset['Washrooms'].value_counts()"
   ]
  },
  {
   "cell_type": "code",
   "execution_count": 35,
   "metadata": {},
   "outputs": [
    {
     "data": {
      "text/plain": [
       "4.0    7\n",
       "3.0    5\n",
       "2.0    1\n",
       "Name: Bedrooms AG, dtype: int64"
      ]
     },
     "execution_count": 35,
     "metadata": {},
     "output_type": "execute_result"
    }
   ],
   "source": [
    "Apt_dataset[Apt_dataset['Washrooms']>4]['Bedrooms AG'].value_counts()"
   ]
  },
  {
   "cell_type": "code",
   "execution_count": 36,
   "metadata": {},
   "outputs": [
    {
     "data": {
      "text/plain": [
       "1    10769\n",
       "2    10616\n",
       "3     1439\n",
       "4      158\n",
       "Name: Washrooms, dtype: int64"
      ]
     },
     "execution_count": 36,
     "metadata": {},
     "output_type": "execute_result"
    }
   ],
   "source": [
    "Apt_dataset=Apt_dataset[Apt_dataset['Washrooms']<5]\n",
    "Apt_dataset=Apt_dataset[Apt_dataset['Washrooms']>0]\n",
    "Apt_dataset['Washrooms'].value_counts()"
   ]
  },
  {
   "cell_type": "code",
   "execution_count": 37,
   "metadata": {},
   "outputs": [
    {
     "data": {
      "text/plain": [
       "S     3727\n",
       "E     3617\n",
       "W     3499\n",
       "N     3207\n",
       "Sw    2568\n",
       "Se    2369\n",
       "Ne    1802\n",
       "Nw    1793\n",
       "Ns     210\n",
       "Ew     190\n",
       "Name: Exposure, dtype: int64"
      ]
     },
     "execution_count": 37,
     "metadata": {},
     "output_type": "execute_result"
    }
   ],
   "source": [
    "Apt_dataset['Exposure'].value_counts()"
   ]
  },
  {
   "cell_type": "code",
   "execution_count": 38,
   "metadata": {},
   "outputs": [],
   "source": [
    "#valid_Exposure=[\"S\",\"E\",\"W\",\"N\",\"SW\",\"Se\",\"Ne\",\"Nw\"]\n",
    "#Apt_dataset=Apt_dataset[Apt_dataset['Exposure'].isin(valid_Exposure)]\n",
    "#Apt_dataset['Exposure'].value_counts()"
   ]
  },
  {
   "cell_type": "code",
   "execution_count": 39,
   "metadata": {},
   "outputs": [],
   "source": [
    "Apt_dataset=Apt_dataset.drop('Exposure',axis=1)"
   ]
  },
  {
   "cell_type": "code",
   "execution_count": 40,
   "metadata": {},
   "outputs": [
    {
     "data": {
      "text/plain": [
       "600-699      4347\n",
       "700-799      3110\n",
       "1000-1199    3010\n",
       "800-899      2792\n",
       "500-599      2715\n",
       "900-999      2277\n",
       "1200-1399    2097\n",
       "1400-1599     970\n",
       "0-499         542\n",
       "1600-1799     489\n",
       "1800-1999     290\n",
       "2000-2249     123\n",
       "2250-2499      87\n",
       "2750-2999      31\n",
       "2500-2749      31\n",
       "3250-3499      18\n",
       "3000-3249      10\n",
       "3500-3749       7\n",
       "700-899         6\n",
       "4000-4249       5\n",
       "500-699         5\n",
       "1100-1500       5\n",
       "900-1099        4\n",
       "1100-1299       3\n",
       "700-1100        2\n",
       "1500-2000       2\n",
       "5000+           2\n",
       "4250-4499       1\n",
       "3500-5000       1\n",
       "Name: Square Feet, dtype: int64"
      ]
     },
     "execution_count": 40,
     "metadata": {},
     "output_type": "execute_result"
    }
   ],
   "source": [
    "Apt_dataset['Square Feet'].value_counts()"
   ]
  },
  {
   "cell_type": "code",
   "execution_count": 41,
   "metadata": {},
   "outputs": [
    {
     "data": {
      "text/plain": [
       "0-499         542\n",
       "500-599      2715\n",
       "600-699      4347\n",
       "700-799      3110\n",
       "800-899      2792\n",
       "900-999      2277\n",
       "1000-1199    3010\n",
       "1200-1399    2097\n",
       "1400-1599     970\n",
       "1600-1799     489\n",
       "1800-1999     290\n",
       "2000-2249     123\n",
       "2250-2499      87\n",
       "2500-2749      31\n",
       "2750-2999      31\n",
       "3000-3249      10\n",
       "3250-3499      18\n",
       "Name: Square Feet, dtype: int64"
      ]
     },
     "execution_count": 41,
     "metadata": {},
     "output_type": "execute_result"
    }
   ],
   "source": [
    "valid_size=['0-499','500-599','600-699','700-799','800-899','900-999','1000-1199','1200-1399','1400-1599','1600-1799','1800-1999',\n",
    "'2000-2249','2250-2499','2500-2749','2750-2999','3000-3249','3250-3499']\n",
    "Apt_dataset=Apt_dataset[Apt_dataset['Square Feet'].isin(valid_size)]\n",
    "Apt_dataset['Square Feet'].value_counts()[valid_size]"
   ]
  },
  {
   "cell_type": "code",
   "execution_count": 42,
   "metadata": {},
   "outputs": [],
   "source": [
    "Apt_dataset['Square Feet']=Apt_dataset['Square Feet'].replace('0-499',500)\n",
    "Apt_dataset['Square Feet']=Apt_dataset['Square Feet'].replace('500-599',550)\n",
    "Apt_dataset['Square Feet']=Apt_dataset['Square Feet'].replace('600-699',650)\n",
    "Apt_dataset['Square Feet']=Apt_dataset['Square Feet'].replace('700-799',750)\n",
    "Apt_dataset['Square Feet']=Apt_dataset['Square Feet'].replace('800-899',850)\n",
    "Apt_dataset['Square Feet']=Apt_dataset['Square Feet'].replace('900-999',950)\n",
    "Apt_dataset['Square Feet']=Apt_dataset['Square Feet'].replace('1000-1199',1150)\n",
    "Apt_dataset['Square Feet']=Apt_dataset['Square Feet'].replace('1200-1399',1300)\n",
    "Apt_dataset['Square Feet']=Apt_dataset['Square Feet'].replace('1400-1599',1500)\n",
    "Apt_dataset['Square Feet']=Apt_dataset['Square Feet'].replace('1600-1799',1700)\n",
    "Apt_dataset['Square Feet']=Apt_dataset['Square Feet'].replace('1800-1999',1900)\n",
    "Apt_dataset['Square Feet']=Apt_dataset['Square Feet'].replace('2000-2249',2125)\n",
    "Apt_dataset['Square Feet']=Apt_dataset['Square Feet'].replace('2250-2499',2375)\n",
    "Apt_dataset['Square Feet']=Apt_dataset['Square Feet'].replace('2500-2749',2625)\n",
    "Apt_dataset['Square Feet']=Apt_dataset['Square Feet'].replace('2750-2999',2875)\n",
    "Apt_dataset['Square Feet']=Apt_dataset['Square Feet'].replace('3000-3249',3125)\n",
    "Apt_dataset['Square Feet']=Apt_dataset['Square Feet'].replace('3250-3499',3375)"
   ]
  },
  {
   "cell_type": "code",
   "execution_count": 43,
   "metadata": {},
   "outputs": [
    {
     "data": {
      "text/plain": [
       "500      542\n",
       "550     2715\n",
       "650     4347\n",
       "750     3110\n",
       "850     2792\n",
       "950     2277\n",
       "1150    3010\n",
       "1300    2097\n",
       "1500     970\n",
       "1700     489\n",
       "1900     290\n",
       "2125     123\n",
       "2375      87\n",
       "2625      31\n",
       "2875      31\n",
       "3125      10\n",
       "3375      18\n",
       "Name: Square Feet, dtype: int64"
      ]
     },
     "execution_count": 43,
     "metadata": {},
     "output_type": "execute_result"
    }
   ],
   "source": [
    "Apt_dataset['Square Feet'].value_counts().sort_index()"
   ]
  },
  {
   "cell_type": "code",
   "execution_count": 44,
   "metadata": {},
   "outputs": [
    {
     "data": {
      "text/plain": [
       "Undergrnd    19966\n",
       "None          1554\n",
       "Built-In       557\n",
       "Attached       353\n",
       "Surface        286\n",
       "Other          145\n",
       "Detached        45\n",
       "Carport         33\n",
       "Name: Parking Type, dtype: int64"
      ]
     },
     "execution_count": 44,
     "metadata": {},
     "output_type": "execute_result"
    }
   ],
   "source": [
    "Apt_dataset['Parking Type'].value_counts()"
   ]
  },
  {
   "cell_type": "code",
   "execution_count": 45,
   "metadata": {},
   "outputs": [
    {
     "data": {
      "text/plain": [
       "Undergrnd        19966\n",
       "None              1554\n",
       "Other Parking     1419\n",
       "Name: Parking Type, dtype: int64"
      ]
     },
     "execution_count": 45,
     "metadata": {},
     "output_type": "execute_result"
    }
   ],
   "source": [
    "Apt_dataset['Parking Type']=Apt_dataset['Parking Type'].replace(\"Detached\",\"Other Parking\")\n",
    "Apt_dataset['Parking Type']=Apt_dataset['Parking Type'].replace(\"Surface\",\"Other Parking\")\n",
    "Apt_dataset['Parking Type']=Apt_dataset['Parking Type'].replace(\"Carport\",\"Other Parking\")\n",
    "Apt_dataset['Parking Type']=Apt_dataset['Parking Type'].replace('Built-In',\"Other Parking\")\n",
    "Apt_dataset['Parking Type']=Apt_dataset['Parking Type'].replace(\"Other\",\"Other Parking\")\n",
    "Apt_dataset['Parking Type']=Apt_dataset['Parking Type'].replace(\"Attached\",\"Other Parking\")\n",
    "Apt_dataset['Parking Type'].value_counts()"
   ]
  },
  {
   "cell_type": "code",
   "execution_count": 46,
   "metadata": {},
   "outputs": [],
   "source": [
    "Apt_dataset['Undergrnd Parking']=(Apt_dataset['Parking Type']=='Undergrnd').astype(int)\n",
    "#Apt_dataset['None']=(Apt_dataset['Parking Type']=='None').astype(int)\n",
    "# 'None' -> [0,0]\n",
    "Apt_dataset['Other Parking']=(Apt_dataset['Parking Type']=='Other Parking').astype(int)\n",
    "Apt_dataset=Apt_dataset.drop('Parking Type',axis=1)"
   ]
  },
  {
   "cell_type": "code",
   "execution_count": 47,
   "metadata": {},
   "outputs": [
    {
     "data": {
      "text/plain": [
       "count     22939.000000\n",
       "mean       2284.966054\n",
       "std        2181.914194\n",
       "min           0.000000\n",
       "25%        1616.740000\n",
       "50%        2187.750000\n",
       "75%        2778.920000\n",
       "max      239414.000000\n",
       "Name: Taxes, dtype: float64"
      ]
     },
     "execution_count": 47,
     "metadata": {},
     "output_type": "execute_result"
    }
   ],
   "source": [
    "Apt_dataset['Taxes'].describe()"
   ]
  },
  {
   "cell_type": "code",
   "execution_count": 48,
   "metadata": {},
   "outputs": [
    {
     "data": {
      "text/html": [
       "<div>\n",
       "<style scoped>\n",
       "    .dataframe tbody tr th:only-of-type {\n",
       "        vertical-align: middle;\n",
       "    }\n",
       "\n",
       "    .dataframe tbody tr th {\n",
       "        vertical-align: top;\n",
       "    }\n",
       "\n",
       "    .dataframe thead th {\n",
       "        text-align: right;\n",
       "    }\n",
       "</style>\n",
       "<table border=\"1\" class=\"dataframe\">\n",
       "  <thead>\n",
       "    <tr style=\"text-align: right;\">\n",
       "      <th></th>\n",
       "      <th>Taxes</th>\n",
       "      <th>Sold Price</th>\n",
       "    </tr>\n",
       "  </thead>\n",
       "  <tbody>\n",
       "    <tr>\n",
       "      <th>Taxes</th>\n",
       "      <td>1.000000</td>\n",
       "      <td>0.570761</td>\n",
       "    </tr>\n",
       "    <tr>\n",
       "      <th>Sold Price</th>\n",
       "      <td>0.570761</td>\n",
       "      <td>1.000000</td>\n",
       "    </tr>\n",
       "  </tbody>\n",
       "</table>\n",
       "</div>"
      ],
      "text/plain": [
       "               Taxes  Sold Price\n",
       "Taxes       1.000000    0.570761\n",
       "Sold Price  0.570761    1.000000"
      ]
     },
     "execution_count": 48,
     "metadata": {},
     "output_type": "execute_result"
    }
   ],
   "source": [
    "Apt_dataset[Apt_dataset['Taxes']!=0][['Taxes','Sold Price']].corr(method ='pearson')"
   ]
  },
  {
   "cell_type": "code",
   "execution_count": 49,
   "metadata": {},
   "outputs": [
    {
     "data": {
      "text/plain": [
       "array([[<AxesSubplot:title={'center':'Maint. Fees'}>]], dtype=object)"
      ]
     },
     "execution_count": 49,
     "metadata": {},
     "output_type": "execute_result"
    },
    {
     "data": {
      "image/png": "[encoded data removed]",
      "text/plain": [
       "<Figure size 432x288 with 1 Axes>"
      ]
     },
     "metadata": {},
     "output_type": "display_data"
    }
   ],
   "source": [
    "Apt_dataset[Apt_dataset['Taxes Included']==1].hist('Maint. Fees',bins=100)"
   ]
  },
  {
   "cell_type": "code",
   "execution_count": 50,
   "metadata": {},
   "outputs": [],
   "source": [
    "Apt_dataset=Apt_dataset.drop('Taxes Included',axis=1)"
   ]
  },
  {
   "cell_type": "code",
   "execution_count": 51,
   "metadata": {},
   "outputs": [
    {
     "data": {
      "text/plain": [
       "array([[<AxesSubplot:title={'center':'Taxes'}>]], dtype=object)"
      ]
     },
     "execution_count": 51,
     "metadata": {},
     "output_type": "execute_result"
    },
    {
     "data": {
      "image/png": "[encoded data removed]",
      "text/plain": [
       "<Figure size 432x288 with 1 Axes>"
      ]
     },
     "metadata": {},
     "output_type": "display_data"
    }
   ],
   "source": [
    "Apt_dataset[Apt_dataset['Taxes']<15000].hist('Taxes',bins=100)"
   ]
  },
  {
   "cell_type": "code",
   "execution_count": 52,
   "metadata": {},
   "outputs": [],
   "source": [
    "Apt_dataset=Apt_dataset[Apt_dataset['Taxes']>100]\n",
    "Apt_dataset=Apt_dataset[Apt_dataset['Taxes']<10000]"
   ]
  },
  {
   "cell_type": "code",
   "execution_count": null,
   "metadata": {},
   "outputs": [],
   "source": []
  },
  {
   "cell_type": "code",
   "execution_count": 53,
   "metadata": {},
   "outputs": [
    {
     "data": {
      "text/html": [
       "<div>\n",
       "<style scoped>\n",
       "    .dataframe tbody tr th:only-of-type {\n",
       "        vertical-align: middle;\n",
       "    }\n",
       "\n",
       "    .dataframe tbody tr th {\n",
       "        vertical-align: top;\n",
       "    }\n",
       "\n",
       "    .dataframe thead th {\n",
       "        text-align: right;\n",
       "    }\n",
       "</style>\n",
       "<table border=\"1\" class=\"dataframe\">\n",
       "  <thead>\n",
       "    <tr style=\"text-align: right;\">\n",
       "      <th></th>\n",
       "      <th>Taxes</th>\n",
       "      <th>Sold Price</th>\n",
       "    </tr>\n",
       "  </thead>\n",
       "  <tbody>\n",
       "    <tr>\n",
       "      <th>Taxes</th>\n",
       "      <td>1.000000</td>\n",
       "      <td>0.877257</td>\n",
       "    </tr>\n",
       "    <tr>\n",
       "      <th>Sold Price</th>\n",
       "      <td>0.877257</td>\n",
       "      <td>1.000000</td>\n",
       "    </tr>\n",
       "  </tbody>\n",
       "</table>\n",
       "</div>"
      ],
      "text/plain": [
       "               Taxes  Sold Price\n",
       "Taxes       1.000000    0.877257\n",
       "Sold Price  0.877257    1.000000"
      ]
     },
     "execution_count": 53,
     "metadata": {},
     "output_type": "execute_result"
    }
   ],
   "source": [
    "Apt_dataset[['Taxes','Sold Price']].corr(method ='pearson')"
   ]
  },
  {
   "cell_type": "code",
   "execution_count": 54,
   "metadata": {},
   "outputs": [
    {
     "data": {
      "text/plain": [
       "count    20810.000000\n",
       "mean      2438.114481\n",
       "std       1083.597162\n",
       "min        130.000000\n",
       "25%       1800.000000\n",
       "50%       2264.995000\n",
       "75%       2840.057500\n",
       "max       9968.730000\n",
       "Name: Taxes, dtype: float64"
      ]
     },
     "execution_count": 54,
     "metadata": {},
     "output_type": "execute_result"
    }
   ],
   "source": [
    "Apt_dataset['Taxes'].describe()"
   ]
  },
  {
   "cell_type": "code",
   "execution_count": null,
   "metadata": {},
   "outputs": [],
   "source": []
  },
  {
   "cell_type": "code",
   "execution_count": 55,
   "metadata": {},
   "outputs": [
    {
     "data": {
      "text/plain": [
       "array([[<AxesSubplot:title={'center':'Taxes'}>]], dtype=object)"
      ]
     },
     "execution_count": 55,
     "metadata": {},
     "output_type": "execute_result"
    },
    {
     "data": {
      "image/png": "[encoded data removed]",
      "text/plain": [
       "<Figure size 432x288 with 1 Axes>"
      ]
     },
     "metadata": {},
     "output_type": "display_data"
    }
   ],
   "source": [
    "Apt_dataset.hist('Taxes',bins=100)"
   ]
  },
  {
   "cell_type": "code",
   "execution_count": 56,
   "metadata": {},
   "outputs": [
    {
     "data": {
      "text/plain": [
       "count    20810.000000\n",
       "mean       564.542864\n",
       "std        241.767761\n",
       "min          0.000000\n",
       "25%        411.000000\n",
       "50%        516.000000\n",
       "75%        661.000000\n",
       "max       4800.000000\n",
       "Name: Maint. Fees, dtype: float64"
      ]
     },
     "execution_count": 56,
     "metadata": {},
     "output_type": "execute_result"
    }
   ],
   "source": [
    "Apt_dataset['Maint. Fees'].describe()"
   ]
  },
  {
   "cell_type": "code",
   "execution_count": 57,
   "metadata": {},
   "outputs": [
    {
     "data": {
      "text/html": [
       "<div>\n",
       "<style scoped>\n",
       "    .dataframe tbody tr th:only-of-type {\n",
       "        vertical-align: middle;\n",
       "    }\n",
       "\n",
       "    .dataframe tbody tr th {\n",
       "        vertical-align: top;\n",
       "    }\n",
       "\n",
       "    .dataframe thead th {\n",
       "        text-align: right;\n",
       "    }\n",
       "</style>\n",
       "<table border=\"1\" class=\"dataframe\">\n",
       "  <thead>\n",
       "    <tr style=\"text-align: right;\">\n",
       "      <th></th>\n",
       "      <th>Maint. Fees</th>\n",
       "      <th>Sold Price</th>\n",
       "    </tr>\n",
       "  </thead>\n",
       "  <tbody>\n",
       "    <tr>\n",
       "      <th>Maint. Fees</th>\n",
       "      <td>1.000000</td>\n",
       "      <td>0.508387</td>\n",
       "    </tr>\n",
       "    <tr>\n",
       "      <th>Sold Price</th>\n",
       "      <td>0.508387</td>\n",
       "      <td>1.000000</td>\n",
       "    </tr>\n",
       "  </tbody>\n",
       "</table>\n",
       "</div>"
      ],
      "text/plain": [
       "             Maint. Fees  Sold Price\n",
       "Maint. Fees     1.000000    0.508387\n",
       "Sold Price      0.508387    1.000000"
      ]
     },
     "execution_count": 57,
     "metadata": {},
     "output_type": "execute_result"
    }
   ],
   "source": [
    "Apt_dataset[Apt_dataset['Maint. Fees']!=0][['Maint. Fees','Sold Price']].corr(method ='pearson')"
   ]
  },
  {
   "cell_type": "code",
   "execution_count": 58,
   "metadata": {},
   "outputs": [
    {
     "data": {
      "text/plain": [
       "array([[<AxesSubplot:title={'center':'Maint. Fees'}>]], dtype=object)"
      ]
     },
     "execution_count": 58,
     "metadata": {},
     "output_type": "execute_result"
    },
    {
     "data": {
      "image/png": "[encoded data removed]",
      "text/plain": [
       "<Figure size 432x288 with 1 Axes>"
      ]
     },
     "metadata": {},
     "output_type": "display_data"
    }
   ],
   "source": [
    "Apt_dataset[Apt_dataset['Maint. Fees']<3000].hist('Maint. Fees',bins=100)"
   ]
  },
  {
   "cell_type": "code",
   "execution_count": 59,
   "metadata": {},
   "outputs": [],
   "source": [
    "Apt_dataset=Apt_dataset[(Apt_dataset['Maint. Fees']>200)|(Apt_dataset[\"Condo Apt\"]!=0)]\n",
    "Apt_dataset=Apt_dataset[Apt_dataset['Maint. Fees']>30]\n",
    "Apt_dataset=Apt_dataset[Apt_dataset['Maint. Fees']<2000]"
   ]
  },
  {
   "cell_type": "code",
   "execution_count": 60,
   "metadata": {},
   "outputs": [
    {
     "data": {
      "text/plain": [
       "count    20649.000000\n",
       "mean       563.040293\n",
       "std        222.589300\n",
       "min        162.000000\n",
       "25%        413.000000\n",
       "50%        517.000000\n",
       "75%        661.000000\n",
       "max       1995.000000\n",
       "Name: Maint. Fees, dtype: float64"
      ]
     },
     "execution_count": 60,
     "metadata": {},
     "output_type": "execute_result"
    }
   ],
   "source": [
    "Apt_dataset['Maint. Fees'].describe()"
   ]
  },
  {
   "cell_type": "code",
   "execution_count": 61,
   "metadata": {},
   "outputs": [
    {
     "data": {
      "text/plain": [
       "array([[<AxesSubplot:title={'center':'Maint. Fees'}>]], dtype=object)"
      ]
     },
     "execution_count": 61,
     "metadata": {},
     "output_type": "execute_result"
    },
    {
     "data": {
      "image/png": "[encoded data removed]",
      "text/plain": [
       "<Figure size 432x288 with 1 Axes>"
      ]
     },
     "metadata": {},
     "output_type": "display_data"
    }
   ],
   "source": [
    "Apt_dataset.hist('Maint. Fees',bins=100)"
   ]
  },
  {
   "cell_type": "code",
   "execution_count": 62,
   "metadata": {},
   "outputs": [
    {
     "data": {
      "text/html": [
       "<div>\n",
       "<style scoped>\n",
       "    .dataframe tbody tr th:only-of-type {\n",
       "        vertical-align: middle;\n",
       "    }\n",
       "\n",
       "    .dataframe tbody tr th {\n",
       "        vertical-align: top;\n",
       "    }\n",
       "\n",
       "    .dataframe thead th {\n",
       "        text-align: right;\n",
       "    }\n",
       "</style>\n",
       "<table border=\"1\" class=\"dataframe\">\n",
       "  <thead>\n",
       "    <tr style=\"text-align: right;\">\n",
       "      <th></th>\n",
       "      <th>Maint. Fees</th>\n",
       "      <th>Sold Price</th>\n",
       "    </tr>\n",
       "  </thead>\n",
       "  <tbody>\n",
       "    <tr>\n",
       "      <th>Maint. Fees</th>\n",
       "      <td>1.000000</td>\n",
       "      <td>0.489344</td>\n",
       "    </tr>\n",
       "    <tr>\n",
       "      <th>Sold Price</th>\n",
       "      <td>0.489344</td>\n",
       "      <td>1.000000</td>\n",
       "    </tr>\n",
       "  </tbody>\n",
       "</table>\n",
       "</div>"
      ],
      "text/plain": [
       "             Maint. Fees  Sold Price\n",
       "Maint. Fees     1.000000    0.489344\n",
       "Sold Price      0.489344    1.000000"
      ]
     },
     "execution_count": 62,
     "metadata": {},
     "output_type": "execute_result"
    }
   ],
   "source": [
    "Apt_dataset[['Maint. Fees','Sold Price']].corr(method ='pearson')"
   ]
  },
  {
   "cell_type": "code",
   "execution_count": 63,
   "metadata": {},
   "outputs": [
    {
     "data": {
      "text/html": [
       "<div>\n",
       "<style scoped>\n",
       "    .dataframe tbody tr th:only-of-type {\n",
       "        vertical-align: middle;\n",
       "    }\n",
       "\n",
       "    .dataframe tbody tr th {\n",
       "        vertical-align: top;\n",
       "    }\n",
       "\n",
       "    .dataframe thead th {\n",
       "        text-align: right;\n",
       "    }\n",
       "</style>\n",
       "<table border=\"1\" class=\"dataframe\">\n",
       "  <thead>\n",
       "    <tr style=\"text-align: right;\">\n",
       "      <th></th>\n",
       "      <th>Maint. Fees</th>\n",
       "      <th>Taxes</th>\n",
       "    </tr>\n",
       "  </thead>\n",
       "  <tbody>\n",
       "    <tr>\n",
       "      <th>Maint. Fees</th>\n",
       "      <td>1.000000</td>\n",
       "      <td>0.441111</td>\n",
       "    </tr>\n",
       "    <tr>\n",
       "      <th>Taxes</th>\n",
       "      <td>0.441111</td>\n",
       "      <td>1.000000</td>\n",
       "    </tr>\n",
       "  </tbody>\n",
       "</table>\n",
       "</div>"
      ],
      "text/plain": [
       "             Maint. Fees     Taxes\n",
       "Maint. Fees     1.000000  0.441111\n",
       "Taxes           0.441111  1.000000"
      ]
     },
     "execution_count": 63,
     "metadata": {},
     "output_type": "execute_result"
    }
   ],
   "source": [
    "Apt_dataset[['Maint. Fees','Taxes']].corr(method ='pearson')"
   ]
  },
  {
   "cell_type": "code",
   "execution_count": 64,
   "metadata": {},
   "outputs": [
    {
     "data": {
      "text/plain": [
       "Central Air    19010\n",
       "None             898\n",
       "Window Unit      350\n",
       "Wall Unit        269\n",
       "Other            122\n",
       "Name: AC Type, dtype: int64"
      ]
     },
     "execution_count": 64,
     "metadata": {},
     "output_type": "execute_result"
    }
   ],
   "source": [
    "Apt_dataset['AC Type'].value_counts()"
   ]
  },
  {
   "cell_type": "code",
   "execution_count": 65,
   "metadata": {},
   "outputs": [
    {
     "data": {
      "text/plain": [
       "1    19010\n",
       "0     1639\n",
       "Name: AC Type, dtype: int64"
      ]
     },
     "execution_count": 65,
     "metadata": {},
     "output_type": "execute_result"
    }
   ],
   "source": [
    "Apt_dataset['AC Type']=Apt_dataset['AC Type'].replace(\"Other\",0)\n",
    "Apt_dataset['AC Type']=Apt_dataset['AC Type'].replace(\"Wall Unit\",0)\n",
    "Apt_dataset['AC Type']=Apt_dataset['AC Type'].replace(\"Window Unit\",0)\n",
    "Apt_dataset['AC Type']=Apt_dataset['AC Type'].replace(\"None\",0)\n",
    "Apt_dataset['AC Type']=Apt_dataset['AC Type'].replace(\"Central Air\",1)\n",
    "Apt_dataset['AC Type'].value_counts()"
   ]
  },
  {
   "cell_type": "code",
   "execution_count": 66,
   "metadata": {},
   "outputs": [
    {
     "data": {
      "text/plain": [
       "Forced Air    17698\n",
       "Heat Pump      1322\n",
       "Baseboard       680\n",
       "Water           428\n",
       "Radiant         337\n",
       "Other           115\n",
       "Fan Coil         69\n",
       "Name: Heat Type, dtype: int64"
      ]
     },
     "execution_count": 66,
     "metadata": {},
     "output_type": "execute_result"
    }
   ],
   "source": [
    "Apt_dataset['Heat Type'].value_counts()"
   ]
  },
  {
   "cell_type": "code",
   "execution_count": 67,
   "metadata": {},
   "outputs": [
    {
     "data": {
      "text/plain": [
       "1    17698\n",
       "0     2951\n",
       "Name: Heat Type, dtype: int64"
      ]
     },
     "execution_count": 67,
     "metadata": {},
     "output_type": "execute_result"
    }
   ],
   "source": [
    "Apt_dataset['Heat Type']=Apt_dataset['Heat Type'].replace(\"Fan Coil\",0)\n",
    "Apt_dataset['Heat Type']=Apt_dataset['Heat Type'].replace(\"Other\",0)\n",
    "Apt_dataset['Heat Type']=Apt_dataset['Heat Type'].replace(\"Heat Pump\",0)\n",
    "Apt_dataset['Heat Type']=Apt_dataset['Heat Type'].replace(\"Radiant\",0)\n",
    "Apt_dataset['Heat Type']=Apt_dataset['Heat Type'].replace(\"Water\",0)\n",
    "Apt_dataset['Heat Type']=Apt_dataset['Heat Type'].replace(\"Baseboard\",0)\n",
    "Apt_dataset['Heat Type']=Apt_dataset['Heat Type'].replace(\"Forced Air\",1)\n",
    "Apt_dataset['Heat Type'].value_counts()"
   ]
  },
  {
   "cell_type": "code",
   "execution_count": 68,
   "metadata": {},
   "outputs": [
    {
     "data": {
      "text/plain": [
       "1    14140\n",
       "0     6509\n",
       "Name: Locker, dtype: int64"
      ]
     },
     "execution_count": 68,
     "metadata": {},
     "output_type": "execute_result"
    }
   ],
   "source": [
    "Apt_dataset['Locker']=Apt_dataset['Locker'].replace(\"Exclusive\",1)\n",
    "Apt_dataset['Locker']=Apt_dataset['Locker'].replace(\"Other\",0)\n",
    "Apt_dataset['Locker']=Apt_dataset['Locker'].replace(\"Ensuite\",1)\n",
    "Apt_dataset['Locker']=Apt_dataset['Locker'].replace(\"Ensuite+Owned\",1)\n",
    "Apt_dataset['Locker']=Apt_dataset['Locker'].replace(\"Ensuite+Exclusive\",1)\n",
    "Apt_dataset['Locker']=Apt_dataset['Locker'].replace(\"Ensuite+Common\",1)\n",
    "Apt_dataset['Locker']=Apt_dataset['Locker'].replace(\"Common\",1)\n",
    "Apt_dataset['Locker']=Apt_dataset['Locker'].replace(\"None\",0)\n",
    "Apt_dataset['Locker']=Apt_dataset['Locker'].replace(\"Owned\",1)\n",
    "Apt_dataset['Locker'].value_counts()"
   ]
  },
  {
   "cell_type": "code",
   "execution_count": 69,
   "metadata": {},
   "outputs": [],
   "source": [
    "#Apt_dataset['Balcony'].value_counts()"
   ]
  },
  {
   "cell_type": "code",
   "execution_count": 70,
   "metadata": {},
   "outputs": [
    {
     "data": {
      "text/plain": [
       "1    16966\n",
       "0     3683\n",
       "Name: Balcony, dtype: int64"
      ]
     },
     "execution_count": 70,
     "metadata": {},
     "output_type": "execute_result"
    }
   ],
   "source": [
    "Apt_dataset['Balcony']=Apt_dataset['Balcony'].replace(\"None\",0)\n",
    "Apt_dataset['Balcony']=Apt_dataset['Balcony'].replace(\"Open\",1)\n",
    "Apt_dataset['Balcony']=Apt_dataset['Balcony'].replace(\"Terr\",1)\n",
    "Apt_dataset['Balcony']=Apt_dataset['Balcony'].replace(\"Jlte\",1)\n",
    "Apt_dataset['Balcony']=Apt_dataset['Balcony'].replace(\"Encl\",1)\n",
    "Apt_dataset['Balcony'].value_counts()"
   ]
  },
  {
   "cell_type": "code",
   "execution_count": 71,
   "metadata": {},
   "outputs": [
    {
     "data": {
      "text/plain": [
       "Restrict    19223\n",
       "N            1426\n",
       "Name: Pets Permitted, dtype: int64"
      ]
     },
     "execution_count": 71,
     "metadata": {},
     "output_type": "execute_result"
    }
   ],
   "source": [
    "Apt_dataset['Pets Permitted'].value_counts()"
   ]
  },
  {
   "cell_type": "code",
   "execution_count": 72,
   "metadata": {},
   "outputs": [
    {
     "data": {
      "text/plain": [
       "1    19223\n",
       "0     1426\n",
       "Name: Pets Permitted, dtype: int64"
      ]
     },
     "execution_count": 72,
     "metadata": {},
     "output_type": "execute_result"
    }
   ],
   "source": [
    "Apt_dataset['Pets Permitted']=Apt_dataset['Pets Permitted'].replace(\"Restrict\",1)\n",
    "Apt_dataset['Pets Permitted']=Apt_dataset['Pets Permitted'].replace(\"N\",0)\n",
    "Apt_dataset['Pets Permitted'].value_counts()"
   ]
  },
  {
   "cell_type": "code",
   "execution_count": 73,
   "metadata": {},
   "outputs": [],
   "source": [
    "Apt_dataset=Apt_dataset.drop('Pets Permitted',axis=1) #low varience"
   ]
  },
  {
   "cell_type": "code",
   "execution_count": 74,
   "metadata": {},
   "outputs": [
    {
     "data": {
      "text/plain": [
       "Gas          18621\n",
       "Electric      1738\n",
       "Other          268\n",
       "Grnd Srce       16\n",
       "Oil              5\n",
       "Wood             1\n",
       "Name: Heat Source, dtype: int64"
      ]
     },
     "execution_count": 74,
     "metadata": {},
     "output_type": "execute_result"
    }
   ],
   "source": [
    "Apt_dataset['Heat Source'].value_counts()"
   ]
  },
  {
   "cell_type": "code",
   "execution_count": 75,
   "metadata": {},
   "outputs": [
    {
     "data": {
      "text/plain": [
       "1    18621\n",
       "0     2028\n",
       "Name: Heat Source, dtype: int64"
      ]
     },
     "execution_count": 75,
     "metadata": {},
     "output_type": "execute_result"
    }
   ],
   "source": [
    "Apt_dataset['Heat Source']=Apt_dataset['Heat Source'].replace(\"Gas\",1)\n",
    "Apt_dataset['Heat Source']=Apt_dataset['Heat Source'].replace(\"Grnd Srce\",0)\n",
    "Apt_dataset['Heat Source']=Apt_dataset['Heat Source'].replace(\"Oil\",0)\n",
    "Apt_dataset['Heat Source']=Apt_dataset['Heat Source'].replace(\"Wood\",0)\n",
    "Apt_dataset['Heat Source']=Apt_dataset['Heat Source'].replace(\"Other\",0)\n",
    "Apt_dataset['Heat Source']=Apt_dataset['Heat Source'].replace(\"Propane\",0)\n",
    "Apt_dataset['Heat Source']=Apt_dataset['Heat Source'].replace(\"Electric\",0)\n",
    "Apt_dataset['Heat Source'].value_counts()"
   ]
  },
  {
   "cell_type": "code",
   "execution_count": 76,
   "metadata": {},
   "outputs": [
    {
     "data": {
      "text/plain": [
       "5.0     8936\n",
       "4.0     5143\n",
       "6.0     4169\n",
       "7.0     1188\n",
       "3.0      601\n",
       "8.0      313\n",
       "2.0      115\n",
       "1.0       96\n",
       "9.0       64\n",
       "10.0      10\n",
       "11.0       4\n",
       "0.0        4\n",
       "12.0       4\n",
       "66.0       2\n",
       "Name: Total Rooms, dtype: int64"
      ]
     },
     "execution_count": 76,
     "metadata": {},
     "output_type": "execute_result"
    }
   ],
   "source": [
    "Apt_dataset['Total Rooms'].value_counts()"
   ]
  },
  {
   "cell_type": "code",
   "execution_count": 77,
   "metadata": {},
   "outputs": [
    {
     "data": {
      "image/png": "[encoded data removed]",
      "text/plain": [
       "<Figure size 720x576 with 1 Axes>"
      ]
     },
     "metadata": {},
     "output_type": "display_data"
    }
   ],
   "source": [
    "fig = plt.figure(figsize =(10,8 ))\n",
    "ss=Apt_dataset[Apt_dataset['Total Rooms']<30]['Total Rooms'].value_counts().sort_index()\n",
    "plt.bar(list(ss.keys()),list(ss.values))\n",
    "plt.title('Total Rooms Distribution')\n",
    "plt.ylabel('Total Rooms')\n",
    "plt.xlabel('Frequancy')\n",
    "plt.show()"
   ]
  },
  {
   "cell_type": "code",
   "execution_count": 78,
   "metadata": {},
   "outputs": [],
   "source": [
    "Apt_dataset=Apt_dataset.drop('Total Rooms',axis=1)"
   ]
  },
  {
   "cell_type": "code",
   "execution_count": 79,
   "metadata": {},
   "outputs": [
    {
     "data": {
      "text/plain": [
       "99.0     3173\n",
       "100.0    3065\n",
       "98.0     2924\n",
       "97.0     1937\n",
       "96.0     1118\n",
       "         ... \n",
       "178.0       1\n",
       "74.0        1\n",
       "68.0        1\n",
       "152.0       1\n",
       "78.0        1\n",
       "Name: Sale to List %, Length: 84, dtype: int64"
      ]
     },
     "execution_count": 79,
     "metadata": {},
     "output_type": "execute_result"
    }
   ],
   "source": [
    "Apt_dataset['Sale to List %'].value_counts()"
   ]
  },
  {
   "cell_type": "code",
   "execution_count": 80,
   "metadata": {},
   "outputs": [
    {
     "data": {
      "image/png": "[encoded data removed]",
      "text/plain": [
       "<Figure size 432x288 with 1 Axes>"
      ]
     },
     "metadata": {},
     "output_type": "display_data"
    }
   ],
   "source": [
    "err=[abs(100*(float(b)/a)-c) for a,b,c in zip(Apt_dataset[\"List Price\"],Apt_dataset[\"Sold Price\"],Apt_dataset['Sale to List %'])]\n",
    "plt.hist(err,bins=100)\n",
    "plt.show()"
   ]
  },
  {
   "cell_type": "code",
   "execution_count": 81,
   "metadata": {},
   "outputs": [
    {
     "name": "stdout",
     "output_type": "stream",
     "text": [
      "3\n"
     ]
    }
   ],
   "source": [
    "print(sum([x>1 for x in err]))\n",
    "Apt_dataset[\"err\"]=err"
   ]
  },
  {
   "cell_type": "code",
   "execution_count": 82,
   "metadata": {},
   "outputs": [],
   "source": [
    "Apt_dataset=Apt_dataset[Apt_dataset[\"err\"]<1]\n",
    "Apt_dataset=Apt_dataset.drop(\"err\",axis=1)"
   ]
  },
  {
   "cell_type": "code",
   "execution_count": 83,
   "metadata": {},
   "outputs": [
    {
     "data": {
      "image/png": "[encoded data removed]",
      "text/plain": [
       "<Figure size 1440x360 with 1 Axes>"
      ]
     },
     "metadata": {},
     "output_type": "display_data"
    }
   ],
   "source": [
    "fig = plt.figure(figsize =(20,5))\n",
    "ss=Apt_dataset['Sale to List %'].value_counts().sort_index()\n",
    "ss=ss[ss.keys()<150]\n",
    "ss=ss[ss.keys()>70]\n",
    "plt.bar(list(ss.keys()),list(ss.values))\n",
    "plt.show()"
   ]
  },
  {
   "cell_type": "code",
   "execution_count": 84,
   "metadata": {},
   "outputs": [],
   "source": [
    "Apt_dataset=Apt_dataset[Apt_dataset[\"Sale to List %\"]>70]"
   ]
  },
  {
   "cell_type": "code",
   "execution_count": 85,
   "metadata": {},
   "outputs": [
    {
     "data": {
      "text/plain": [
       "Index(['E06', 'W07'], dtype='object')"
      ]
     },
     "execution_count": 85,
     "metadata": {},
     "output_type": "execute_result"
    }
   ],
   "source": [
    "SS=Apt_dataset[\"Ward\"].value_counts()\n",
    "SS[SS.values < 50].keys()"
   ]
  },
  {
   "cell_type": "code",
   "execution_count": 86,
   "metadata": {},
   "outputs": [],
   "source": [
    "Apt_dataset=Apt_dataset[~(Apt_dataset[\"Ward\"].isin(list(SS[SS.values < 50].keys())))]"
   ]
  },
  {
   "cell_type": "code",
   "execution_count": 87,
   "metadata": {},
   "outputs": [],
   "source": [
    "for name in set(Apt_dataset[\"Ward\"]):\n",
    "    Apt_dataset[name]=(Apt_dataset[\"Ward\"]==name).astype(int)\n",
    "    \n",
    "neighbourhoods=[set(Apt_dataset[\"Ward\"])]\n",
    "Apt_dataset=Apt_dataset.drop(\"Ward\",axis=1)  "
   ]
  },
  {
   "cell_type": "code",
   "execution_count": 88,
   "metadata": {},
   "outputs": [],
   "source": [
    "#Apt_dataset['green_new'].describe()"
   ]
  },
  {
   "cell_type": "code",
   "execution_count": 89,
   "metadata": {},
   "outputs": [],
   "source": [
    "#Apt_dataset.boxplot(['green_new'])"
   ]
  },
  {
   "cell_type": "code",
   "execution_count": 90,
   "metadata": {},
   "outputs": [],
   "source": [
    "#Apt_dataset.hist('green_new',bins=21,legend=True)"
   ]
  },
  {
   "cell_type": "code",
   "execution_count": 91,
   "metadata": {},
   "outputs": [
    {
     "data": {
      "text/plain": [
       "89"
      ]
     },
     "execution_count": 91,
     "metadata": {},
     "output_type": "execute_result"
    }
   ],
   "source": [
    "len(Apt_dataset.columns)"
   ]
  },
  {
   "cell_type": "code",
   "execution_count": 92,
   "metadata": {},
   "outputs": [
    {
     "data": {
      "text/html": [
       "<div>\n",
       "<style scoped>\n",
       "    .dataframe tbody tr th:only-of-type {\n",
       "        vertical-align: middle;\n",
       "    }\n",
       "\n",
       "    .dataframe tbody tr th {\n",
       "        vertical-align: top;\n",
       "    }\n",
       "\n",
       "    .dataframe thead th {\n",
       "        text-align: right;\n",
       "    }\n",
       "</style>\n",
       "<table border=\"1\" class=\"dataframe\">\n",
       "  <thead>\n",
       "    <tr style=\"text-align: right;\">\n",
       "      <th></th>\n",
       "      <th>count</th>\n",
       "      <th>mean</th>\n",
       "      <th>std</th>\n",
       "      <th>min</th>\n",
       "      <th>25%</th>\n",
       "      <th>50%</th>\n",
       "      <th>75%</th>\n",
       "      <th>max</th>\n",
       "    </tr>\n",
       "  </thead>\n",
       "  <tbody>\n",
       "    <tr>\n",
       "      <th>Bike Storage</th>\n",
       "      <td>20575.0</td>\n",
       "      <td>0.016185</td>\n",
       "      <td>0.126188</td>\n",
       "      <td>0.0</td>\n",
       "      <td>0.0</td>\n",
       "      <td>0.0</td>\n",
       "      <td>0.0</td>\n",
       "      <td>1.0</td>\n",
       "    </tr>\n",
       "    <tr>\n",
       "      <th>Bus Ctr (Wifi Bldg)</th>\n",
       "      <td>20575.0</td>\n",
       "      <td>0.011762</td>\n",
       "      <td>0.107815</td>\n",
       "      <td>0.0</td>\n",
       "      <td>0.0</td>\n",
       "      <td>0.0</td>\n",
       "      <td>0.0</td>\n",
       "      <td>1.0</td>\n",
       "    </tr>\n",
       "    <tr>\n",
       "      <th>Car Wash</th>\n",
       "      <td>20575.0</td>\n",
       "      <td>0.025468</td>\n",
       "      <td>0.157545</td>\n",
       "      <td>0.0</td>\n",
       "      <td>0.0</td>\n",
       "      <td>0.0</td>\n",
       "      <td>0.0</td>\n",
       "      <td>1.0</td>\n",
       "    </tr>\n",
       "    <tr>\n",
       "      <th>Lap Pool</th>\n",
       "      <td>20575.0</td>\n",
       "      <td>0.008991</td>\n",
       "      <td>0.094399</td>\n",
       "      <td>0.0</td>\n",
       "      <td>0.0</td>\n",
       "      <td>0.0</td>\n",
       "      <td>0.0</td>\n",
       "      <td>1.0</td>\n",
       "    </tr>\n",
       "    <tr>\n",
       "      <th>Satellite Dish</th>\n",
       "      <td>20575.0</td>\n",
       "      <td>0.000389</td>\n",
       "      <td>0.019715</td>\n",
       "      <td>0.0</td>\n",
       "      <td>0.0</td>\n",
       "      <td>0.0</td>\n",
       "      <td>0.0</td>\n",
       "      <td>1.0</td>\n",
       "    </tr>\n",
       "    <tr>\n",
       "      <th>Squash/Racquet Court</th>\n",
       "      <td>20575.0</td>\n",
       "      <td>0.038056</td>\n",
       "      <td>0.191336</td>\n",
       "      <td>0.0</td>\n",
       "      <td>0.0</td>\n",
       "      <td>0.0</td>\n",
       "      <td>0.0</td>\n",
       "      <td>1.0</td>\n",
       "    </tr>\n",
       "    <tr>\n",
       "      <th>Other Property</th>\n",
       "      <td>20575.0</td>\n",
       "      <td>0.024399</td>\n",
       "      <td>0.154287</td>\n",
       "      <td>0.0</td>\n",
       "      <td>0.0</td>\n",
       "      <td>0.0</td>\n",
       "      <td>0.0</td>\n",
       "      <td>1.0</td>\n",
       "    </tr>\n",
       "    <tr>\n",
       "      <th>E11</th>\n",
       "      <td>20575.0</td>\n",
       "      <td>0.017060</td>\n",
       "      <td>0.129496</td>\n",
       "      <td>0.0</td>\n",
       "      <td>0.0</td>\n",
       "      <td>0.0</td>\n",
       "      <td>0.0</td>\n",
       "      <td>1.0</td>\n",
       "    </tr>\n",
       "    <tr>\n",
       "      <th>E04</th>\n",
       "      <td>20575.0</td>\n",
       "      <td>0.019684</td>\n",
       "      <td>0.138916</td>\n",
       "      <td>0.0</td>\n",
       "      <td>0.0</td>\n",
       "      <td>0.0</td>\n",
       "      <td>0.0</td>\n",
       "      <td>1.0</td>\n",
       "    </tr>\n",
       "    <tr>\n",
       "      <th>C02</th>\n",
       "      <td>20575.0</td>\n",
       "      <td>0.017643</td>\n",
       "      <td>0.131652</td>\n",
       "      <td>0.0</td>\n",
       "      <td>0.0</td>\n",
       "      <td>0.0</td>\n",
       "      <td>0.0</td>\n",
       "      <td>1.0</td>\n",
       "    </tr>\n",
       "    <tr>\n",
       "      <th>W03</th>\n",
       "      <td>20575.0</td>\n",
       "      <td>0.005249</td>\n",
       "      <td>0.072262</td>\n",
       "      <td>0.0</td>\n",
       "      <td>0.0</td>\n",
       "      <td>0.0</td>\n",
       "      <td>0.0</td>\n",
       "      <td>1.0</td>\n",
       "    </tr>\n",
       "    <tr>\n",
       "      <th>C12</th>\n",
       "      <td>20575.0</td>\n",
       "      <td>0.006950</td>\n",
       "      <td>0.083080</td>\n",
       "      <td>0.0</td>\n",
       "      <td>0.0</td>\n",
       "      <td>0.0</td>\n",
       "      <td>0.0</td>\n",
       "      <td>1.0</td>\n",
       "    </tr>\n",
       "    <tr>\n",
       "      <th>C07</th>\n",
       "      <td>20575.0</td>\n",
       "      <td>0.040826</td>\n",
       "      <td>0.197892</td>\n",
       "      <td>0.0</td>\n",
       "      <td>0.0</td>\n",
       "      <td>0.0</td>\n",
       "      <td>0.0</td>\n",
       "      <td>1.0</td>\n",
       "    </tr>\n",
       "    <tr>\n",
       "      <th>E09</th>\n",
       "      <td>20575.0</td>\n",
       "      <td>0.034702</td>\n",
       "      <td>0.183029</td>\n",
       "      <td>0.0</td>\n",
       "      <td>0.0</td>\n",
       "      <td>0.0</td>\n",
       "      <td>0.0</td>\n",
       "      <td>1.0</td>\n",
       "    </tr>\n",
       "    <tr>\n",
       "      <th>E02</th>\n",
       "      <td>20575.0</td>\n",
       "      <td>0.005395</td>\n",
       "      <td>0.073253</td>\n",
       "      <td>0.0</td>\n",
       "      <td>0.0</td>\n",
       "      <td>0.0</td>\n",
       "      <td>0.0</td>\n",
       "      <td>1.0</td>\n",
       "    </tr>\n",
       "    <tr>\n",
       "      <th>C13</th>\n",
       "      <td>20575.0</td>\n",
       "      <td>0.019490</td>\n",
       "      <td>0.138242</td>\n",
       "      <td>0.0</td>\n",
       "      <td>0.0</td>\n",
       "      <td>0.0</td>\n",
       "      <td>0.0</td>\n",
       "      <td>1.0</td>\n",
       "    </tr>\n",
       "    <tr>\n",
       "      <th>C04</th>\n",
       "      <td>20575.0</td>\n",
       "      <td>0.010498</td>\n",
       "      <td>0.101924</td>\n",
       "      <td>0.0</td>\n",
       "      <td>0.0</td>\n",
       "      <td>0.0</td>\n",
       "      <td>0.0</td>\n",
       "      <td>1.0</td>\n",
       "    </tr>\n",
       "    <tr>\n",
       "      <th>W02</th>\n",
       "      <td>20575.0</td>\n",
       "      <td>0.012637</td>\n",
       "      <td>0.111703</td>\n",
       "      <td>0.0</td>\n",
       "      <td>0.0</td>\n",
       "      <td>0.0</td>\n",
       "      <td>0.0</td>\n",
       "      <td>1.0</td>\n",
       "    </tr>\n",
       "    <tr>\n",
       "      <th>W09</th>\n",
       "      <td>20575.0</td>\n",
       "      <td>0.010401</td>\n",
       "      <td>0.101456</td>\n",
       "      <td>0.0</td>\n",
       "      <td>0.0</td>\n",
       "      <td>0.0</td>\n",
       "      <td>0.0</td>\n",
       "      <td>1.0</td>\n",
       "    </tr>\n",
       "    <tr>\n",
       "      <th>C03</th>\n",
       "      <td>20575.0</td>\n",
       "      <td>0.005784</td>\n",
       "      <td>0.075832</td>\n",
       "      <td>0.0</td>\n",
       "      <td>0.0</td>\n",
       "      <td>0.0</td>\n",
       "      <td>0.0</td>\n",
       "      <td>1.0</td>\n",
       "    </tr>\n",
       "    <tr>\n",
       "      <th>C09</th>\n",
       "      <td>20575.0</td>\n",
       "      <td>0.005492</td>\n",
       "      <td>0.073907</td>\n",
       "      <td>0.0</td>\n",
       "      <td>0.0</td>\n",
       "      <td>0.0</td>\n",
       "      <td>0.0</td>\n",
       "      <td>1.0</td>\n",
       "    </tr>\n",
       "    <tr>\n",
       "      <th>E03</th>\n",
       "      <td>20575.0</td>\n",
       "      <td>0.007290</td>\n",
       "      <td>0.085074</td>\n",
       "      <td>0.0</td>\n",
       "      <td>0.0</td>\n",
       "      <td>0.0</td>\n",
       "      <td>0.0</td>\n",
       "      <td>1.0</td>\n",
       "    </tr>\n",
       "    <tr>\n",
       "      <th>W01</th>\n",
       "      <td>20575.0</td>\n",
       "      <td>0.018955</td>\n",
       "      <td>0.136370</td>\n",
       "      <td>0.0</td>\n",
       "      <td>0.0</td>\n",
       "      <td>0.0</td>\n",
       "      <td>0.0</td>\n",
       "      <td>1.0</td>\n",
       "    </tr>\n",
       "    <tr>\n",
       "      <th>C11</th>\n",
       "      <td>20575.0</td>\n",
       "      <td>0.013609</td>\n",
       "      <td>0.115863</td>\n",
       "      <td>0.0</td>\n",
       "      <td>0.0</td>\n",
       "      <td>0.0</td>\n",
       "      <td>0.0</td>\n",
       "      <td>1.0</td>\n",
       "    </tr>\n",
       "    <tr>\n",
       "      <th>W05</th>\n",
       "      <td>20575.0</td>\n",
       "      <td>0.026974</td>\n",
       "      <td>0.162013</td>\n",
       "      <td>0.0</td>\n",
       "      <td>0.0</td>\n",
       "      <td>0.0</td>\n",
       "      <td>0.0</td>\n",
       "      <td>1.0</td>\n",
       "    </tr>\n",
       "    <tr>\n",
       "      <th>C06</th>\n",
       "      <td>20575.0</td>\n",
       "      <td>0.010401</td>\n",
       "      <td>0.101456</td>\n",
       "      <td>0.0</td>\n",
       "      <td>0.0</td>\n",
       "      <td>0.0</td>\n",
       "      <td>0.0</td>\n",
       "      <td>1.0</td>\n",
       "    </tr>\n",
       "    <tr>\n",
       "      <th>E07</th>\n",
       "      <td>20575.0</td>\n",
       "      <td>0.028190</td>\n",
       "      <td>0.165518</td>\n",
       "      <td>0.0</td>\n",
       "      <td>0.0</td>\n",
       "      <td>0.0</td>\n",
       "      <td>0.0</td>\n",
       "      <td>1.0</td>\n",
       "    </tr>\n",
       "    <tr>\n",
       "      <th>E08</th>\n",
       "      <td>20575.0</td>\n",
       "      <td>0.011713</td>\n",
       "      <td>0.107595</td>\n",
       "      <td>0.0</td>\n",
       "      <td>0.0</td>\n",
       "      <td>0.0</td>\n",
       "      <td>0.0</td>\n",
       "      <td>1.0</td>\n",
       "    </tr>\n",
       "    <tr>\n",
       "      <th>E10</th>\n",
       "      <td>20575.0</td>\n",
       "      <td>0.005055</td>\n",
       "      <td>0.070918</td>\n",
       "      <td>0.0</td>\n",
       "      <td>0.0</td>\n",
       "      <td>0.0</td>\n",
       "      <td>0.0</td>\n",
       "      <td>1.0</td>\n",
       "    </tr>\n",
       "    <tr>\n",
       "      <th>E05</th>\n",
       "      <td>20575.0</td>\n",
       "      <td>0.026391</td>\n",
       "      <td>0.160300</td>\n",
       "      <td>0.0</td>\n",
       "      <td>0.0</td>\n",
       "      <td>0.0</td>\n",
       "      <td>0.0</td>\n",
       "      <td>1.0</td>\n",
       "    </tr>\n",
       "    <tr>\n",
       "      <th>E01</th>\n",
       "      <td>20575.0</td>\n",
       "      <td>0.010061</td>\n",
       "      <td>0.099800</td>\n",
       "      <td>0.0</td>\n",
       "      <td>0.0</td>\n",
       "      <td>0.0</td>\n",
       "      <td>0.0</td>\n",
       "      <td>1.0</td>\n",
       "    </tr>\n",
       "    <tr>\n",
       "      <th>W04</th>\n",
       "      <td>20575.0</td>\n",
       "      <td>0.015310</td>\n",
       "      <td>0.122785</td>\n",
       "      <td>0.0</td>\n",
       "      <td>0.0</td>\n",
       "      <td>0.0</td>\n",
       "      <td>0.0</td>\n",
       "      <td>1.0</td>\n",
       "    </tr>\n",
       "    <tr>\n",
       "      <th>W10</th>\n",
       "      <td>20575.0</td>\n",
       "      <td>0.024399</td>\n",
       "      <td>0.154287</td>\n",
       "      <td>0.0</td>\n",
       "      <td>0.0</td>\n",
       "      <td>0.0</td>\n",
       "      <td>0.0</td>\n",
       "      <td>1.0</td>\n",
       "    </tr>\n",
       "    <tr>\n",
       "      <th>C10</th>\n",
       "      <td>20575.0</td>\n",
       "      <td>0.019684</td>\n",
       "      <td>0.138916</td>\n",
       "      <td>0.0</td>\n",
       "      <td>0.0</td>\n",
       "      <td>0.0</td>\n",
       "      <td>0.0</td>\n",
       "      <td>1.0</td>\n",
       "    </tr>\n",
       "  </tbody>\n",
       "</table>\n",
       "</div>"
      ],
      "text/plain": [
       "                        count      mean       std  min  25%  50%  75%  max\n",
       "Bike Storage          20575.0  0.016185  0.126188  0.0  0.0  0.0  0.0  1.0\n",
       "Bus Ctr (Wifi Bldg)   20575.0  0.011762  0.107815  0.0  0.0  0.0  0.0  1.0\n",
       "Car Wash              20575.0  0.025468  0.157545  0.0  0.0  0.0  0.0  1.0\n",
       "Lap Pool              20575.0  0.008991  0.094399  0.0  0.0  0.0  0.0  1.0\n",
       "Satellite Dish        20575.0  0.000389  0.019715  0.0  0.0  0.0  0.0  1.0\n",
       "Squash/Racquet Court  20575.0  0.038056  0.191336  0.0  0.0  0.0  0.0  1.0\n",
       "Other Property        20575.0  0.024399  0.154287  0.0  0.0  0.0  0.0  1.0\n",
       "E11                   20575.0  0.017060  0.129496  0.0  0.0  0.0  0.0  1.0\n",
       "E04                   20575.0  0.019684  0.138916  0.0  0.0  0.0  0.0  1.0\n",
       "C02                   20575.0  0.017643  0.131652  0.0  0.0  0.0  0.0  1.0\n",
       "W03                   20575.0  0.005249  0.072262  0.0  0.0  0.0  0.0  1.0\n",
       "C12                   20575.0  0.006950  0.083080  0.0  0.0  0.0  0.0  1.0\n",
       "C07                   20575.0  0.040826  0.197892  0.0  0.0  0.0  0.0  1.0\n",
       "E09                   20575.0  0.034702  0.183029  0.0  0.0  0.0  0.0  1.0\n",
       "E02                   20575.0  0.005395  0.073253  0.0  0.0  0.0  0.0  1.0\n",
       "C13                   20575.0  0.019490  0.138242  0.0  0.0  0.0  0.0  1.0\n",
       "C04                   20575.0  0.010498  0.101924  0.0  0.0  0.0  0.0  1.0\n",
       "W02                   20575.0  0.012637  0.111703  0.0  0.0  0.0  0.0  1.0\n",
       "W09                   20575.0  0.010401  0.101456  0.0  0.0  0.0  0.0  1.0\n",
       "C03                   20575.0  0.005784  0.075832  0.0  0.0  0.0  0.0  1.0\n",
       "C09                   20575.0  0.005492  0.073907  0.0  0.0  0.0  0.0  1.0\n",
       "E03                   20575.0  0.007290  0.085074  0.0  0.0  0.0  0.0  1.0\n",
       "W01                   20575.0  0.018955  0.136370  0.0  0.0  0.0  0.0  1.0\n",
       "C11                   20575.0  0.013609  0.115863  0.0  0.0  0.0  0.0  1.0\n",
       "W05                   20575.0  0.026974  0.162013  0.0  0.0  0.0  0.0  1.0\n",
       "C06                   20575.0  0.010401  0.101456  0.0  0.0  0.0  0.0  1.0\n",
       "E07                   20575.0  0.028190  0.165518  0.0  0.0  0.0  0.0  1.0\n",
       "E08                   20575.0  0.011713  0.107595  0.0  0.0  0.0  0.0  1.0\n",
       "E10                   20575.0  0.005055  0.070918  0.0  0.0  0.0  0.0  1.0\n",
       "E05                   20575.0  0.026391  0.160300  0.0  0.0  0.0  0.0  1.0\n",
       "E01                   20575.0  0.010061  0.099800  0.0  0.0  0.0  0.0  1.0\n",
       "W04                   20575.0  0.015310  0.122785  0.0  0.0  0.0  0.0  1.0\n",
       "W10                   20575.0  0.024399  0.154287  0.0  0.0  0.0  0.0  1.0\n",
       "C10                   20575.0  0.019684  0.138916  0.0  0.0  0.0  0.0  1.0"
      ]
     },
     "execution_count": 92,
     "metadata": {},
     "output_type": "execute_result"
    }
   ],
   "source": [
    "(Apt_dataset.describe().T)[((Apt_dataset.describe().T)['mean']<0.05)]"
   ]
  },
  {
   "cell_type": "code",
   "execution_count": 93,
   "metadata": {},
   "outputs": [
    {
     "data": {
      "text/html": [
       "<div>\n",
       "<style scoped>\n",
       "    .dataframe tbody tr th:only-of-type {\n",
       "        vertical-align: middle;\n",
       "    }\n",
       "\n",
       "    .dataframe tbody tr th {\n",
       "        vertical-align: top;\n",
       "    }\n",
       "\n",
       "    .dataframe thead th {\n",
       "        text-align: right;\n",
       "    }\n",
       "</style>\n",
       "<table border=\"1\" class=\"dataframe\">\n",
       "  <thead>\n",
       "    <tr style=\"text-align: right;\">\n",
       "      <th></th>\n",
       "      <th>count</th>\n",
       "      <th>mean</th>\n",
       "      <th>std</th>\n",
       "      <th>min</th>\n",
       "      <th>25%</th>\n",
       "      <th>50%</th>\n",
       "      <th>75%</th>\n",
       "      <th>max</th>\n",
       "    </tr>\n",
       "  </thead>\n",
       "  <tbody>\n",
       "    <tr>\n",
       "      <th>Common Elements Included</th>\n",
       "      <td>20575.0</td>\n",
       "      <td>0.988919</td>\n",
       "      <td>0.104686</td>\n",
       "      <td>0.0</td>\n",
       "      <td>1.0</td>\n",
       "      <td>1.0</td>\n",
       "      <td>1.0</td>\n",
       "      <td>1.0</td>\n",
       "    </tr>\n",
       "    <tr>\n",
       "      <th>Water Included</th>\n",
       "      <td>20575.0</td>\n",
       "      <td>0.950960</td>\n",
       "      <td>0.215957</td>\n",
       "      <td>0.0</td>\n",
       "      <td>1.0</td>\n",
       "      <td>1.0</td>\n",
       "      <td>1.0</td>\n",
       "      <td>1.0</td>\n",
       "    </tr>\n",
       "    <tr>\n",
       "      <th>Ensuite Laundry</th>\n",
       "      <td>20575.0</td>\n",
       "      <td>0.954751</td>\n",
       "      <td>0.207855</td>\n",
       "      <td>0.0</td>\n",
       "      <td>1.0</td>\n",
       "      <td>1.0</td>\n",
       "      <td>1.0</td>\n",
       "      <td>1.0</td>\n",
       "    </tr>\n",
       "  </tbody>\n",
       "</table>\n",
       "</div>"
      ],
      "text/plain": [
       "                            count      mean       std  min  25%  50%  75%  max\n",
       "Common Elements Included  20575.0  0.988919  0.104686  0.0  1.0  1.0  1.0  1.0\n",
       "Water Included            20575.0  0.950960  0.215957  0.0  1.0  1.0  1.0  1.0\n",
       "Ensuite Laundry           20575.0  0.954751  0.207855  0.0  1.0  1.0  1.0  1.0"
      ]
     },
     "execution_count": 93,
     "metadata": {},
     "output_type": "execute_result"
    }
   ],
   "source": [
    "(Apt_dataset.describe().T)[((Apt_dataset.describe().T)['mean']<1)&((Apt_dataset.describe().T)['mean']>0.95)]"
   ]
  },
  {
   "cell_type": "code",
   "execution_count": 94,
   "metadata": {},
   "outputs": [],
   "source": [
    "Apt_dataset=Apt_dataset.drop(['Common Elements Included','Water Included','Satellite Dish','Ensuite Laundry'],axis=1)"
   ]
  },
  {
   "cell_type": "code",
   "execution_count": 95,
   "metadata": {},
   "outputs": [
    {
     "data": {
      "text/plain": [
       "count    2.057500e+04\n",
       "mean     4.847100e+05\n",
       "std      2.220423e+05\n",
       "min      3.078000e+04\n",
       "25%      3.500000e+05\n",
       "50%      4.400000e+05\n",
       "75%      5.600000e+05\n",
       "max      3.410000e+06\n",
       "Name: Sold Price, dtype: float64"
      ]
     },
     "execution_count": 95,
     "metadata": {},
     "output_type": "execute_result"
    }
   ],
   "source": [
    "Apt_dataset['Sold Price'].describe()"
   ]
  },
  {
   "cell_type": "code",
   "execution_count": 96,
   "metadata": {},
   "outputs": [],
   "source": [
    "Apt_dataset=Apt_dataset[Apt_dataset['Sold Price']<1525000]\n",
    "Apt_dataset=Apt_dataset[Apt_dataset['Sold Price']>125000]"
   ]
  },
  {
   "cell_type": "code",
   "execution_count": 97,
   "metadata": {},
   "outputs": [
    {
     "data": {
      "text/plain": [
       "<matplotlib.legend.Legend at 0x7fbb3fbc1130>"
      ]
     },
     "execution_count": 97,
     "metadata": {},
     "output_type": "execute_result"
    },
    {
     "data": {
      "image/png": "[encoded data removed]",
      "text/plain": [
       "<Figure size 432x288 with 1 Axes>"
      ]
     },
     "metadata": {},
     "output_type": "display_data"
    }
   ],
   "source": [
    "Apt_dataset.hist(\"Sold Price\",bins=100)\n",
    "plt.legend(labels=['Sold Price'])"
   ]
  },
  {
   "cell_type": "code",
   "execution_count": 98,
   "metadata": {},
   "outputs": [
    {
     "name": "stdout",
     "output_type": "stream",
     "text": [
      "count    20356.000000\n",
      "mean        13.005906\n",
      "std          0.379822\n",
      "min         11.744037\n",
      "25%         12.765688\n",
      "50%         12.994530\n",
      "75%         13.235692\n",
      "max         14.232904\n",
      "Name: log price, dtype: float64\n"
     ]
    }
   ],
   "source": [
    "Apt_dataset[\"log price\"]=np.log(Apt_dataset['Sold Price'].tolist())\n",
    "print(Apt_dataset[\"log price\"].describe())"
   ]
  },
  {
   "cell_type": "code",
   "execution_count": 99,
   "metadata": {},
   "outputs": [
    {
     "data": {
      "text/plain": [
       "<matplotlib.legend.Legend at 0x7fbb424018e0>"
      ]
     },
     "execution_count": 99,
     "metadata": {},
     "output_type": "execute_result"
    },
    {
     "data": {
      "image/png": "[encoded data removed]",
      "text/plain": [
       "<Figure size 432x288 with 1 Axes>"
      ]
     },
     "metadata": {},
     "output_type": "display_data"
    }
   ],
   "source": [
    "Apt_dataset.hist(\"log price\",bins=100)\n",
    "plt.legend(labels=[\"Pc=Log('Sold Price')\"])"
   ]
  },
  {
   "cell_type": "code",
   "execution_count": 100,
   "metadata": {},
   "outputs": [
    {
     "data": {
      "text/html": [
       "<div>\n",
       "<style scoped>\n",
       "    .dataframe tbody tr th:only-of-type {\n",
       "        vertical-align: middle;\n",
       "    }\n",
       "\n",
       "    .dataframe tbody tr th {\n",
       "        vertical-align: top;\n",
       "    }\n",
       "\n",
       "    .dataframe thead th {\n",
       "        text-align: right;\n",
       "    }\n",
       "</style>\n",
       "<table border=\"1\" class=\"dataframe\">\n",
       "  <thead>\n",
       "    <tr style=\"text-align: right;\">\n",
       "      <th></th>\n",
       "      <th>price class</th>\n",
       "    </tr>\n",
       "  </thead>\n",
       "  <tbody>\n",
       "    <tr>\n",
       "      <th>3667</th>\n",
       "      <td>27</td>\n",
       "    </tr>\n",
       "    <tr>\n",
       "      <th>3669</th>\n",
       "      <td>27</td>\n",
       "    </tr>\n",
       "    <tr>\n",
       "      <th>3690</th>\n",
       "      <td>27</td>\n",
       "    </tr>\n",
       "    <tr>\n",
       "      <th>3707</th>\n",
       "      <td>27</td>\n",
       "    </tr>\n",
       "    <tr>\n",
       "      <th>3710</th>\n",
       "      <td>27</td>\n",
       "    </tr>\n",
       "    <tr>\n",
       "      <th>...</th>\n",
       "      <td>...</td>\n",
       "    </tr>\n",
       "    <tr>\n",
       "      <th>39789</th>\n",
       "      <td>0</td>\n",
       "    </tr>\n",
       "    <tr>\n",
       "      <th>39790</th>\n",
       "      <td>0</td>\n",
       "    </tr>\n",
       "    <tr>\n",
       "      <th>39793</th>\n",
       "      <td>0</td>\n",
       "    </tr>\n",
       "    <tr>\n",
       "      <th>39807</th>\n",
       "      <td>7</td>\n",
       "    </tr>\n",
       "    <tr>\n",
       "      <th>39846</th>\n",
       "      <td>1</td>\n",
       "    </tr>\n",
       "  </tbody>\n",
       "</table>\n",
       "<p>20356 rows × 1 columns</p>\n",
       "</div>"
      ],
      "text/plain": [
       "       price class\n",
       "3667            27\n",
       "3669            27\n",
       "3690            27\n",
       "3707            27\n",
       "3710            27\n",
       "...            ...\n",
       "39789            0\n",
       "39790            0\n",
       "39793            0\n",
       "39807            7\n",
       "39846            1\n",
       "\n",
       "[20356 rows x 1 columns]"
      ]
     },
     "execution_count": 100,
     "metadata": {},
     "output_type": "execute_result"
    }
   ],
   "source": [
    "# creat classes for sold price labl\n",
    "#df1['score_floor'] = df1['Score'].apply(np.floor)\n",
    "Apt_dataset[\"price class\"]=round((Apt_dataset['Sold Price']-150000)/50000).astype(int)\n",
    "Apt_dataset[[\"price class\"]]"
   ]
  },
  {
   "cell_type": "code",
   "execution_count": 101,
   "metadata": {},
   "outputs": [
    {
     "data": {
      "text/plain": [
       "<matplotlib.legend.Legend at 0x7fbb3fe60550>"
      ]
     },
     "execution_count": 101,
     "metadata": {},
     "output_type": "execute_result"
    },
    {
     "data": {
      "image/png": "[encoded data removed]",
      "text/plain": [
       "<Figure size 432x432 with 1 Axes>"
      ]
     },
     "metadata": {},
     "output_type": "display_data"
    }
   ],
   "source": [
    "#House_dataset[\"price class\"].value_counts().sort_index()\n",
    "fig = plt.figure(figsize =(6,6))\n",
    "ss=Apt_dataset['price class'].value_counts().sort_index()\n",
    "plt.bar(list(ss.keys()),list(ss.values))\n",
    "plt.legend(labels=[\"Pc=round((Ps-150k)/50k)\"])"
   ]
  },
  {
   "cell_type": "code",
   "execution_count": 102,
   "metadata": {},
   "outputs": [
    {
     "name": "stdout",
     "output_type": "stream",
     "text": [
      "count    2.035600e+04\n",
      "mean     4.711816e+05\n",
      "std      1.926249e+05\n",
      "min      9.990000e+04\n",
      "25%      3.490000e+05\n",
      "50%      4.299000e+05\n",
      "75%      5.490000e+05\n",
      "max      1.599900e+06\n",
      "Name: List Price, dtype: float64\n"
     ]
    }
   ],
   "source": [
    "print(Apt_dataset[\"List Price\"].describe())"
   ]
  },
  {
   "cell_type": "code",
   "execution_count": 103,
   "metadata": {},
   "outputs": [
    {
     "name": "stdout",
     "output_type": "stream",
     "text": [
      "count    20356.000000\n",
      "mean        19.031981\n",
      "std         21.390035\n",
      "min          0.000000\n",
      "25%          6.000000\n",
      "50%         12.000000\n",
      "75%         24.000000\n",
      "max        312.000000\n",
      "Name: Days on Market, dtype: float64\n"
     ]
    }
   ],
   "source": [
    "print(Apt_dataset['Days on Market'].describe())"
   ]
  },
  {
   "cell_type": "code",
   "execution_count": 104,
   "metadata": {},
   "outputs": [
    {
     "name": "stdout",
     "output_type": "stream",
     "text": [
      "count    20356.000000\n",
      "mean        11.522598\n",
      "std          6.692475\n",
      "min          0.000000\n",
      "25%          6.000000\n",
      "50%         11.000000\n",
      "75%         17.000000\n",
      "max         24.000000\n",
      "Name: Date, dtype: float64\n"
     ]
    }
   ],
   "source": [
    "print(Apt_dataset['Date'].describe())"
   ]
  },
  {
   "cell_type": "code",
   "execution_count": 105,
   "metadata": {},
   "outputs": [
    {
     "name": "stdout",
     "output_type": "stream",
     "text": [
      "<class 'pandas.core.frame.DataFrame'>\n",
      "Int64Index: 20356 entries, 3667 to 39846\n",
      "Data columns (total 87 columns):\n",
      " #   Column                Non-Null Count  Dtype  \n",
      "---  ------                --------------  -----  \n",
      " 0   Bedrooms AG           20356 non-null  float64\n",
      " 1   Bedrooms BG           20356 non-null  float64\n",
      " 2   Washrooms             20356 non-null  int64  \n",
      " 3   Family Room           20356 non-null  int64  \n",
      " 4   Square Feet           20356 non-null  int64  \n",
      " 5   Taxes                 20356 non-null  float64\n",
      " 6   Maint. Fees           20356 non-null  float64\n",
      " 7   AC Type               20356 non-null  int64  \n",
      " 8   Heat Type             20356 non-null  int64  \n",
      " 9   Heat included         20356 non-null  float64\n",
      " 10  Hydro Included        20356 non-null  float64\n",
      " 11  Parking Included      20356 non-null  float64\n",
      " 12  Locker                20356 non-null  int64  \n",
      " 13  Balcony               20356 non-null  int64  \n",
      " 14  Heat Source           20356 non-null  int64  \n",
      " 15  green_new             20356 non-null  float64\n",
      " 16  Bbqs Allowed          20356 non-null  int64  \n",
      " 17  Bike Storage          20356 non-null  int64  \n",
      " 18  Bus Ctr (Wifi Bldg)   20356 non-null  int64  \n",
      " 19  Car Wash              20356 non-null  int64  \n",
      " 20  Concierge             20356 non-null  int64  \n",
      " 21  Exercise Room         20356 non-null  int64  \n",
      " 22  Games Room            20356 non-null  int64  \n",
      " 23  Guest Suites          20356 non-null  int64  \n",
      " 24  Gym                   20356 non-null  int64  \n",
      " 25  Indoor Pool           20356 non-null  int64  \n",
      " 26  Lap Pool              20356 non-null  int64  \n",
      " 27  Media Room            20356 non-null  int64  \n",
      " 28  Outdoor Pool          20356 non-null  int64  \n",
      " 29  Party/Meeting Room    20356 non-null  int64  \n",
      " 30  Recreation Room       20356 non-null  int64  \n",
      " 31  Rooftop Deck/Garden   20356 non-null  int64  \n",
      " 32  Sauna                 20356 non-null  int64  \n",
      " 33  Security Guard        20356 non-null  int64  \n",
      " 34  Security System       20356 non-null  int64  \n",
      " 35  Squash/Racquet Court  20356 non-null  int64  \n",
      " 36  Tennis Court          20356 non-null  int64  \n",
      " 37  Visitor Parking       20356 non-null  int64  \n",
      " 38  Date                  20356 non-null  int64  \n",
      " 39  MortgageRate          20356 non-null  float64\n",
      " 40  Sale to List %        20356 non-null  float64\n",
      " 41  Days on Market        20356 non-null  int64  \n",
      " 42  Sold Price            20356 non-null  int64  \n",
      " 43  List Price            20356 non-null  int64  \n",
      " 44  Condo Apt             20356 non-null  int64  \n",
      " 45  Condo Townhouse       20356 non-null  int64  \n",
      " 46  Other Property        20356 non-null  int64  \n",
      " 47  Apartment             20356 non-null  int64  \n",
      " 48  Multi-Level           20356 non-null  int64  \n",
      " 49  Other Style           20356 non-null  int64  \n",
      " 50  Undergrnd Parking     20356 non-null  int64  \n",
      " 51  Other Parking         20356 non-null  int64  \n",
      " 52  C14                   20356 non-null  int64  \n",
      " 53  E11                   20356 non-null  int64  \n",
      " 54  C15                   20356 non-null  int64  \n",
      " 55  E04                   20356 non-null  int64  \n",
      " 56  C02                   20356 non-null  int64  \n",
      " 57  W03                   20356 non-null  int64  \n",
      " 58  C12                   20356 non-null  int64  \n",
      " 59  C07                   20356 non-null  int64  \n",
      " 60  E09                   20356 non-null  int64  \n",
      " 61  E02                   20356 non-null  int64  \n",
      " 62  C13                   20356 non-null  int64  \n",
      " 63  C04                   20356 non-null  int64  \n",
      " 64  W08                   20356 non-null  int64  \n",
      " 65  W06                   20356 non-null  int64  \n",
      " 66  W02                   20356 non-null  int64  \n",
      " 67  W09                   20356 non-null  int64  \n",
      " 68  C03                   20356 non-null  int64  \n",
      " 69  C09                   20356 non-null  int64  \n",
      " 70  E03                   20356 non-null  int64  \n",
      " 71  W01                   20356 non-null  int64  \n",
      " 72  C11                   20356 non-null  int64  \n",
      " 73  W05                   20356 non-null  int64  \n",
      " 74  C06                   20356 non-null  int64  \n",
      " 75  E07                   20356 non-null  int64  \n",
      " 76  E08                   20356 non-null  int64  \n",
      " 77  C08                   20356 non-null  int64  \n",
      " 78  E10                   20356 non-null  int64  \n",
      " 79  E05                   20356 non-null  int64  \n",
      " 80  E01                   20356 non-null  int64  \n",
      " 81  W04                   20356 non-null  int64  \n",
      " 82  W10                   20356 non-null  int64  \n",
      " 83  C10                   20356 non-null  int64  \n",
      " 84  C01                   20356 non-null  int64  \n",
      " 85  log price             20356 non-null  float64\n",
      " 86  price class           20356 non-null  int64  \n",
      "dtypes: float64(11), int64(76)\n",
      "memory usage: 13.7 MB\n"
     ]
    }
   ],
   "source": [
    "Apt_dataset.info()"
   ]
  },
  {
   "cell_type": "code",
   "execution_count": 106,
   "metadata": {},
   "outputs": [
    {
     "data": {
      "text/html": [
       "<div>\n",
       "<style scoped>\n",
       "    .dataframe tbody tr th:only-of-type {\n",
       "        vertical-align: middle;\n",
       "    }\n",
       "\n",
       "    .dataframe tbody tr th {\n",
       "        vertical-align: top;\n",
       "    }\n",
       "\n",
       "    .dataframe thead th {\n",
       "        text-align: right;\n",
       "    }\n",
       "</style>\n",
       "<table border=\"1\" class=\"dataframe\">\n",
       "  <thead>\n",
       "    <tr style=\"text-align: right;\">\n",
       "      <th></th>\n",
       "      <th>log price</th>\n",
       "    </tr>\n",
       "  </thead>\n",
       "  <tbody>\n",
       "    <tr>\n",
       "      <th>Taxes</th>\n",
       "      <td>0.835833</td>\n",
       "    </tr>\n",
       "    <tr>\n",
       "      <th>Sold Price</th>\n",
       "      <td>0.956616</td>\n",
       "    </tr>\n",
       "    <tr>\n",
       "      <th>List Price</th>\n",
       "      <td>0.935218</td>\n",
       "    </tr>\n",
       "    <tr>\n",
       "      <th>log price</th>\n",
       "      <td>1.000000</td>\n",
       "    </tr>\n",
       "    <tr>\n",
       "      <th>price class</th>\n",
       "      <td>0.953836</td>\n",
       "    </tr>\n",
       "  </tbody>\n",
       "</table>\n",
       "</div>"
      ],
      "text/plain": [
       "             log price\n",
       "Taxes         0.835833\n",
       "Sold Price    0.956616\n",
       "List Price    0.935218\n",
       "log price     1.000000\n",
       "price class   0.953836"
      ]
     },
     "execution_count": 106,
     "metadata": {},
     "output_type": "execute_result"
    }
   ],
   "source": [
    "corr=Apt_dataset.corr(method ='pearson')\n",
    "#corr\n",
    "corr[abs(corr[\"price class\"])>0.5][[\"log price\"]]\n"
   ]
  },
  {
   "cell_type": "code",
   "execution_count": 107,
   "metadata": {},
   "outputs": [
    {
     "name": "stdout",
     "output_type": "stream",
     "text": [
      "<class 'pandas.core.frame.DataFrame'>\n",
      "Int64Index: 20356 entries, 3667 to 39846\n",
      "Data columns (total 87 columns):\n",
      " #   Column                Non-Null Count  Dtype  \n",
      "---  ------                --------------  -----  \n",
      " 0   Bedrooms AG           20356 non-null  float64\n",
      " 1   Bedrooms BG           20356 non-null  float64\n",
      " 2   Washrooms             20356 non-null  int64  \n",
      " 3   Family Room           20356 non-null  int64  \n",
      " 4   Square Feet           20356 non-null  int64  \n",
      " 5   Taxes                 20356 non-null  float64\n",
      " 6   Maint. Fees           20356 non-null  float64\n",
      " 7   AC Type               20356 non-null  int64  \n",
      " 8   Heat Type             20356 non-null  int64  \n",
      " 9   Heat included         20356 non-null  float64\n",
      " 10  Hydro Included        20356 non-null  float64\n",
      " 11  Parking Included      20356 non-null  float64\n",
      " 12  Locker                20356 non-null  int64  \n",
      " 13  Balcony               20356 non-null  int64  \n",
      " 14  Heat Source           20356 non-null  int64  \n",
      " 15  green_new             20356 non-null  float64\n",
      " 16  Bbqs Allowed          20356 non-null  int64  \n",
      " 17  Bike Storage          20356 non-null  int64  \n",
      " 18  Bus Ctr (Wifi Bldg)   20356 non-null  int64  \n",
      " 19  Car Wash              20356 non-null  int64  \n",
      " 20  Concierge             20356 non-null  int64  \n",
      " 21  Exercise Room         20356 non-null  int64  \n",
      " 22  Games Room            20356 non-null  int64  \n",
      " 23  Guest Suites          20356 non-null  int64  \n",
      " 24  Gym                   20356 non-null  int64  \n",
      " 25  Indoor Pool           20356 non-null  int64  \n",
      " 26  Lap Pool              20356 non-null  int64  \n",
      " 27  Media Room            20356 non-null  int64  \n",
      " 28  Outdoor Pool          20356 non-null  int64  \n",
      " 29  Party/Meeting Room    20356 non-null  int64  \n",
      " 30  Recreation Room       20356 non-null  int64  \n",
      " 31  Rooftop Deck/Garden   20356 non-null  int64  \n",
      " 32  Sauna                 20356 non-null  int64  \n",
      " 33  Security Guard        20356 non-null  int64  \n",
      " 34  Security System       20356 non-null  int64  \n",
      " 35  Squash/Racquet Court  20356 non-null  int64  \n",
      " 36  Tennis Court          20356 non-null  int64  \n",
      " 37  Visitor Parking       20356 non-null  int64  \n",
      " 38  Date                  20356 non-null  int64  \n",
      " 39  MortgageRate          20356 non-null  float64\n",
      " 40  Sale to List %        20356 non-null  float64\n",
      " 41  Days on Market        20356 non-null  int64  \n",
      " 42  Sold Price            20356 non-null  int64  \n",
      " 43  List Price            20356 non-null  int64  \n",
      " 44  Condo Apt             20356 non-null  int64  \n",
      " 45  Condo Townhouse       20356 non-null  int64  \n",
      " 46  Other Property        20356 non-null  int64  \n",
      " 47  Apartment             20356 non-null  int64  \n",
      " 48  Multi-Level           20356 non-null  int64  \n",
      " 49  Other Style           20356 non-null  int64  \n",
      " 50  Undergrnd Parking     20356 non-null  int64  \n",
      " 51  Other Parking         20356 non-null  int64  \n",
      " 52  C14                   20356 non-null  int64  \n",
      " 53  E11                   20356 non-null  int64  \n",
      " 54  C15                   20356 non-null  int64  \n",
      " 55  E04                   20356 non-null  int64  \n",
      " 56  C02                   20356 non-null  int64  \n",
      " 57  W03                   20356 non-null  int64  \n",
      " 58  C12                   20356 non-null  int64  \n",
      " 59  C07                   20356 non-null  int64  \n",
      " 60  E09                   20356 non-null  int64  \n",
      " 61  E02                   20356 non-null  int64  \n",
      " 62  C13                   20356 non-null  int64  \n",
      " 63  C04                   20356 non-null  int64  \n",
      " 64  W08                   20356 non-null  int64  \n",
      " 65  W06                   20356 non-null  int64  \n",
      " 66  W02                   20356 non-null  int64  \n",
      " 67  W09                   20356 non-null  int64  \n",
      " 68  C03                   20356 non-null  int64  \n",
      " 69  C09                   20356 non-null  int64  \n",
      " 70  E03                   20356 non-null  int64  \n",
      " 71  W01                   20356 non-null  int64  \n",
      " 72  C11                   20356 non-null  int64  \n",
      " 73  W05                   20356 non-null  int64  \n",
      " 74  C06                   20356 non-null  int64  \n",
      " 75  E07                   20356 non-null  int64  \n",
      " 76  E08                   20356 non-null  int64  \n",
      " 77  C08                   20356 non-null  int64  \n",
      " 78  E10                   20356 non-null  int64  \n",
      " 79  E05                   20356 non-null  int64  \n",
      " 80  E01                   20356 non-null  int64  \n",
      " 81  W04                   20356 non-null  int64  \n",
      " 82  W10                   20356 non-null  int64  \n",
      " 83  C10                   20356 non-null  int64  \n",
      " 84  C01                   20356 non-null  int64  \n",
      " 85  log price             20356 non-null  float64\n",
      " 86  price class           20356 non-null  int64  \n",
      "dtypes: float64(11), int64(76)\n",
      "memory usage: 13.7 MB\n"
     ]
    }
   ],
   "source": [
    "Apt_dataset.info()"
   ]
  },
  {
   "cell_type": "code",
   "execution_count": 108,
   "metadata": {},
   "outputs": [
    {
     "data": {
      "text/plain": [
       "87"
      ]
     },
     "execution_count": 108,
     "metadata": {},
     "output_type": "execute_result"
    }
   ],
   "source": [
    "len(Apt_dataset.columns)"
   ]
  },
  {
   "cell_type": "code",
   "execution_count": 112,
   "metadata": {},
   "outputs": [
    {
     "data": {
      "text/html": [
       "<div>\n",
       "<style scoped>\n",
       "    .dataframe tbody tr th:only-of-type {\n",
       "        vertical-align: middle;\n",
       "    }\n",
       "\n",
       "    .dataframe tbody tr th {\n",
       "        vertical-align: top;\n",
       "    }\n",
       "\n",
       "    .dataframe thead th {\n",
       "        text-align: right;\n",
       "    }\n",
       "</style>\n",
       "<table border=\"1\" class=\"dataframe\">\n",
       "  <thead>\n",
       "    <tr style=\"text-align: right;\">\n",
       "      <th></th>\n",
       "      <th>Bedrooms AG</th>\n",
       "      <th>Bedrooms BG</th>\n",
       "      <th>Washrooms</th>\n",
       "      <th>Family Room</th>\n",
       "      <th>Square Feet</th>\n",
       "      <th>Taxes</th>\n",
       "      <th>Maint. Fees</th>\n",
       "      <th>AC Type</th>\n",
       "      <th>Heat Type</th>\n",
       "      <th>Heat included</th>\n",
       "      <th>...</th>\n",
       "      <th>C08</th>\n",
       "      <th>E10</th>\n",
       "      <th>E05</th>\n",
       "      <th>E01</th>\n",
       "      <th>W04</th>\n",
       "      <th>W10</th>\n",
       "      <th>C10</th>\n",
       "      <th>C01</th>\n",
       "      <th>log price</th>\n",
       "      <th>price class</th>\n",
       "    </tr>\n",
       "  </thead>\n",
       "  <tbody>\n",
       "    <tr>\n",
       "      <th>0</th>\n",
       "      <td>3.0</td>\n",
       "      <td>0.0</td>\n",
       "      <td>2</td>\n",
       "      <td>0</td>\n",
       "      <td>1900</td>\n",
       "      <td>5577.69</td>\n",
       "      <td>1855.0</td>\n",
       "      <td>1</td>\n",
       "      <td>1</td>\n",
       "      <td>1.0</td>\n",
       "      <td>...</td>\n",
       "      <td>0</td>\n",
       "      <td>0</td>\n",
       "      <td>0</td>\n",
       "      <td>0</td>\n",
       "      <td>0</td>\n",
       "      <td>0</td>\n",
       "      <td>0</td>\n",
       "      <td>0</td>\n",
       "      <td>14.232904</td>\n",
       "      <td>27</td>\n",
       "    </tr>\n",
       "    <tr>\n",
       "      <th>1</th>\n",
       "      <td>2.0</td>\n",
       "      <td>1.0</td>\n",
       "      <td>3</td>\n",
       "      <td>0</td>\n",
       "      <td>1700</td>\n",
       "      <td>4400.38</td>\n",
       "      <td>1622.0</td>\n",
       "      <td>1</td>\n",
       "      <td>1</td>\n",
       "      <td>1.0</td>\n",
       "      <td>...</td>\n",
       "      <td>0</td>\n",
       "      <td>0</td>\n",
       "      <td>0</td>\n",
       "      <td>0</td>\n",
       "      <td>0</td>\n",
       "      <td>0</td>\n",
       "      <td>0</td>\n",
       "      <td>1</td>\n",
       "      <td>14.232904</td>\n",
       "      <td>27</td>\n",
       "    </tr>\n",
       "    <tr>\n",
       "      <th>2</th>\n",
       "      <td>2.0</td>\n",
       "      <td>1.0</td>\n",
       "      <td>2</td>\n",
       "      <td>0</td>\n",
       "      <td>1500</td>\n",
       "      <td>6721.50</td>\n",
       "      <td>1049.0</td>\n",
       "      <td>1</td>\n",
       "      <td>1</td>\n",
       "      <td>1.0</td>\n",
       "      <td>...</td>\n",
       "      <td>0</td>\n",
       "      <td>0</td>\n",
       "      <td>0</td>\n",
       "      <td>0</td>\n",
       "      <td>0</td>\n",
       "      <td>0</td>\n",
       "      <td>0</td>\n",
       "      <td>1</td>\n",
       "      <td>14.227620</td>\n",
       "      <td>27</td>\n",
       "    </tr>\n",
       "    <tr>\n",
       "      <th>3</th>\n",
       "      <td>2.0</td>\n",
       "      <td>1.0</td>\n",
       "      <td>2</td>\n",
       "      <td>0</td>\n",
       "      <td>1700</td>\n",
       "      <td>9721.06</td>\n",
       "      <td>1435.0</td>\n",
       "      <td>1</td>\n",
       "      <td>1</td>\n",
       "      <td>1.0</td>\n",
       "      <td>...</td>\n",
       "      <td>0</td>\n",
       "      <td>0</td>\n",
       "      <td>0</td>\n",
       "      <td>0</td>\n",
       "      <td>0</td>\n",
       "      <td>0</td>\n",
       "      <td>0</td>\n",
       "      <td>1</td>\n",
       "      <td>14.224303</td>\n",
       "      <td>27</td>\n",
       "    </tr>\n",
       "    <tr>\n",
       "      <th>4</th>\n",
       "      <td>2.0</td>\n",
       "      <td>1.0</td>\n",
       "      <td>2</td>\n",
       "      <td>1</td>\n",
       "      <td>1700</td>\n",
       "      <td>6294.96</td>\n",
       "      <td>1750.0</td>\n",
       "      <td>1</td>\n",
       "      <td>0</td>\n",
       "      <td>0.0</td>\n",
       "      <td>...</td>\n",
       "      <td>0</td>\n",
       "      <td>0</td>\n",
       "      <td>0</td>\n",
       "      <td>0</td>\n",
       "      <td>0</td>\n",
       "      <td>0</td>\n",
       "      <td>0</td>\n",
       "      <td>0</td>\n",
       "      <td>14.224303</td>\n",
       "      <td>27</td>\n",
       "    </tr>\n",
       "    <tr>\n",
       "      <th>...</th>\n",
       "      <td>...</td>\n",
       "      <td>...</td>\n",
       "      <td>...</td>\n",
       "      <td>...</td>\n",
       "      <td>...</td>\n",
       "      <td>...</td>\n",
       "      <td>...</td>\n",
       "      <td>...</td>\n",
       "      <td>...</td>\n",
       "      <td>...</td>\n",
       "      <td>...</td>\n",
       "      <td>...</td>\n",
       "      <td>...</td>\n",
       "      <td>...</td>\n",
       "      <td>...</td>\n",
       "      <td>...</td>\n",
       "      <td>...</td>\n",
       "      <td>...</td>\n",
       "      <td>...</td>\n",
       "      <td>...</td>\n",
       "      <td>...</td>\n",
       "    </tr>\n",
       "    <tr>\n",
       "      <th>20351</th>\n",
       "      <td>2.0</td>\n",
       "      <td>0.0</td>\n",
       "      <td>1</td>\n",
       "      <td>0</td>\n",
       "      <td>850</td>\n",
       "      <td>653.58</td>\n",
       "      <td>686.0</td>\n",
       "      <td>1</td>\n",
       "      <td>0</td>\n",
       "      <td>1.0</td>\n",
       "      <td>...</td>\n",
       "      <td>0</td>\n",
       "      <td>0</td>\n",
       "      <td>0</td>\n",
       "      <td>0</td>\n",
       "      <td>0</td>\n",
       "      <td>0</td>\n",
       "      <td>0</td>\n",
       "      <td>0</td>\n",
       "      <td>11.751942</td>\n",
       "      <td>0</td>\n",
       "    </tr>\n",
       "    <tr>\n",
       "      <th>20352</th>\n",
       "      <td>3.0</td>\n",
       "      <td>0.0</td>\n",
       "      <td>2</td>\n",
       "      <td>0</td>\n",
       "      <td>1300</td>\n",
       "      <td>476.39</td>\n",
       "      <td>583.0</td>\n",
       "      <td>1</td>\n",
       "      <td>1</td>\n",
       "      <td>1.0</td>\n",
       "      <td>...</td>\n",
       "      <td>0</td>\n",
       "      <td>0</td>\n",
       "      <td>0</td>\n",
       "      <td>0</td>\n",
       "      <td>0</td>\n",
       "      <td>1</td>\n",
       "      <td>0</td>\n",
       "      <td>0</td>\n",
       "      <td>11.751942</td>\n",
       "      <td>0</td>\n",
       "    </tr>\n",
       "    <tr>\n",
       "      <th>20353</th>\n",
       "      <td>1.0</td>\n",
       "      <td>0.0</td>\n",
       "      <td>1</td>\n",
       "      <td>0</td>\n",
       "      <td>750</td>\n",
       "      <td>703.84</td>\n",
       "      <td>433.0</td>\n",
       "      <td>0</td>\n",
       "      <td>0</td>\n",
       "      <td>1.0</td>\n",
       "      <td>...</td>\n",
       "      <td>0</td>\n",
       "      <td>0</td>\n",
       "      <td>0</td>\n",
       "      <td>0</td>\n",
       "      <td>0</td>\n",
       "      <td>0</td>\n",
       "      <td>0</td>\n",
       "      <td>0</td>\n",
       "      <td>11.744037</td>\n",
       "      <td>0</td>\n",
       "    </tr>\n",
       "    <tr>\n",
       "      <th>20354</th>\n",
       "      <td>2.0</td>\n",
       "      <td>0.0</td>\n",
       "      <td>2</td>\n",
       "      <td>0</td>\n",
       "      <td>950</td>\n",
       "      <td>2441.48</td>\n",
       "      <td>675.0</td>\n",
       "      <td>1</td>\n",
       "      <td>1</td>\n",
       "      <td>1.0</td>\n",
       "      <td>...</td>\n",
       "      <td>0</td>\n",
       "      <td>0</td>\n",
       "      <td>0</td>\n",
       "      <td>0</td>\n",
       "      <td>0</td>\n",
       "      <td>0</td>\n",
       "      <td>0</td>\n",
       "      <td>0</td>\n",
       "      <td>13.151922</td>\n",
       "      <td>7</td>\n",
       "    </tr>\n",
       "    <tr>\n",
       "      <th>20355</th>\n",
       "      <td>2.0</td>\n",
       "      <td>0.0</td>\n",
       "      <td>1</td>\n",
       "      <td>0</td>\n",
       "      <td>950</td>\n",
       "      <td>996.00</td>\n",
       "      <td>513.0</td>\n",
       "      <td>0</td>\n",
       "      <td>0</td>\n",
       "      <td>1.0</td>\n",
       "      <td>...</td>\n",
       "      <td>0</td>\n",
       "      <td>0</td>\n",
       "      <td>0</td>\n",
       "      <td>0</td>\n",
       "      <td>0</td>\n",
       "      <td>0</td>\n",
       "      <td>0</td>\n",
       "      <td>0</td>\n",
       "      <td>12.100712</td>\n",
       "      <td>1</td>\n",
       "    </tr>\n",
       "  </tbody>\n",
       "</table>\n",
       "<p>20356 rows × 87 columns</p>\n",
       "</div>"
      ],
      "text/plain": [
       "       Bedrooms AG  Bedrooms BG  Washrooms  Family Room  Square Feet    Taxes  \\\n",
       "0              3.0          0.0          2            0         1900  5577.69   \n",
       "1              2.0          1.0          3            0         1700  4400.38   \n",
       "2              2.0          1.0          2            0         1500  6721.50   \n",
       "3              2.0          1.0          2            0         1700  9721.06   \n",
       "4              2.0          1.0          2            1         1700  6294.96   \n",
       "...            ...          ...        ...          ...          ...      ...   \n",
       "20351          2.0          0.0          1            0          850   653.58   \n",
       "20352          3.0          0.0          2            0         1300   476.39   \n",
       "20353          1.0          0.0          1            0          750   703.84   \n",
       "20354          2.0          0.0          2            0          950  2441.48   \n",
       "20355          2.0          0.0          1            0          950   996.00   \n",
       "\n",
       "       Maint. Fees  AC Type  Heat Type  Heat included  ...  C08  E10  E05  \\\n",
       "0           1855.0        1          1            1.0  ...    0    0    0   \n",
       "1           1622.0        1          1            1.0  ...    0    0    0   \n",
       "2           1049.0        1          1            1.0  ...    0    0    0   \n",
       "3           1435.0        1          1            1.0  ...    0    0    0   \n",
       "4           1750.0        1          0            0.0  ...    0    0    0   \n",
       "...            ...      ...        ...            ...  ...  ...  ...  ...   \n",
       "20351        686.0        1          0            1.0  ...    0    0    0   \n",
       "20352        583.0        1          1            1.0  ...    0    0    0   \n",
       "20353        433.0        0          0            1.0  ...    0    0    0   \n",
       "20354        675.0        1          1            1.0  ...    0    0    0   \n",
       "20355        513.0        0          0            1.0  ...    0    0    0   \n",
       "\n",
       "       E01  W04  W10  C10  C01  log price  price class  \n",
       "0        0    0    0    0    0  14.232904           27  \n",
       "1        0    0    0    0    1  14.232904           27  \n",
       "2        0    0    0    0    1  14.227620           27  \n",
       "3        0    0    0    0    1  14.224303           27  \n",
       "4        0    0    0    0    0  14.224303           27  \n",
       "...    ...  ...  ...  ...  ...        ...          ...  \n",
       "20351    0    0    0    0    0  11.751942            0  \n",
       "20352    0    0    1    0    0  11.751942            0  \n",
       "20353    0    0    0    0    0  11.744037            0  \n",
       "20354    0    0    0    0    0  13.151922            7  \n",
       "20355    0    0    0    0    0  12.100712            1  \n",
       "\n",
       "[20356 rows x 87 columns]"
      ]
     },
     "execution_count": 112,
     "metadata": {},
     "output_type": "execute_result"
    }
   ],
   "source": [
    "Apt_dataset.to_csv(\"Apt_dataset.csv\",index=False)\n",
    "pd.read_csv(\"Apt_dataset.csv\")"
   ]
  },
  {
   "cell_type": "code",
   "execution_count": 109,
   "metadata": {},
   "outputs": [],
   "source": [
    "#Heat Maps\n",
    "#fig=plt.gcf()\n",
    "#fig.set_size_inches(10,7)\n",
    "#fig=sns.heatmap(corr[corr>0.2],annot=True,cmap='cubehelix',linewidths=1,linecolor='k',square=True,mask=False, vmin=-1, vmax=1,cbar_kws={\"orientation\": \"vertical\"},cbar=True)"
   ]
  }
 ],
 "metadata": {
  "kernelspec": {
   "display_name": "Python 3",
   "language": "python",
   "name": "python3"
  },
  "language_info": {
   "codemirror_mode": {
    "name": "ipython",
    "version": 3
   },
   "file_extension": ".py",
   "mimetype": "text/x-python",
   "name": "python",
   "nbconvert_exporter": "python",
   "pygments_lexer": "ipython3",
   "version": "3.8.5"
  }
 },
 "nbformat": 4,
 "nbformat_minor": 4
}
